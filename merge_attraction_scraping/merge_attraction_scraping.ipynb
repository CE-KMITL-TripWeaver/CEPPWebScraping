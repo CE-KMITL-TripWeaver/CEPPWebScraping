{
 "cells": [
  {
   "cell_type": "code",
   "execution_count": 14,
   "metadata": {},
   "outputs": [],
   "source": [
    "import sys\n",
    "import os\n",
    "import glob\n",
    "import time\n",
    "import pandas as pd\n",
    "import numpy as np\n",
    "\n",
    "sys.path.append('..')\n",
    "import constants.constants as const\n",
    "import constants.file_handler_constants as fh\n",
    "from constants.attraction_constants import *\n",
    "\n",
    "from packages.attraction.Attraction import *\n",
    "from packages.file_handler_package.file_handler import *"
   ]
  },
  {
   "cell_type": "code",
   "execution_count": 15,
   "metadata": {},
   "outputs": [
    {
     "name": "stdout",
     "output_type": "stream",
     "text": [
      "Directory res_merge_attraction created successfully\n"
     ]
    }
   ],
   "source": [
    "# this module is use for merge dataframe of all page in selected province from 'mulProcess_attraction_scraping_proxy'\n",
    "\n",
    "# ** select a province by index of 'ALL_PROVINCE_TRIPADVISOR_DATA' (manually)\n",
    "Idx_of_region = 0\n",
    "cur_region_data = ALL_PROVINCE_TRIPADVISOR_DATA[Idx_of_region]\n",
    "\n",
    "#\n",
    "cur_province_en = cur_region_data[0]\n",
    "\n",
    "all_res_scraping_province = glob.glob(os.path.join(fh.STORE_ATTRACTION_SCRAPING, \"res_attraction_scraping\", 'res_attraction_%s' % (cur_province_en), '*.csv'))\n",
    "\n",
    "res_merge_df = pd.DataFrame()\n",
    "for cur_page_path in all_res_scraping_province:\n",
    "    cur_page_df = pd.read_csv(cur_page_path)\n",
    "    res_merge_df = pd.concat([res_merge_df, cur_page_df])\n",
    "\n",
    "# remove duplicate attraction \n",
    "res_merge_df.drop_duplicates(subset=['name'], inplace=True)\n",
    "# remove row with missing latitude\n",
    "# Drop rows with 'latitude' or 'longitude' equal to 0\n",
    "res_merge_df = res_merge_df[(res_merge_df['latitude'] != 0) & (res_merge_df['longitude'] != 0)]\n",
    "# set new index\n",
    "res_merge_df.set_index(['name'], inplace=True)\n",
    "\n",
    "# create directory to store result of merging attraction by a province\n",
    "createDirectory(fh.STORE_MERGE_ATTRACTION_SCRAPING, 'res_merge_attraction')\n",
    "\n",
    "# save result dataframe to .csv \n",
    "# for example: 'res_merge_attraction_Phuket.csv'\n",
    "res_file_name = 'res_merge_attraction_%s.csv' % (cur_province_en)\n",
    "res_path = os.path.join(fh.STORE_MERGE_ATTRACTION_SCRAPING, 'res_merge_attraction', res_file_name) \n",
    "res_merge_df.to_csv(res_path, encoding=\"utf-8\")\n"
   ]
  },
  {
   "cell_type": "code",
   "execution_count": null,
   "metadata": {},
   "outputs": [],
   "source": []
  }
 ],
 "metadata": {
  "kernelspec": {
   "display_name": "Python 3",
   "language": "python",
   "name": "python3"
  },
  "language_info": {
   "codemirror_mode": {
    "name": "ipython",
    "version": 3
   },
   "file_extension": ".py",
   "mimetype": "text/x-python",
   "name": "python",
   "nbconvert_exporter": "python",
   "pygments_lexer": "ipython3",
   "version": "3.12.2"
  }
 },
 "nbformat": 4,
 "nbformat_minor": 2
}
