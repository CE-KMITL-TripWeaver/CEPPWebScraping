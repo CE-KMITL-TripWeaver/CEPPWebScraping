{
 "cells": [
  {
   "cell_type": "code",
   "execution_count": 7,
   "metadata": {},
   "outputs": [],
   "source": [
    "from bs4 import BeautifulSoup\n",
    "from selenium import webdriver\n",
    "import pyautogui\n",
    "import re\n",
    "from bs4 import BeautifulSoup\n",
    "import sys\n",
    "sys.path.append('..')\n",
    "import constants.constants as const\n",
    "import constants.file_handler_constants as fh\n",
    "from constants.attraction_constants import *\n",
    "\n",
    "from packages.attraction.Attraction import *\n",
    "from packages.file_handler_package.file_handler import *\n",
    "from packages.attraction.mulProcess_attraction_scraping_proxy import *\n",
    "\n",
    "import os\n",
    "import glob\n",
    "import time\n",
    "import pandas as pd\n",
    "import numpy as np\n",
    "from dotenv import load_dotenv, dotenv_values \n",
    "\n",
    "from multiprocessing import Pool\n",
    "from functools import partial"
   ]
  },
  {
   "cell_type": "code",
   "execution_count": 8,
   "metadata": {},
   "outputs": [
    {
     "name": "stdout",
     "output_type": "stream",
     "text": [
      "check page number list: \n",
      "[46 47 48 49 50]\n",
      "end process for province --> ภูเก็ต \n",
      "check len of list result dataframe -->  5\n",
      "cur_df --> page :  46\n",
      "len cur_df -->  5\n",
      "cur_df --> page :  47\n",
      "len cur_df -->  8\n",
      "cur_df --> page :  48\n",
      "len cur_df -->  8\n",
      "cur_df --> page :  49\n",
      "len cur_df -->  10\n",
      "cur_df --> page :  50\n",
      "len cur_df -->  7\n",
      "Directory res_attraction_scraping\\res_attraction_Phuket created successfully\n"
     ]
    }
   ],
   "source": [
    "# *** select one province from 'ALL_PROVINCE_TRIPADVISOR_DATA'\n",
    "# *** so, change \"Idx_of_region\" everytime when scrape another province\n",
    "Idx_of_region = 0\n",
    "cur_region_data = ALL_PROVINCE_TRIPADVISOR_DATA[Idx_of_region]\n",
    "\n",
    "# select first and last page to scrape\n",
    "first_page = 46\n",
    "last_page = 50\n",
    "\n",
    "cur_province_en = cur_region_data[0]\n",
    "cur_province_th = cur_region_data[1]\n",
    "cur_province_url = cur_region_data[2]\n",
    "\n",
    "# create list of : [1, 2, 3, ...., last_page]\n",
    "page_number_list = np.arange(first_page, last_page + 1)\n",
    "print(\"check page number list: \")\n",
    "print(page_number_list)\n",
    "\n",
    "# get list of dataframe result of all Attraction in a province\n",
    "# res_allAttractions_list = []\n",
    "with Pool(processes=5) as pool: \n",
    "    func_param_fix = partial(mulProcess_helper_scrape_attractions_by_province, province_url = cur_province_url, province = cur_province_th)\n",
    "    res_allAttractions_list = pool.map(func_param_fix, page_number_list)\n",
    "    print(\"end process for province --> %s \" % (cur_province_th))\n",
    "\n",
    "# concat all dataframe into a final dataframe to save in csv.\n",
    "res_allAttractions_df = pd.DataFrame()\n",
    "print(\"check len of list result dataframe --> \", len(res_allAttractions_list))\n",
    "for Idx, cur_df in list(enumerate(res_allAttractions_list)):\n",
    "    print(\"cur_df --> page : \", Idx + first_page)\n",
    "    print(\"len cur_df --> \", len(cur_df))\n",
    "    res_allAttractions_df = pd.concat([res_allAttractions_df, cur_df])\n",
    "\n",
    "# don't forget to remove row with lat/long be zero\n",
    "\n",
    "# remove duplicate attraction\n",
    "res_allAttractions_df.drop_duplicates(subset=['name'], inplace=True)\n",
    "# remove row with missing latitude\n",
    "# Drop rows with 'latitude' or 'longitude' equal to 0\n",
    "res_allAttractions_df = res_allAttractions_df[(res_allAttractions_df['latitude'] != 0) & (res_allAttractions_df['longitude'] != 0)]\n",
    "# set new index\n",
    "res_allAttractions_df.set_index(['name'], inplace=True)\n",
    "\n",
    "# create directory to store result of scraping attraction\n",
    "# for example: 'attraction_scraping\\res_attraction_scraping\\res_attraction_Phuket'\n",
    "createDirectory(fh.STORE_ATTRACTION_SCRAPING, os.path.join('res_attraction_scraping', 'res_attraction_%s' % (cur_province_en)))\n",
    "\n",
    "# save result dataframe to .csv\n",
    "# for example: 'res_attraction_Phuket_page_1_44.csv'\n",
    "res_file_name = 'res_attraction_%s_page_%s_%s.csv' % (cur_province_en, first_page, last_page)\n",
    "res_path = os.path.join(fh.STORE_ATTRACTION_SCRAPING, 'res_attraction_scraping', 'res_attraction_%s' % (cur_province_en), res_file_name)\n",
    "res_allAttractions_df.to_csv(res_path, encoding=\"utf-8\")\n",
    "    "
   ]
  },
  {
   "cell_type": "code",
   "execution_count": null,
   "metadata": {},
   "outputs": [],
   "source": []
  }
 ],
 "metadata": {
  "kernelspec": {
   "display_name": "Python 3",
   "language": "python",
   "name": "python3"
  },
  "language_info": {
   "codemirror_mode": {
    "name": "ipython",
    "version": 3
   },
   "file_extension": ".py",
   "mimetype": "text/x-python",
   "name": "python",
   "nbconvert_exporter": "python",
   "pygments_lexer": "ipython3",
   "version": "3.12.2"
  }
 },
 "nbformat": 4,
 "nbformat_minor": 2
}
