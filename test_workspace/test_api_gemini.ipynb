{
 "cells": [
  {
   "cell_type": "code",
   "execution_count": 39,
   "metadata": {},
   "outputs": [],
   "source": [
    "import sys\n",
    "sys.path.append('..')\n",
    "import constants.file_handler_constants as fh\n",
    "from packages.attraction.Attraction import *\n",
    "from packages.file_handler_package.file_handler import *\n",
    "import os\n",
    "import glob\n",
    "import requests\n",
    "import pandas as pd\n",
    "import numpy as np\n",
    "from dotenv import load_dotenv, dotenv_values \n",
    "import google.generativeai as genai\n",
    "from google.generativeai.types import ContentType\n",
    "from PIL import Image\n",
    "from IPython.display import Markdown\n",
    "import time"
   ]
  },
  {
   "cell_type": "code",
   "execution_count": 40,
   "metadata": {},
   "outputs": [
    {
     "name": "stdout",
     "output_type": "stream",
     "text": [
      "Directory temp created successfully\n",
      "{\"Tourism\":0.6,\"Adventure\":0.2,\"Meditation\":0.4,\"Art\":0.2,\"Cultural\":0.3,\"Landscape\":0.8,\"Nature\":0.9,\"Historical\":0.1,\"Cityscape\":0.1,\"Beach\":0,\"Mountain\":0,\"Architecture\":0.1,\"Temple\":0,\"WalkingStreet\":0,\"Market\":0,\"Village\":0,\"NationalPark\":0.2,\"Diving\":0,\"Snuggle\":0.3,\"Waterfall\":0,\"Island\":0,\"Shopping\":0,\"Camping\":0.2,\"Fog\":0,\"Cycling\":0.3,\"Monument\":0,\"Zoo\":0,\"Waterpark\":0,\"Hiking\":0.1,\"Museum\":0,\"Riverside\":0.7,\"NightLife\":0,\"Family\":0.8,\"Kid\":0.6,\"Landmark\":0.3,\"Forest\":0.2}\n"
     ]
    }
   ],
   "source": [
    "# loading variables from .env file\n",
    "load_dotenv() \n",
    "\n",
    "# URL of the image\n",
    "url = 'https://lh5.googleusercontent.com/p/AF1QipPhBrKVM7rDPdsEYkRyBj4od__7PuyqvKooMUJz=s483-k-no' \n",
    "isDownload = False\n",
    "response = requests.get(url)\n",
    "createDirectory(os.curdir, 'temp')\n",
    "if response.status_code == 200:\n",
    "    filename = 'temp/temp_img.jpeg' # You can name the file as you want\n",
    "    with open(filename, 'wb') as file:\n",
    "        file.write(response.content)\n",
    "    isDownload = True\n",
    "\n",
    "\n",
    "## send api to get score for current attraction (send with query and main image)\n",
    "\n",
    "genai.configure(api_key=os.getenv(\"GOOGLE_API_KEY\"))\n",
    "model = genai.GenerativeModel('gemini-1.5-pro-latest')\n",
    "text_prompt = \"Provide place name, latitude, and longitude. I will return a JSON string containing scores (0-1) for following attributes(nothing else no other sentences)\" + \\\n",
    "\"\\nfor example: \\'{\\\"Tourism\\\":0,\\\"Adventure\\\":0,\\\"Meditation\\\":0,\\\"Art\\\":0,\\\"Cultural\\\":0,\\\"Landscape\\\":0,\\\"Nature\\\":0,\\\"Historical\\\":0,\\\"Cityscape\\\":0,\\\"Beach\\\":0,\\\"Mountain\\\":0,\\\"Architecture\\\":0,\\\"Temple\\\":0,\\\"WalkingStreet\\\":0,\\\"Market\\\":0,\\\"Village\\\":0,\\\"NationalPark\\\":0,\\\"Diving\\\":0,\\\"Snuggle\\\":0,\\\"Waterfall\\\":0,\\\"Island\\\":0,\\\"Shopping\\\":0,\\\"Camping\\\":0,\\\"Fog\\\":0,\\\"Cycling\\\":0,\\\"Monument\\\":0,\\\"Zoo\\\":0,\\\"Waterpark\\\":0,\\\"Hiking\\\":0,\\\"Museum\\\":0,\\\"Riverside\\\":0,\\\"NightLife\\\":0,\\\"Family\\\":0,\\\"Kid\\\":0,\\\"Landmark\\\":0,\\\"Forest\\\":0}\" + \\\n",
    "\"\\nสวนพฤกษชาติคลองจั่น, 13.7763497, 100.6478002 give me score for this\"\n",
    "\n",
    "# prompt the model\n",
    "prompt = [text_prompt]\n",
    "if(isDownload):\n",
    "    img_prompt = Image.open('temp/temp_img.jpeg')\n",
    "    prompt.append(img_prompt)\n",
    "response = model.generate_content(prompt)\n",
    "\n",
    "# remove temp image\n",
    "if(isDownload):\n",
    "    os.remove('temp/temp_img.jpeg')\n",
    "\n",
    "res_start_Idx = response.text.find('{')\n",
    "res_end_Idx = response.text.find('}')\n",
    "res_score = response.text[res_start_Idx:res_end_Idx+1]\n",
    "print(res_score)"
   ]
  },
  {
   "cell_type": "code",
   "execution_count": 41,
   "metadata": {},
   "outputs": [
    {
     "name": "stdout",
     "output_type": "stream",
     "text": [
      "Provide place name, latitude, and longitude. I will return a JSON string containing scores (0-1) for following attributes(nothing else no other sentences)\n",
      "for example: '{\"Tourism\":0,\"Adventure\":0,\"Meditation\":0,\"Art\":0,\"Cultural\":0,\"Landscape\":0,\"Nature\":0,\"Historical\":0,\"Cityscape\":0,\"Beach\":0,\"Mountain\":0,\"Architecture\":0,\"Temple\":0,\"WalkingStreet\":0,\"Market\":0,\"Village\":0,\"NationalPark\":0,\"Diving\":0,\"Snuggle\":0,\"Waterfall\":0,\"Island\":0,\"Shopping\":0,\"Camping\":0,\"Fog\":0,\"Cycling\":0,\"Monument\":0,\"Zoo\":0,\"Waterpark\":0,\"Hiking\":0,\"Museum\":0,\"Riverside\":0,\"NightLife\":0,\"Family\":0,\"Kid\":0,\"Landmark\":0,\"Forest\":0}\n",
      "Siam Paragon, 13.7464265, 100.5322802 give me score for this\n"
     ]
    }
   ],
   "source": [
    "test = \"Provide place name, latitude, and longitude. I will return a JSON string containing scores (0-1) for following attributes(nothing else no other sentences)\" + \\\n",
    "\"\\nfor example: \\'{\\\"Tourism\\\":0,\\\"Adventure\\\":0,\\\"Meditation\\\":0,\\\"Art\\\":0,\\\"Cultural\\\":0,\\\"Landscape\\\":0,\\\"Nature\\\":0,\\\"Historical\\\":0,\\\"Cityscape\\\":0,\\\"Beach\\\":0,\\\"Mountain\\\":0,\\\"Architecture\\\":0,\\\"Temple\\\":0,\\\"WalkingStreet\\\":0,\\\"Market\\\":0,\\\"Village\\\":0,\\\"NationalPark\\\":0,\\\"Diving\\\":0,\\\"Snuggle\\\":0,\\\"Waterfall\\\":0,\\\"Island\\\":0,\\\"Shopping\\\":0,\\\"Camping\\\":0,\\\"Fog\\\":0,\\\"Cycling\\\":0,\\\"Monument\\\":0,\\\"Zoo\\\":0,\\\"Waterpark\\\":0,\\\"Hiking\\\":0,\\\"Museum\\\":0,\\\"Riverside\\\":0,\\\"NightLife\\\":0,\\\"Family\\\":0,\\\"Kid\\\":0,\\\"Landmark\\\":0,\\\"Forest\\\":0}\" + \\\n",
    "\"\\nSiam Paragon, 13.7464265, 100.5322802 give me score for this\"\n",
    "print(test)"
   ]
  },
  {
   "cell_type": "code",
   "execution_count": 42,
   "metadata": {},
   "outputs": [
    {
     "name": "stdout",
     "output_type": "stream",
     "text": [
      "'\n"
     ]
    }
   ],
   "source": [
    "print('\\'')"
   ]
  },
  {
   "cell_type": "code",
   "execution_count": 43,
   "metadata": {},
   "outputs": [
    {
     "name": "stdout",
     "output_type": "stream",
     "text": [
      "for example: '{\"Tourism\":0,\"Camping\":0,\"Kid\":0,\"Landmark\":0,\"Forest\":0}'\n"
     ]
    }
   ],
   "source": [
    "print(\"for example: \\'{\\\"Tourism\\\":0,\\\"Camping\\\":0,\\\"Kid\\\":0,\\\"Landmark\\\":0,\\\"Forest\\\":0}'\")"
   ]
  },
  {
   "cell_type": "code",
   "execution_count": null,
   "metadata": {},
   "outputs": [],
   "source": []
  }
 ],
 "metadata": {
  "kernelspec": {
   "display_name": "Python 3",
   "language": "python",
   "name": "python3"
  },
  "language_info": {
   "codemirror_mode": {
    "name": "ipython",
    "version": 3
   },
   "file_extension": ".py",
   "mimetype": "text/x-python",
   "name": "python",
   "nbconvert_exporter": "python",
   "pygments_lexer": "ipython3",
   "version": "3.12.2"
  }
 },
 "nbformat": 4,
 "nbformat_minor": 2
}
