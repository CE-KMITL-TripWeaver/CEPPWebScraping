{
 "cells": [
  {
   "cell_type": "code",
   "execution_count": 62,
   "metadata": {},
   "outputs": [],
   "source": [
    "import sys\n",
    "sys.path.append('..')\n",
    "import constants.file_handler_constants as fh\n",
    "from packages.attraction.Attraction import *\n",
    "from packages.file_handler_package.file_handler import *\n",
    "import os\n",
    "import glob\n",
    "import requests\n",
    "import pandas as pd\n",
    "import numpy as np\n",
    "from dotenv import load_dotenv, dotenv_values \n",
    "import google.generativeai as genai\n",
    "from google.generativeai.types import ContentType\n",
    "from PIL import Image\n",
    "from IPython.display import Markdown\n",
    "import time\n",
    "\n",
    "import json"
   ]
  },
  {
   "cell_type": "code",
   "execution_count": 52,
   "metadata": {},
   "outputs": [
    {
     "name": "stdout",
     "output_type": "stream",
     "text": [
      "Directory temp created successfully\n",
      "{\"Tourism\": 0.8, \"Adventure\": 0.2, \"Meditation\": 0.1, \"Art\": 0.3, \"Cultural\": 0.9, \"Landscape\": 0.4, \"Nature\": 0.3, \"Historical\": 0.7, \"Cityscape\": 0.1, \"Beach\": 0, \"Mountain\": 0, \"Architecture\": 0.2, \"Temple\": 0.6, \"WalkingStreet\": 0.1, \"Market\": 0.7, \"Village\": 0.9, \"NationalPark\": 0, \"Diving\": 0, \"Snuggle\": 0, \"Waterfall\": 0, \"Island\": 0, \"Shopping\": 0.2, \"Camping\": 0, \"Fog\": 0, \"Cycling\": 0.1, \"Monument\": 0, \"Zoo\": 0, \"Waterpark\": 0, \"Hiking\": 0, \"Museum\": 0.1, \"Riverside\": 1.0, \"NightLife\": 0, \"Family\": 0.5, \"Kid\": 0.2, \"Landmark\": 0.2, \"Forest\": 0}\n"
     ]
    }
   ],
   "source": [
    "createDirectory(os.curdir, 'temp')\n",
    "# loading variables from .env file\n",
    "load_dotenv() \n",
    "\n",
    "# URL of the image\n",
    "all_img_url = ['https://lh5.googleusercontent.com/p/AF1QipP1FKj5WaMEZjBw--nU9NRM0fb8y_Dc9gAyINMG=s483-k-no', \n",
    "               'https://lh5.googleusercontent.com/p/AF1QipPHdiEQzV1-UTx2uw3ClV3y9DYdk6cG-npwpfY=s846-k-no', \n",
    "               'https://lh5.googleusercontent.com/p/AF1QipO5-fmJEGgV--VHolyOp8zy6C4s1tqNL_9oSMW2=s508-k-no', \n",
    "               'https://lh5.googleusercontent.com/p/AF1QipNzhoLzYcGI1_BIsp6QpimaUmo-XhJ2ZAEUak9p=s644-k-no', \n",
    "               'https://lh5.googleusercontent.com/p/AF1QipMmUEYH_-Fe9NdfZQfF02txCgftNQJC-d9ony7v=s846-k-no', 'https://lh5.googleusercontent.com/p/AF1QipNxPsgNP1Dqj2Hdb5ldxotfmYkOKr1btZ_24sdW=s641-k-no', 'https://lh5.googleusercontent.com/p/AF1QipPz8FjBrcGDx6CEgjJVnFTB7zEFALOqoCYYIeyn=s563-k-no', 'https://lh5.googleusercontent.com/p/AF1QipPCf2no1tlEOcy7opR_S_kudr-uN-9Fa-57IpeJ=s483-k-no', 'https://lh5.googleusercontent.com/p/AF1QipM5TNd8WZKZSbG_lpZaopHV9zF7FL7RxWz4Kony=s635-k-no', 'https://lh5.googleusercontent.com/p/AF1QipPiRPVpvFaJ6FV3rWY_gxGGz6nhHXrlZdRVvk_l=s544-k-no', 'https://lh5.googleusercontent.com/p/AF1QipPZzYEWBwERCvbsFVBZKjCBQDc6mrF4HmnFdFEJ=s508-k-no', 'https://lh5.googleusercontent.com/p/AF1QipOHSYh7CkUgPpXAyO9MKYclp25iQVL_SenfLiRd=s483-k-no', 'https://lh5.googleusercontent.com/p/AF1QipN7P2epvcchZ1Pb10ISYRTIywnBVG-nMpPIc-Ak=s563-k-no', 'https://lh5.googleusercontent.com/p/AF1QipNp-rE6cd7laHQEdTHjIWJQMBhscydxgMXoRare=s483-k-no', 'https://lh5.googleusercontent.com/p/AF1QipM0_HRR4EVarkObtPRAyQjuH5XvI4hzMBxIGU1R=s644-k-no', 'https://lh5.googleusercontent.com/p/AF1QipOGtXxzBaPC85Yq4ifR6MlezRGlgTxIWnwmo1pN=s483-k-no', 'https://lh5.googleusercontent.com/p/AF1QipPTKzNu-yLhQGvtJaDfouU6M_iDKb9g9WDE2mVe=s483-k-no', 'https://lh5.googleusercontent.com/p/AF1QipNUHkdiEppwzFp6SeUUF11V7v3Iw0n31q7L9Lfx=s483-k-no', 'https://lh5.googleusercontent.com/p/AF1QipMUQhWBXdww1hRM-GNvSfbZ40vvgFT-0v0rmkr2=s483-k-no', 'https://lh5.googleusercontent.com/p/AF1QipN61ebAcAA32E4NQMPcgYC22bQTQIFyMSAFfBIt=s508-k-no', \n",
    "               'https://lh5.googleusercontent.com/p/AF1QipMNPU5onZHTbpkyxYb7C2yjpoAW9xXweM9PSzHF=s623-k-no']\n",
    "\n",
    "\n",
    "for cur_url in all_img_url:\n",
    "    response = requests.get(cur_url)\n",
    "    if response.status_code == 200:\n",
    "        filename = 'temp/{0}.jpeg'.format(cur_url.split('/')[-1])\n",
    "        with open(filename, 'wb') as file:\n",
    "            file.write(response.content)\n",
    "\n",
    "\n",
    "## send api to get score for current attraction (send with query and main image)\n",
    "genai.configure(api_key=os.getenv(\"GOOGLE_API_KEY\"))\n",
    "model = genai.GenerativeModel('gemini-1.5-pro-latest')\n",
    "text_prompt = \"Provide place name, latitude, and longitude. I will return a JSON string containing scores (0-1) for following attributes(nothing else no other sentences)\" + \\\n",
    "\"\\nfor example: \\'{\\\"Tourism\\\":0,\\\"Adventure\\\":0,\\\"Meditation\\\":0,\\\"Art\\\":0,\\\"Cultural\\\":0,\\\"Landscape\\\":0,\\\"Nature\\\":0,\\\"Historical\\\":0,\\\"Cityscape\\\":0,\\\"Beach\\\":0,\\\"Mountain\\\":0,\\\"Architecture\\\":0,\\\"Temple\\\":0,\\\"WalkingStreet\\\":0,\\\"Market\\\":0,\\\"Village\\\":0,\\\"NationalPark\\\":0,\\\"Diving\\\":0,\\\"Snuggle\\\":0,\\\"Waterfall\\\":0,\\\"Island\\\":0,\\\"Shopping\\\":0,\\\"Camping\\\":0,\\\"Fog\\\":0,\\\"Cycling\\\":0,\\\"Monument\\\":0,\\\"Zoo\\\":0,\\\"Waterpark\\\":0,\\\"Hiking\\\":0,\\\"Museum\\\":0,\\\"Riverside\\\":0,\\\"NightLife\\\":0,\\\"Family\\\":0,\\\"Kid\\\":0,\\\"Landmark\\\":0,\\\"Forest\\\":0}\" + \\\n",
    "\"\\nตลาดชุมชนริมคลองบางหลวง, 13.7319158, 100.4629207 give me score for this\"\n",
    "\n",
    "# prompt the model\n",
    "prompt = [text_prompt]\n",
    "for cur_path_img in glob.glob(os.path.join(r'C:\\Users\\user\\git\\CEPPWebScraping\\test_workspace\\temp', '*.jpeg')):\n",
    "    cur_img_prompt = Image.open(cur_path_img)\n",
    "    prompt.append(cur_img_prompt)\n",
    "response = model.generate_content(prompt)\n",
    "\n",
    "# remove directory 'temp'\n",
    "removeNoneEmptyDir('temp')\n",
    "\n",
    "res_start_Idx = response.text.find('{')\n",
    "res_end_Idx = response.text.find('}')\n",
    "res_score = response.text[res_start_Idx:res_end_Idx+1]\n",
    "print(res_score)"
   ]
  },
  {
   "cell_type": "code",
   "execution_count": 68,
   "metadata": {},
   "outputs": [
    {
     "name": "stdout",
     "output_type": "stream",
     "text": [
      "Provide place name, latitude, and longitude. I will return a JSON string containing scores (0-1) for following attributes(nothing else no other sentences)\n",
      "for example: '{\"Tourism\":0,\"Adventure\":0,\"Meditation\":0,\"Art\":0,\"Cultural\":0,\"Landscape\":0,\"Nature\":0,\"Historical\":0,\"Cityscape\":0,\"Beach\":0,\"Mountain\":0,\"Architecture\":0,\"Temple\":0,\"WalkingStreet\":0,\"Market\":0,\"Village\":0,\"NationalPark\":0,\"Diving\":0,\"Snuggle\":0,\"Waterfall\":0,\"Island\":0,\"Shopping\":0,\"Camping\":0,\"Fog\":0,\"Cycling\":0,\"Monument\":0,\"Zoo\":0,\"Waterpark\":0,\"Hiking\":0,\"Museum\":0,\"Riverside\":0,\"NightLife\":0,\"Family\":0,\"Kid\":0,\"Landmark\":0,\"Forest\":0}\n",
      "Siam Paragon, 13.7464265, 100.5322802 give me score for this\n"
     ]
    },
    {
     "data": {
      "text/plain": [
       "0.44"
      ]
     },
     "execution_count": 68,
     "metadata": {},
     "output_type": "execute_result"
    }
   ],
   "source": [
    "test = \"Provide place name, latitude, and longitude. I will return a JSON string containing scores (0-1) for following attributes(nothing else no other sentences)\" + \\\n",
    "\"\\nfor example: \\'{\\\"Tourism\\\":0,\\\"Adventure\\\":0,\\\"Meditation\\\":0,\\\"Art\\\":0,\\\"Cultural\\\":0,\\\"Landscape\\\":0,\\\"Nature\\\":0,\\\"Historical\\\":0,\\\"Cityscape\\\":0,\\\"Beach\\\":0,\\\"Mountain\\\":0,\\\"Architecture\\\":0,\\\"Temple\\\":0,\\\"WalkingStreet\\\":0,\\\"Market\\\":0,\\\"Village\\\":0,\\\"NationalPark\\\":0,\\\"Diving\\\":0,\\\"Snuggle\\\":0,\\\"Waterfall\\\":0,\\\"Island\\\":0,\\\"Shopping\\\":0,\\\"Camping\\\":0,\\\"Fog\\\":0,\\\"Cycling\\\":0,\\\"Monument\\\":0,\\\"Zoo\\\":0,\\\"Waterpark\\\":0,\\\"Hiking\\\":0,\\\"Museum\\\":0,\\\"Riverside\\\":0,\\\"NightLife\\\":0,\\\"Family\\\":0,\\\"Kid\\\":0,\\\"Landmark\\\":0,\\\"Forest\\\":0}\" + \\\n",
    "\"\\nSiam Paragon, 13.7464265, 100.5322802 give me score for this\"\n",
    "print(test)\n",
    "x_str = '{\"Tourism\": 0.44, \"Adventure\":0, \"Meditation\": 0,\"Art\": 0}'\n",
    "x_json = json.loads(x_str)\n",
    "x_json['Tourism']"
   ]
  },
  {
   "cell_type": "code",
   "execution_count": 54,
   "metadata": {},
   "outputs": [
    {
     "name": "stdout",
     "output_type": "stream",
     "text": [
      "'\n"
     ]
    }
   ],
   "source": [
    "print('\\'')"
   ]
  },
  {
   "cell_type": "code",
   "execution_count": 55,
   "metadata": {},
   "outputs": [
    {
     "name": "stdout",
     "output_type": "stream",
     "text": [
      "for example: '{\"Tourism\":0,\"Camping\":0,\"Kid\":0,\"Landmark\":0,\"Forest\":0}'\n"
     ]
    }
   ],
   "source": [
    "print(\"for example: \\'{\\\"Tourism\\\":0,\\\"Camping\\\":0,\\\"Kid\\\":0,\\\"Landmark\\\":0,\\\"Forest\\\":0}'\")"
   ]
  },
  {
   "cell_type": "code",
   "execution_count": 56,
   "metadata": {},
   "outputs": [
    {
     "name": "stdout",
     "output_type": "stream",
     "text": [
      "['https:', '', 'lh5.googleusercontent.com', 'p', 'AF1QipP1FKj5WaMEZjBw--nU9NRM0fb8y_Dc9gAyINMG=s483-k-no']\n"
     ]
    }
   ],
   "source": [
    "x = 'https://lh5.googleusercontent.com/p/AF1QipP1FKj5WaMEZjBw--nU9NRM0fb8y_Dc9gAyINMG=s483-k-no'\n",
    "print(x.split('/'))"
   ]
  },
  {
   "cell_type": "code",
   "execution_count": null,
   "metadata": {},
   "outputs": [],
   "source": []
  }
 ],
 "metadata": {
  "kernelspec": {
   "display_name": "Python 3",
   "language": "python",
   "name": "python3"
  },
  "language_info": {
   "codemirror_mode": {
    "name": "ipython",
    "version": 3
   },
   "file_extension": ".py",
   "mimetype": "text/x-python",
   "name": "python",
   "nbconvert_exporter": "python",
   "pygments_lexer": "ipython3",
   "version": "3.12.2"
  }
 },
 "nbformat": 4,
 "nbformat_minor": 2
}
