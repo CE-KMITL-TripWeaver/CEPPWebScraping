{
 "cells": [
  {
   "cell_type": "code",
   "execution_count": 5,
   "metadata": {},
   "outputs": [],
   "source": [
    "import sys\n",
    "sys.path.append('..')\n",
    "import constants.file_handler_constants as fh\n",
    "import numpy as np\n",
    "from packages.attraction.Attraction import *\n",
    "from packages.restaurant.Restaurant import *\n",
    "import os\n",
    "import glob\n",
    "import time\n",
    "import pandas as pd\n",
    "import numpy as np\n",
    "from constants.attraction_constants import *\n",
    "import re\n",
    "import webbrowser\n",
    "from selenium.webdriver import Remote, ChromeOptions\n",
    "from selenium.webdriver.chromium.remote_connection import ChromiumRemoteConnection\n",
    "from selenium import webdriver\n",
    "from selenium.webdriver.common.by import By\n",
    "from selenium.webdriver.support import expected_conditions as EC\n",
    "from selenium.webdriver.support.ui import WebDriverWait\n",
    "\n",
    "from multiprocessing import Pool\n",
    "from functools import partial\n",
    "from packages.restaurant.mulProcess_restaurant_scraping_remote import *"
   ]
  },
  {
   "cell_type": "code",
   "execution_count": 44,
   "metadata": {},
   "outputs": [],
   "source": [
    "geo_code_df = pd.read_csv(fh.PATH_TO_GEOCODE)"
   ]
  },
  {
   "cell_type": "code",
   "execution_count": 11,
   "metadata": {},
   "outputs": [
    {
     "name": "stdout",
     "output_type": "stream",
     "text": [
      "lat, long ->  13.847111   100.6007\n"
     ]
    }
   ],
   "source": [
    "url = \"https://www.google.com/maps/search/?api=1&query=7.880209799999999,98.37213659999999?pi=1&query=7.880209799999999,98.37213659999999\"\n",
    "# URL provided by the user\n",
    "url = \"https://www.google.com/maps/search/?api=1&query=13.847111,100.6007\"\n",
    "\n",
    "# Extract the query part containing lat,long using regular expression\n",
    "match = re.search(r\"query=([-+]?\\d*\\.\\d+|\\d+),([-+]?\\d*\\.\\d+|\\d+)\", url)\n",
    "\n",
    "# Extract latitude and longitude if match is found\n",
    "if match:\n",
    "    latitude = match.group(1)\n",
    "    longitude = match.group(2)\n",
    "    print(\"lat, long -> \",latitude, \" \", longitude)"
   ]
  },
  {
   "cell_type": "code",
   "execution_count": 12,
   "metadata": {},
   "outputs": [
    {
     "ename": "KeyboardInterrupt",
     "evalue": "",
     "output_type": "error",
     "traceback": [
      "\u001b[1;31m---------------------------------------------------------------------------\u001b[0m",
      "\u001b[1;31mKeyboardInterrupt\u001b[0m                         Traceback (most recent call last)",
      "Cell \u001b[1;32mIn[12], line 5\u001b[0m\n\u001b[0;32m      3\u001b[0m \u001b[38;5;66;03m# options.add_argument('--version=128.0.6613.85')\u001b[39;00m\n\u001b[0;32m      4\u001b[0m sbr_connection \u001b[38;5;241m=\u001b[39m ChromiumRemoteConnection(os\u001b[38;5;241m.\u001b[39menviron[\u001b[38;5;124m\"\u001b[39m\u001b[38;5;124mSBR_WS_ENDPOINT\u001b[39m\u001b[38;5;124m\"\u001b[39m], \u001b[38;5;124m'\u001b[39m\u001b[38;5;124mgoog\u001b[39m\u001b[38;5;124m'\u001b[39m, \u001b[38;5;124m'\u001b[39m\u001b[38;5;124mchrome\u001b[39m\u001b[38;5;124m'\u001b[39m)\n\u001b[1;32m----> 5\u001b[0m driver \u001b[38;5;241m=\u001b[39m \u001b[43mwebdriver\u001b[49m\u001b[38;5;241;43m.\u001b[39;49m\u001b[43mRemote\u001b[49m\u001b[43m(\u001b[49m\u001b[43mcommand_executor\u001b[49m\u001b[38;5;241;43m=\u001b[39;49m\u001b[43msbr_connection\u001b[49m\u001b[43m,\u001b[49m\u001b[43m \u001b[49m\u001b[43moptions\u001b[49m\u001b[38;5;241;43m=\u001b[39;49m\u001b[43moptions\u001b[49m\u001b[43m)\u001b[49m\n\u001b[0;32m      6\u001b[0m \u001b[38;5;28mprint\u001b[39m(\u001b[38;5;124m\"\u001b[39m\u001b[38;5;124mdriver ...\u001b[39m\u001b[38;5;124m\"\u001b[39m, driver)\n\u001b[0;32m      7\u001b[0m driver\u001b[38;5;241m.\u001b[39mget(\u001b[38;5;124m\"\u001b[39m\u001b[38;5;124mhttps://www.wongnai.com/restaurants/2863371uJ-\u001b[39m\u001b[38;5;132;01m%E\u001b[39;00m\u001b[38;5;124m0\u001b[39m\u001b[38;5;124m%\u001b[39m\u001b[38;5;124mB9\u001b[39m\u001b[38;5;132;01m%84%\u001b[39;00m\u001b[38;5;124mE0\u001b[39m\u001b[38;5;124m%\u001b[39m\u001b[38;5;124mB8\u001b[39m\u001b[38;5;124m%\u001b[39m\u001b[38;5;124mAD\u001b[39m\u001b[38;5;132;01m%E\u001b[39;00m\u001b[38;5;124m0\u001b[39m\u001b[38;5;124m%\u001b[39m\u001b[38;5;124mB8\u001b[39m\u001b[38;5;132;01m%95%\u001b[39;00m\u001b[38;5;124mE0\u001b[39m\u001b[38;5;124m%\u001b[39m\u001b[38;5;124mB8\u001b[39m\u001b[38;5;124m%\u001b[39m\u001b[38;5;124mB4\u001b[39m\u001b[38;5;132;01m%E\u001b[39;00m\u001b[38;5;124m0\u001b[39m\u001b[38;5;124m%\u001b[39m\u001b[38;5;124mB8\u001b[39m\u001b[38;5;124m%\u001b[39m\u001b[38;5;124mA1\u001b[39m\u001b[38;5;132;01m%E\u001b[39;00m\u001b[38;5;124m0\u001b[39m\u001b[38;5;124m%\u001b[39m\u001b[38;5;124mB9\u001b[39m\u001b[38;5;132;01m%82%\u001b[39;00m\u001b[38;5;124mE0\u001b[39m\u001b[38;5;124m%\u001b[39m\u001b[38;5;124mB8\u001b[39m\u001b[38;5;124m%\u001b[39m\u001b[38;5;124mAD\u001b[39m\u001b[38;5;132;01m%E\u001b[39;00m\u001b[38;5;124m0\u001b[39m\u001b[38;5;124m%\u001b[39m\u001b[38;5;124mB9\u001b[39m\u001b[38;5;132;01m%88%\u001b[39;00m\u001b[38;5;124mE0\u001b[39m\u001b[38;5;124m%\u001b[39m\u001b[38;5;124mB8\u001b[39m\u001b[38;5;124m%\u001b[39m\u001b[38;5;124m87-\u001b[39m\u001b[38;5;132;01m%E\u001b[39;00m\u001b[38;5;124m0\u001b[39m\u001b[38;5;124m%\u001b[39m\u001b[38;5;124mB8\u001b[39m\u001b[38;5;124m%\u001b[39m\u001b[38;5;124mAB\u001b[39m\u001b[38;5;132;01m%E\u001b[39;00m\u001b[38;5;124m0\u001b[39m\u001b[38;5;124m%\u001b[39m\u001b[38;5;124mB8\u001b[39m\u001b[38;5;124m%\u001b[39m\u001b[38;5;124mB2\u001b[39m\u001b[38;5;132;01m%E\u001b[39;00m\u001b[38;5;124m0\u001b[39m\u001b[38;5;124m%\u001b[39m\u001b[38;5;124mB8\u001b[39m\u001b[38;5;132;01m%94%\u001b[39;00m\u001b[38;5;124mE0\u001b[39m\u001b[38;5;124m%\u001b[39m\u001b[38;5;124mB9\u001b[39m\u001b[38;5;132;01m%83%\u001b[39;00m\u001b[38;5;124mE0\u001b[39m\u001b[38;5;124m%\u001b[39m\u001b[38;5;124mB8\u001b[39m\u001b[38;5;124m%\u001b[39m\u001b[38;5;124mAB\u001b[39m\u001b[38;5;132;01m%E\u001b[39;00m\u001b[38;5;124m0\u001b[39m\u001b[38;5;124m%\u001b[39m\u001b[38;5;124mB8\u001b[39m\u001b[38;5;124m%\u001b[39m\u001b[38;5;124m8D\u001b[39m\u001b[38;5;132;01m%E\u001b[39;00m\u001b[38;5;124m0\u001b[39m\u001b[38;5;124m%\u001b[39m\u001b[38;5;124mB9\u001b[39m\u001b[38;5;124m%\u001b[39m\u001b[38;5;124m88?_st=cD0xO2I9Mjg2MzM3MTthZD10cnVlO3Q9MTcyNjI0MjIzNTg5MDtyaT0xWDdiNXlzWDZmQ2JsVzdPRHhqQzdmNHJJMVprNVg7aT0xWDcwWkllN2VJajZiM3RuU2djNnZhQUxJaklZRUI7d3JlZj1zcjs\u001b[39m\u001b[38;5;124m%\u001b[39m\u001b[38;5;124m3D\u001b[39m\u001b[38;5;124m\"\u001b[39m)\n",
      "File \u001b[1;32mc:\\Python312\\Lib\\site-packages\\selenium\\webdriver\\remote\\webdriver.py:212\u001b[0m, in \u001b[0;36mWebDriver.__init__\u001b[1;34m(self, command_executor, keep_alive, file_detector, options)\u001b[0m\n\u001b[0;32m    210\u001b[0m \u001b[38;5;28mself\u001b[39m\u001b[38;5;241m.\u001b[39m_authenticator_id \u001b[38;5;241m=\u001b[39m \u001b[38;5;28;01mNone\u001b[39;00m\n\u001b[0;32m    211\u001b[0m \u001b[38;5;28mself\u001b[39m\u001b[38;5;241m.\u001b[39mstart_client()\n\u001b[1;32m--> 212\u001b[0m \u001b[38;5;28;43mself\u001b[39;49m\u001b[38;5;241;43m.\u001b[39;49m\u001b[43mstart_session\u001b[49m\u001b[43m(\u001b[49m\u001b[43mcapabilities\u001b[49m\u001b[43m)\u001b[49m\n\u001b[0;32m    214\u001b[0m \u001b[38;5;28mself\u001b[39m\u001b[38;5;241m.\u001b[39m_websocket_connection \u001b[38;5;241m=\u001b[39m \u001b[38;5;28;01mNone\u001b[39;00m\n\u001b[0;32m    215\u001b[0m \u001b[38;5;28mself\u001b[39m\u001b[38;5;241m.\u001b[39m_script \u001b[38;5;241m=\u001b[39m \u001b[38;5;28;01mNone\u001b[39;00m\n",
      "File \u001b[1;32mc:\\Python312\\Lib\\site-packages\\selenium\\webdriver\\remote\\webdriver.py:299\u001b[0m, in \u001b[0;36mWebDriver.start_session\u001b[1;34m(self, capabilities)\u001b[0m\n\u001b[0;32m    292\u001b[0m \u001b[38;5;250m\u001b[39m\u001b[38;5;124;03m\"\"\"Creates a new session with the desired capabilities.\u001b[39;00m\n\u001b[0;32m    293\u001b[0m \n\u001b[0;32m    294\u001b[0m \u001b[38;5;124;03m:Args:\u001b[39;00m\n\u001b[0;32m    295\u001b[0m \u001b[38;5;124;03m - capabilities - a capabilities dict to start the session with.\u001b[39;00m\n\u001b[0;32m    296\u001b[0m \u001b[38;5;124;03m\"\"\"\u001b[39;00m\n\u001b[0;32m    298\u001b[0m caps \u001b[38;5;241m=\u001b[39m _create_caps(capabilities)\n\u001b[1;32m--> 299\u001b[0m response \u001b[38;5;241m=\u001b[39m \u001b[38;5;28;43mself\u001b[39;49m\u001b[38;5;241;43m.\u001b[39;49m\u001b[43mexecute\u001b[49m\u001b[43m(\u001b[49m\u001b[43mCommand\u001b[49m\u001b[38;5;241;43m.\u001b[39;49m\u001b[43mNEW_SESSION\u001b[49m\u001b[43m,\u001b[49m\u001b[43m \u001b[49m\u001b[43mcaps\u001b[49m\u001b[43m)\u001b[49m[\u001b[38;5;124m\"\u001b[39m\u001b[38;5;124mvalue\u001b[39m\u001b[38;5;124m\"\u001b[39m]\n\u001b[0;32m    300\u001b[0m \u001b[38;5;66;03m# remove later prn..\u001b[39;00m\n\u001b[0;32m    301\u001b[0m \u001b[38;5;66;03m# print(\"prn check return from self.execute --> \", response)\u001b[39;00m\n\u001b[0;32m    302\u001b[0m \u001b[38;5;28mself\u001b[39m\u001b[38;5;241m.\u001b[39msession_id \u001b[38;5;241m=\u001b[39m response\u001b[38;5;241m.\u001b[39mget(\u001b[38;5;124m\"\u001b[39m\u001b[38;5;124msessionId\u001b[39m\u001b[38;5;124m\"\u001b[39m)\n",
      "File \u001b[1;32mc:\\Python312\\Lib\\site-packages\\selenium\\webdriver\\remote\\webdriver.py:354\u001b[0m, in \u001b[0;36mWebDriver.execute\u001b[1;34m(self, driver_command, params)\u001b[0m\n\u001b[0;32m    351\u001b[0m     \u001b[38;5;28;01melif\u001b[39;00m \u001b[38;5;124m\"\u001b[39m\u001b[38;5;124msessionId\u001b[39m\u001b[38;5;124m\"\u001b[39m \u001b[38;5;129;01mnot\u001b[39;00m \u001b[38;5;129;01min\u001b[39;00m params:\n\u001b[0;32m    352\u001b[0m         params[\u001b[38;5;124m\"\u001b[39m\u001b[38;5;124msessionId\u001b[39m\u001b[38;5;124m\"\u001b[39m] \u001b[38;5;241m=\u001b[39m \u001b[38;5;28mself\u001b[39m\u001b[38;5;241m.\u001b[39msession_id\n\u001b[1;32m--> 354\u001b[0m response \u001b[38;5;241m=\u001b[39m \u001b[38;5;28;43mself\u001b[39;49m\u001b[38;5;241;43m.\u001b[39;49m\u001b[43mcommand_executor\u001b[49m\u001b[38;5;241;43m.\u001b[39;49m\u001b[43mexecute\u001b[49m\u001b[43m(\u001b[49m\u001b[43mdriver_command\u001b[49m\u001b[43m,\u001b[49m\u001b[43m \u001b[49m\u001b[43mparams\u001b[49m\u001b[43m)\u001b[49m\n\u001b[0;32m    355\u001b[0m \u001b[38;5;66;03m# remove later prn..\u001b[39;00m\n\u001b[0;32m    356\u001b[0m \u001b[38;5;66;03m# print(\"prn check name of command --> \", driver_command)\u001b[39;00m\n\u001b[0;32m    357\u001b[0m \u001b[38;5;66;03m# print('prn check response in side --> ', response)\u001b[39;00m\n\u001b[0;32m    358\u001b[0m \u001b[38;5;28;01mif\u001b[39;00m response:\n",
      "File \u001b[1;32mc:\\Python312\\Lib\\site-packages\\selenium\\webdriver\\remote\\remote_connection.py:306\u001b[0m, in \u001b[0;36mRemoteConnection.execute\u001b[1;34m(self, command, params)\u001b[0m\n\u001b[0;32m    304\u001b[0m trimmed \u001b[38;5;241m=\u001b[39m \u001b[38;5;28mself\u001b[39m\u001b[38;5;241m.\u001b[39m_trim_large_entries(params)\n\u001b[0;32m    305\u001b[0m LOGGER\u001b[38;5;241m.\u001b[39mdebug(\u001b[38;5;124m\"\u001b[39m\u001b[38;5;132;01m%s\u001b[39;00m\u001b[38;5;124m \u001b[39m\u001b[38;5;132;01m%s\u001b[39;00m\u001b[38;5;124m \u001b[39m\u001b[38;5;132;01m%s\u001b[39;00m\u001b[38;5;124m\"\u001b[39m, command_info[\u001b[38;5;241m0\u001b[39m], url, \u001b[38;5;28mstr\u001b[39m(trimmed))\n\u001b[1;32m--> 306\u001b[0m \u001b[38;5;28;01mreturn\u001b[39;00m \u001b[38;5;28;43mself\u001b[39;49m\u001b[38;5;241;43m.\u001b[39;49m\u001b[43m_request\u001b[49m\u001b[43m(\u001b[49m\u001b[43mcommand_info\u001b[49m\u001b[43m[\u001b[49m\u001b[38;5;241;43m0\u001b[39;49m\u001b[43m]\u001b[49m\u001b[43m,\u001b[49m\u001b[43m \u001b[49m\u001b[43murl\u001b[49m\u001b[43m,\u001b[49m\u001b[43m \u001b[49m\u001b[43mbody\u001b[49m\u001b[38;5;241;43m=\u001b[39;49m\u001b[43mdata\u001b[49m\u001b[43m)\u001b[49m\n",
      "File \u001b[1;32mc:\\Python312\\Lib\\site-packages\\selenium\\webdriver\\remote\\remote_connection.py:326\u001b[0m, in \u001b[0;36mRemoteConnection._request\u001b[1;34m(self, method, url, body)\u001b[0m\n\u001b[0;32m    323\u001b[0m     body \u001b[38;5;241m=\u001b[39m \u001b[38;5;28;01mNone\u001b[39;00m\n\u001b[0;32m    325\u001b[0m \u001b[38;5;28;01mif\u001b[39;00m \u001b[38;5;28mself\u001b[39m\u001b[38;5;241m.\u001b[39mkeep_alive:\n\u001b[1;32m--> 326\u001b[0m     response \u001b[38;5;241m=\u001b[39m \u001b[38;5;28;43mself\u001b[39;49m\u001b[38;5;241;43m.\u001b[39;49m\u001b[43m_conn\u001b[49m\u001b[38;5;241;43m.\u001b[39;49m\u001b[43mrequest\u001b[49m\u001b[43m(\u001b[49m\u001b[43mmethod\u001b[49m\u001b[43m,\u001b[49m\u001b[43m \u001b[49m\u001b[43murl\u001b[49m\u001b[43m,\u001b[49m\u001b[43m \u001b[49m\u001b[43mbody\u001b[49m\u001b[38;5;241;43m=\u001b[39;49m\u001b[43mbody\u001b[49m\u001b[43m,\u001b[49m\u001b[43m \u001b[49m\u001b[43mheaders\u001b[49m\u001b[38;5;241;43m=\u001b[39;49m\u001b[43mheaders\u001b[49m\u001b[43m)\u001b[49m\n\u001b[0;32m    327\u001b[0m     statuscode \u001b[38;5;241m=\u001b[39m response\u001b[38;5;241m.\u001b[39mstatus\n\u001b[0;32m    328\u001b[0m \u001b[38;5;28;01melse\u001b[39;00m:\n",
      "File \u001b[1;32mc:\\Python312\\Lib\\site-packages\\urllib3\\request.py:81\u001b[0m, in \u001b[0;36mRequestMethods.request\u001b[1;34m(self, method, url, fields, headers, **urlopen_kw)\u001b[0m\n\u001b[0;32m     77\u001b[0m     \u001b[38;5;28;01mreturn\u001b[39;00m \u001b[38;5;28mself\u001b[39m\u001b[38;5;241m.\u001b[39mrequest_encode_url(\n\u001b[0;32m     78\u001b[0m         method, url, fields\u001b[38;5;241m=\u001b[39mfields, headers\u001b[38;5;241m=\u001b[39mheaders, \u001b[38;5;241m*\u001b[39m\u001b[38;5;241m*\u001b[39murlopen_kw\n\u001b[0;32m     79\u001b[0m     )\n\u001b[0;32m     80\u001b[0m \u001b[38;5;28;01melse\u001b[39;00m:\n\u001b[1;32m---> 81\u001b[0m     \u001b[38;5;28;01mreturn\u001b[39;00m \u001b[38;5;28;43mself\u001b[39;49m\u001b[38;5;241;43m.\u001b[39;49m\u001b[43mrequest_encode_body\u001b[49m\u001b[43m(\u001b[49m\n\u001b[0;32m     82\u001b[0m \u001b[43m        \u001b[49m\u001b[43mmethod\u001b[49m\u001b[43m,\u001b[49m\u001b[43m \u001b[49m\u001b[43murl\u001b[49m\u001b[43m,\u001b[49m\u001b[43m \u001b[49m\u001b[43mfields\u001b[49m\u001b[38;5;241;43m=\u001b[39;49m\u001b[43mfields\u001b[49m\u001b[43m,\u001b[49m\u001b[43m \u001b[49m\u001b[43mheaders\u001b[49m\u001b[38;5;241;43m=\u001b[39;49m\u001b[43mheaders\u001b[49m\u001b[43m,\u001b[49m\u001b[43m \u001b[49m\u001b[38;5;241;43m*\u001b[39;49m\u001b[38;5;241;43m*\u001b[39;49m\u001b[43murlopen_kw\u001b[49m\n\u001b[0;32m     83\u001b[0m \u001b[43m    \u001b[49m\u001b[43m)\u001b[49m\n",
      "File \u001b[1;32mc:\\Python312\\Lib\\site-packages\\urllib3\\request.py:173\u001b[0m, in \u001b[0;36mRequestMethods.request_encode_body\u001b[1;34m(self, method, url, fields, headers, encode_multipart, multipart_boundary, **urlopen_kw)\u001b[0m\n\u001b[0;32m    170\u001b[0m extra_kw[\u001b[38;5;124m\"\u001b[39m\u001b[38;5;124mheaders\u001b[39m\u001b[38;5;124m\"\u001b[39m]\u001b[38;5;241m.\u001b[39mupdate(headers)\n\u001b[0;32m    171\u001b[0m extra_kw\u001b[38;5;241m.\u001b[39mupdate(urlopen_kw)\n\u001b[1;32m--> 173\u001b[0m \u001b[38;5;28;01mreturn\u001b[39;00m \u001b[38;5;28;43mself\u001b[39;49m\u001b[38;5;241;43m.\u001b[39;49m\u001b[43murlopen\u001b[49m\u001b[43m(\u001b[49m\u001b[43mmethod\u001b[49m\u001b[43m,\u001b[49m\u001b[43m \u001b[49m\u001b[43murl\u001b[49m\u001b[43m,\u001b[49m\u001b[43m \u001b[49m\u001b[38;5;241;43m*\u001b[39;49m\u001b[38;5;241;43m*\u001b[39;49m\u001b[43mextra_kw\u001b[49m\u001b[43m)\u001b[49m\n",
      "File \u001b[1;32mc:\\Python312\\Lib\\site-packages\\urllib3\\poolmanager.py:376\u001b[0m, in \u001b[0;36mPoolManager.urlopen\u001b[1;34m(self, method, url, redirect, **kw)\u001b[0m\n\u001b[0;32m    374\u001b[0m     response \u001b[38;5;241m=\u001b[39m conn\u001b[38;5;241m.\u001b[39murlopen(method, url, \u001b[38;5;241m*\u001b[39m\u001b[38;5;241m*\u001b[39mkw)\n\u001b[0;32m    375\u001b[0m \u001b[38;5;28;01melse\u001b[39;00m:\n\u001b[1;32m--> 376\u001b[0m     response \u001b[38;5;241m=\u001b[39m \u001b[43mconn\u001b[49m\u001b[38;5;241;43m.\u001b[39;49m\u001b[43murlopen\u001b[49m\u001b[43m(\u001b[49m\u001b[43mmethod\u001b[49m\u001b[43m,\u001b[49m\u001b[43m \u001b[49m\u001b[43mu\u001b[49m\u001b[38;5;241;43m.\u001b[39;49m\u001b[43mrequest_uri\u001b[49m\u001b[43m,\u001b[49m\u001b[43m \u001b[49m\u001b[38;5;241;43m*\u001b[39;49m\u001b[38;5;241;43m*\u001b[39;49m\u001b[43mkw\u001b[49m\u001b[43m)\u001b[49m\n\u001b[0;32m    378\u001b[0m redirect_location \u001b[38;5;241m=\u001b[39m redirect \u001b[38;5;129;01mand\u001b[39;00m response\u001b[38;5;241m.\u001b[39mget_redirect_location()\n\u001b[0;32m    379\u001b[0m \u001b[38;5;28;01mif\u001b[39;00m \u001b[38;5;129;01mnot\u001b[39;00m redirect_location:\n",
      "File \u001b[1;32mc:\\Python312\\Lib\\site-packages\\urllib3\\connectionpool.py:715\u001b[0m, in \u001b[0;36mHTTPConnectionPool.urlopen\u001b[1;34m(self, method, url, body, headers, retries, redirect, assert_same_host, timeout, pool_timeout, release_conn, chunked, body_pos, **response_kw)\u001b[0m\n\u001b[0;32m    712\u001b[0m     \u001b[38;5;28mself\u001b[39m\u001b[38;5;241m.\u001b[39m_prepare_proxy(conn)\n\u001b[0;32m    714\u001b[0m \u001b[38;5;66;03m# Make the request on the httplib connection object.\u001b[39;00m\n\u001b[1;32m--> 715\u001b[0m httplib_response \u001b[38;5;241m=\u001b[39m \u001b[38;5;28;43mself\u001b[39;49m\u001b[38;5;241;43m.\u001b[39;49m\u001b[43m_make_request\u001b[49m\u001b[43m(\u001b[49m\n\u001b[0;32m    716\u001b[0m \u001b[43m    \u001b[49m\u001b[43mconn\u001b[49m\u001b[43m,\u001b[49m\n\u001b[0;32m    717\u001b[0m \u001b[43m    \u001b[49m\u001b[43mmethod\u001b[49m\u001b[43m,\u001b[49m\n\u001b[0;32m    718\u001b[0m \u001b[43m    \u001b[49m\u001b[43murl\u001b[49m\u001b[43m,\u001b[49m\n\u001b[0;32m    719\u001b[0m \u001b[43m    \u001b[49m\u001b[43mtimeout\u001b[49m\u001b[38;5;241;43m=\u001b[39;49m\u001b[43mtimeout_obj\u001b[49m\u001b[43m,\u001b[49m\n\u001b[0;32m    720\u001b[0m \u001b[43m    \u001b[49m\u001b[43mbody\u001b[49m\u001b[38;5;241;43m=\u001b[39;49m\u001b[43mbody\u001b[49m\u001b[43m,\u001b[49m\n\u001b[0;32m    721\u001b[0m \u001b[43m    \u001b[49m\u001b[43mheaders\u001b[49m\u001b[38;5;241;43m=\u001b[39;49m\u001b[43mheaders\u001b[49m\u001b[43m,\u001b[49m\n\u001b[0;32m    722\u001b[0m \u001b[43m    \u001b[49m\u001b[43mchunked\u001b[49m\u001b[38;5;241;43m=\u001b[39;49m\u001b[43mchunked\u001b[49m\u001b[43m,\u001b[49m\n\u001b[0;32m    723\u001b[0m \u001b[43m\u001b[49m\u001b[43m)\u001b[49m\n\u001b[0;32m    725\u001b[0m \u001b[38;5;66;03m# If we're going to release the connection in ``finally:``, then\u001b[39;00m\n\u001b[0;32m    726\u001b[0m \u001b[38;5;66;03m# the response doesn't need to know about the connection. Otherwise\u001b[39;00m\n\u001b[0;32m    727\u001b[0m \u001b[38;5;66;03m# it will also try to release it and we'll have a double-release\u001b[39;00m\n\u001b[0;32m    728\u001b[0m \u001b[38;5;66;03m# mess.\u001b[39;00m\n\u001b[0;32m    729\u001b[0m response_conn \u001b[38;5;241m=\u001b[39m conn \u001b[38;5;28;01mif\u001b[39;00m \u001b[38;5;129;01mnot\u001b[39;00m release_conn \u001b[38;5;28;01melse\u001b[39;00m \u001b[38;5;28;01mNone\u001b[39;00m\n",
      "File \u001b[1;32mc:\\Python312\\Lib\\site-packages\\urllib3\\connectionpool.py:467\u001b[0m, in \u001b[0;36mHTTPConnectionPool._make_request\u001b[1;34m(self, conn, method, url, timeout, chunked, **httplib_request_kw)\u001b[0m\n\u001b[0;32m    462\u001b[0m             httplib_response \u001b[38;5;241m=\u001b[39m conn\u001b[38;5;241m.\u001b[39mgetresponse()\n\u001b[0;32m    463\u001b[0m         \u001b[38;5;28;01mexcept\u001b[39;00m \u001b[38;5;167;01mBaseException\u001b[39;00m \u001b[38;5;28;01mas\u001b[39;00m e:\n\u001b[0;32m    464\u001b[0m             \u001b[38;5;66;03m# Remove the TypeError from the exception chain in\u001b[39;00m\n\u001b[0;32m    465\u001b[0m             \u001b[38;5;66;03m# Python 3 (including for exceptions like SystemExit).\u001b[39;00m\n\u001b[0;32m    466\u001b[0m             \u001b[38;5;66;03m# Otherwise it looks like a bug in the code.\u001b[39;00m\n\u001b[1;32m--> 467\u001b[0m             \u001b[43msix\u001b[49m\u001b[38;5;241;43m.\u001b[39;49m\u001b[43mraise_from\u001b[49m\u001b[43m(\u001b[49m\u001b[43me\u001b[49m\u001b[43m,\u001b[49m\u001b[43m \u001b[49m\u001b[38;5;28;43;01mNone\u001b[39;49;00m\u001b[43m)\u001b[49m\n\u001b[0;32m    468\u001b[0m \u001b[38;5;28;01mexcept\u001b[39;00m (SocketTimeout, BaseSSLError, SocketError) \u001b[38;5;28;01mas\u001b[39;00m e:\n\u001b[0;32m    469\u001b[0m     \u001b[38;5;28mself\u001b[39m\u001b[38;5;241m.\u001b[39m_raise_timeout(err\u001b[38;5;241m=\u001b[39me, url\u001b[38;5;241m=\u001b[39murl, timeout_value\u001b[38;5;241m=\u001b[39mread_timeout)\n",
      "File \u001b[1;32m<string>:3\u001b[0m, in \u001b[0;36mraise_from\u001b[1;34m(value, from_value)\u001b[0m\n",
      "File \u001b[1;32mc:\\Python312\\Lib\\site-packages\\urllib3\\connectionpool.py:462\u001b[0m, in \u001b[0;36mHTTPConnectionPool._make_request\u001b[1;34m(self, conn, method, url, timeout, chunked, **httplib_request_kw)\u001b[0m\n\u001b[0;32m    459\u001b[0m \u001b[38;5;28;01mexcept\u001b[39;00m \u001b[38;5;167;01mTypeError\u001b[39;00m:\n\u001b[0;32m    460\u001b[0m     \u001b[38;5;66;03m# Python 3\u001b[39;00m\n\u001b[0;32m    461\u001b[0m     \u001b[38;5;28;01mtry\u001b[39;00m:\n\u001b[1;32m--> 462\u001b[0m         httplib_response \u001b[38;5;241m=\u001b[39m \u001b[43mconn\u001b[49m\u001b[38;5;241;43m.\u001b[39;49m\u001b[43mgetresponse\u001b[49m\u001b[43m(\u001b[49m\u001b[43m)\u001b[49m\n\u001b[0;32m    463\u001b[0m     \u001b[38;5;28;01mexcept\u001b[39;00m \u001b[38;5;167;01mBaseException\u001b[39;00m \u001b[38;5;28;01mas\u001b[39;00m e:\n\u001b[0;32m    464\u001b[0m         \u001b[38;5;66;03m# Remove the TypeError from the exception chain in\u001b[39;00m\n\u001b[0;32m    465\u001b[0m         \u001b[38;5;66;03m# Python 3 (including for exceptions like SystemExit).\u001b[39;00m\n\u001b[0;32m    466\u001b[0m         \u001b[38;5;66;03m# Otherwise it looks like a bug in the code.\u001b[39;00m\n\u001b[0;32m    467\u001b[0m         six\u001b[38;5;241m.\u001b[39mraise_from(e, \u001b[38;5;28;01mNone\u001b[39;00m)\n",
      "File \u001b[1;32mc:\\Python312\\Lib\\http\\client.py:1423\u001b[0m, in \u001b[0;36mHTTPConnection.getresponse\u001b[1;34m(self)\u001b[0m\n\u001b[0;32m   1421\u001b[0m \u001b[38;5;28;01mtry\u001b[39;00m:\n\u001b[0;32m   1422\u001b[0m     \u001b[38;5;28;01mtry\u001b[39;00m:\n\u001b[1;32m-> 1423\u001b[0m         \u001b[43mresponse\u001b[49m\u001b[38;5;241;43m.\u001b[39;49m\u001b[43mbegin\u001b[49m\u001b[43m(\u001b[49m\u001b[43m)\u001b[49m\n\u001b[0;32m   1424\u001b[0m     \u001b[38;5;28;01mexcept\u001b[39;00m \u001b[38;5;167;01mConnectionError\u001b[39;00m:\n\u001b[0;32m   1425\u001b[0m         \u001b[38;5;28mself\u001b[39m\u001b[38;5;241m.\u001b[39mclose()\n",
      "File \u001b[1;32mc:\\Python312\\Lib\\http\\client.py:331\u001b[0m, in \u001b[0;36mHTTPResponse.begin\u001b[1;34m(self)\u001b[0m\n\u001b[0;32m    329\u001b[0m \u001b[38;5;66;03m# read until we get a non-100 response\u001b[39;00m\n\u001b[0;32m    330\u001b[0m \u001b[38;5;28;01mwhile\u001b[39;00m \u001b[38;5;28;01mTrue\u001b[39;00m:\n\u001b[1;32m--> 331\u001b[0m     version, status, reason \u001b[38;5;241m=\u001b[39m \u001b[38;5;28;43mself\u001b[39;49m\u001b[38;5;241;43m.\u001b[39;49m\u001b[43m_read_status\u001b[49m\u001b[43m(\u001b[49m\u001b[43m)\u001b[49m\n\u001b[0;32m    332\u001b[0m     \u001b[38;5;28;01mif\u001b[39;00m status \u001b[38;5;241m!=\u001b[39m CONTINUE:\n\u001b[0;32m    333\u001b[0m         \u001b[38;5;28;01mbreak\u001b[39;00m\n",
      "File \u001b[1;32mc:\\Python312\\Lib\\http\\client.py:292\u001b[0m, in \u001b[0;36mHTTPResponse._read_status\u001b[1;34m(self)\u001b[0m\n\u001b[0;32m    291\u001b[0m \u001b[38;5;28;01mdef\u001b[39;00m \u001b[38;5;21m_read_status\u001b[39m(\u001b[38;5;28mself\u001b[39m):\n\u001b[1;32m--> 292\u001b[0m     line \u001b[38;5;241m=\u001b[39m \u001b[38;5;28mstr\u001b[39m(\u001b[38;5;28;43mself\u001b[39;49m\u001b[38;5;241;43m.\u001b[39;49m\u001b[43mfp\u001b[49m\u001b[38;5;241;43m.\u001b[39;49m\u001b[43mreadline\u001b[49m\u001b[43m(\u001b[49m\u001b[43m_MAXLINE\u001b[49m\u001b[43m \u001b[49m\u001b[38;5;241;43m+\u001b[39;49m\u001b[43m \u001b[49m\u001b[38;5;241;43m1\u001b[39;49m\u001b[43m)\u001b[49m, \u001b[38;5;124m\"\u001b[39m\u001b[38;5;124miso-8859-1\u001b[39m\u001b[38;5;124m\"\u001b[39m)\n\u001b[0;32m    293\u001b[0m     \u001b[38;5;28;01mif\u001b[39;00m \u001b[38;5;28mlen\u001b[39m(line) \u001b[38;5;241m>\u001b[39m _MAXLINE:\n\u001b[0;32m    294\u001b[0m         \u001b[38;5;28;01mraise\u001b[39;00m LineTooLong(\u001b[38;5;124m\"\u001b[39m\u001b[38;5;124mstatus line\u001b[39m\u001b[38;5;124m\"\u001b[39m)\n",
      "File \u001b[1;32mc:\\Python312\\Lib\\socket.py:707\u001b[0m, in \u001b[0;36mSocketIO.readinto\u001b[1;34m(self, b)\u001b[0m\n\u001b[0;32m    705\u001b[0m \u001b[38;5;28;01mwhile\u001b[39;00m \u001b[38;5;28;01mTrue\u001b[39;00m:\n\u001b[0;32m    706\u001b[0m     \u001b[38;5;28;01mtry\u001b[39;00m:\n\u001b[1;32m--> 707\u001b[0m         \u001b[38;5;28;01mreturn\u001b[39;00m \u001b[38;5;28;43mself\u001b[39;49m\u001b[38;5;241;43m.\u001b[39;49m\u001b[43m_sock\u001b[49m\u001b[38;5;241;43m.\u001b[39;49m\u001b[43mrecv_into\u001b[49m\u001b[43m(\u001b[49m\u001b[43mb\u001b[49m\u001b[43m)\u001b[49m\n\u001b[0;32m    708\u001b[0m     \u001b[38;5;28;01mexcept\u001b[39;00m timeout:\n\u001b[0;32m    709\u001b[0m         \u001b[38;5;28mself\u001b[39m\u001b[38;5;241m.\u001b[39m_timeout_occurred \u001b[38;5;241m=\u001b[39m \u001b[38;5;28;01mTrue\u001b[39;00m\n",
      "File \u001b[1;32mc:\\Python312\\Lib\\ssl.py:1252\u001b[0m, in \u001b[0;36mSSLSocket.recv_into\u001b[1;34m(self, buffer, nbytes, flags)\u001b[0m\n\u001b[0;32m   1248\u001b[0m     \u001b[38;5;28;01mif\u001b[39;00m flags \u001b[38;5;241m!=\u001b[39m \u001b[38;5;241m0\u001b[39m:\n\u001b[0;32m   1249\u001b[0m         \u001b[38;5;28;01mraise\u001b[39;00m \u001b[38;5;167;01mValueError\u001b[39;00m(\n\u001b[0;32m   1250\u001b[0m           \u001b[38;5;124m\"\u001b[39m\u001b[38;5;124mnon-zero flags not allowed in calls to recv_into() on \u001b[39m\u001b[38;5;132;01m%s\u001b[39;00m\u001b[38;5;124m\"\u001b[39m \u001b[38;5;241m%\u001b[39m\n\u001b[0;32m   1251\u001b[0m           \u001b[38;5;28mself\u001b[39m\u001b[38;5;241m.\u001b[39m\u001b[38;5;18m__class__\u001b[39m)\n\u001b[1;32m-> 1252\u001b[0m     \u001b[38;5;28;01mreturn\u001b[39;00m \u001b[38;5;28;43mself\u001b[39;49m\u001b[38;5;241;43m.\u001b[39;49m\u001b[43mread\u001b[49m\u001b[43m(\u001b[49m\u001b[43mnbytes\u001b[49m\u001b[43m,\u001b[49m\u001b[43m \u001b[49m\u001b[43mbuffer\u001b[49m\u001b[43m)\u001b[49m\n\u001b[0;32m   1253\u001b[0m \u001b[38;5;28;01melse\u001b[39;00m:\n\u001b[0;32m   1254\u001b[0m     \u001b[38;5;28;01mreturn\u001b[39;00m \u001b[38;5;28msuper\u001b[39m()\u001b[38;5;241m.\u001b[39mrecv_into(buffer, nbytes, flags)\n",
      "File \u001b[1;32mc:\\Python312\\Lib\\ssl.py:1104\u001b[0m, in \u001b[0;36mSSLSocket.read\u001b[1;34m(self, len, buffer)\u001b[0m\n\u001b[0;32m   1102\u001b[0m \u001b[38;5;28;01mtry\u001b[39;00m:\n\u001b[0;32m   1103\u001b[0m     \u001b[38;5;28;01mif\u001b[39;00m buffer \u001b[38;5;129;01mis\u001b[39;00m \u001b[38;5;129;01mnot\u001b[39;00m \u001b[38;5;28;01mNone\u001b[39;00m:\n\u001b[1;32m-> 1104\u001b[0m         \u001b[38;5;28;01mreturn\u001b[39;00m \u001b[38;5;28;43mself\u001b[39;49m\u001b[38;5;241;43m.\u001b[39;49m\u001b[43m_sslobj\u001b[49m\u001b[38;5;241;43m.\u001b[39;49m\u001b[43mread\u001b[49m\u001b[43m(\u001b[49m\u001b[38;5;28;43mlen\u001b[39;49m\u001b[43m,\u001b[49m\u001b[43m \u001b[49m\u001b[43mbuffer\u001b[49m\u001b[43m)\u001b[49m\n\u001b[0;32m   1105\u001b[0m     \u001b[38;5;28;01melse\u001b[39;00m:\n\u001b[0;32m   1106\u001b[0m         \u001b[38;5;28;01mreturn\u001b[39;00m \u001b[38;5;28mself\u001b[39m\u001b[38;5;241m.\u001b[39m_sslobj\u001b[38;5;241m.\u001b[39mread(\u001b[38;5;28mlen\u001b[39m)\n",
      "\u001b[1;31mKeyboardInterrupt\u001b[0m: "
     ]
    }
   ],
   "source": [
    "options = webdriver.ChromeOptions()\n",
    "options.add_argument(\"start-maximized\")\n",
    "# options.add_argument('--version=128.0.6613.85')\n",
    "sbr_connection = ChromiumRemoteConnection(os.environ[\"SBR_WS_ENDPOINT\"], 'goog', 'chrome')\n",
    "driver = webdriver.Remote(command_executor=sbr_connection, options=options)\n",
    "print(\"driver ...\", driver)\n",
    "driver.get(\"https://www.wongnai.com/restaurants/2863371uJ-%E0%B9%84%E0%B8%AD%E0%B8%95%E0%B8%B4%E0%B8%A1%E0%B9%82%E0%B8%AD%E0%B9%88%E0%B8%87-%E0%B8%AB%E0%B8%B2%E0%B8%94%E0%B9%83%E0%B8%AB%E0%B8%8D%E0%B9%88?_st=cD0xO2I9Mjg2MzM3MTthZD10cnVlO3Q9MTcyNjI0MjIzNTg5MDtyaT0xWDdiNXlzWDZmQ2JsVzdPRHhqQzdmNHJJMVprNVg7aT0xWDcwWkllN2VJajZiM3RuU2djNnZhQUxJaklZRUI7d3JlZj1zcjs%3D\")\n",
    "WebDriverWait(driver, 10).until(EC.visibility_of_element_located((By.TAG_NAME, 'li')))\n",
    "WebDriverWait(driver, 10).until(EC.visibility_of_element_located((By.TAG_NAME, 'li')))\n",
    "all_meta_data = driver.find_elements(By.TAG_NAME, 'meta')\n",
    "cnt_lat_long = 0\n",
    "lat = 0\n",
    "long = 0\n",
    "lat_property = \"place:location:latitude\"\n",
    "long_property = \"place:location:longitude\"\n",
    "for cur_meta_data in all_meta_data:\n",
    "    if(cnt_lat_long == 2):\n",
    "        break\n",
    "    cur_property = cur_meta_data.get_attribute('property')\n",
    "    print(\"cur_prop --> \", cur_property)\n",
    "    if(cur_property):\n",
    "        if(cur_property == lat_property):\n",
    "            print(cur_meta_data.get_attribute('content'))\n",
    "            lat = float(cur_meta_data.get_attribute('content'))\n",
    "            cnt_lat_long += 1\n",
    "            continue\n",
    "        elif(cur_property == long_property):\n",
    "            print(cur_meta_data.get_attribute('content'))\n",
    "            long = float(cur_meta_data.get_attribute('content'))\n",
    "            cnt_lat_long += 1\n",
    "            continue\n",
    "\n",
    "print(\"lat : \", lat)\n",
    "print(\"long : \", long)\n",
    "time.sleep(10*800)\n",
    "driver.close()"
   ]
  },
  {
   "cell_type": "code",
   "execution_count": 4,
   "metadata": {},
   "outputs": [
    {
     "data": {
      "text/plain": [
       "'https://www.wongnai.com/restaurants/2669474sn-cafe-delight-phuket/photos'"
      ]
     },
     "execution_count": 4,
     "metadata": {},
     "output_type": "execute_result"
    }
   ],
   "source": [
    "x1 = \"https://www.wongnai.com/restaurants/2669474sn-cafe-delight-phuket\"\n",
    "x2 = \"https://www.wongnai.com/restaurants/2686171Bf-napa-massage-patong?_st=cD0yO2I9MjY4NjE3MTthZD1mYWxzZTt0PTE3MjYzMzQ1MDEwODI7cmk9MVg3YjYxdFkwRWVpVTJlQ2RpcjFQUThuR29ZUklUO2k9MVg3MFpMZjhKMEhaTFRoS1hiTWtzSTJXTDNIck4xO3dyZWY9c3I7\"\n",
    "\n",
    "a = x1\n",
    "find_mark_Idx = a.find('?')\n",
    "res_mark_Idx = find_mark_Idx if find_mark_Idx != -1 else len(a)\n",
    "all_img_query = '%s/photos' % (a[:res_mark_Idx])\n",
    "all_img_query"
   ]
  },
  {
   "cell_type": "code",
   "execution_count": 18,
   "metadata": {},
   "outputs": [
    {
     "name": "stdout",
     "output_type": "stream",
     "text": [
      "[ 1  2  3  4  5  6  7  8  9 10 11 12 13 14 15 16 17 18 19 20 21 22 23 24\n",
      " 25 26 27 28 29 30 31 32 33 34 35 36 37 38 39 40 41 42 43 44 45 46 47 48\n",
      " 49 50]\n",
      "[array([ 1,  2,  3,  4,  5,  6,  7,  8,  9, 10, 11, 12, 13, 14, 15, 16, 17,\n",
      "       18, 19, 20, 21, 22, 23, 24, 25]), array([26, 27, 28, 29, 30, 31, 32, 33, 34, 35, 36, 37, 38, 39, 40, 41, 42,\n",
      "       43, 44, 45, 46, 47, 48, 49, 50])]\n"
     ]
    }
   ],
   "source": [
    "arr = np.arange(50)\n",
    "arr = arr + 1\n",
    "print(arr)\n",
    "newarr = np.array_split(arr, 2)\n",
    "\n",
    "print(newarr)\n"
   ]
  },
  {
   "cell_type": "code",
   "execution_count": null,
   "metadata": {},
   "outputs": [],
   "source": [
    "# num = 20\n",
    "# chunk = np.array_split(np.arange(70), min(num, len_df))\n",
    "# print(\"check chunk :\")\n",
    "# print(chunk)\n",
    "\n",
    "# sub_cur_table_df = []\n",
    "# for cur_chunk in chunk:\n",
    "#     cur_df = cur_pivot_df.iloc[cur_chunk[0]:cur_chunk[-1]+1, :]\n",
    "#     cur_df.reset_index(inplace = True, drop = True)\n",
    "#     sub_cur_table_df.append(cur_df)\n",
    "\n",
    "# # Use a process pool for parallel execution\n",
    "# # test_list = [5,6,7,8,3,1]\n",
    "# with Pool(processes=8) as pool:\n",
    "#     # pool.map accepts only a list of single parameters as input. Multiple parameters can be passed \n",
    "#     # to pool by a list of parameter-lists, or by setting some parameters constant using partial. \n",
    "#     # - Partial creates a new simplified version of a function with part of the arguments fixed to specific values.\n",
    "#     func_param_fix = partial(mulProcess_helper_calDataDrift_head_level, cur_groupName_list=cur_groupName_list.copy())\n",
    "#     all_res = pool.map(func_param_fix, sub_cur_table_df)"
   ]
  },
  {
   "cell_type": "code",
   "execution_count": 8,
   "metadata": {},
   "outputs": [
    {
     "name": "stdout",
     "output_type": "stream",
     "text": [
      "check chunk :\n",
      "[array([0, 1, 2, 3]), array([4, 5, 6, 7]), array([ 8,  9, 10, 11]), array([12, 13, 14, 15]), array([16, 17, 18, 19]), array([20, 21, 22, 23]), array([24, 25, 26, 27]), array([28, 29, 30, 31]), array([32, 33, 34, 35]), array([36, 37, 38, 39]), array([40, 41, 42]), array([43, 44, 45]), array([46, 47, 48]), array([49, 50, 51]), array([52, 53, 54]), array([55, 56, 57]), array([58, 59, 60]), array([61, 62, 63]), array([64, 65, 66]), array([67, 68, 69])]\n"
     ]
    },
    {
     "data": {
      "text/plain": [
       "[8, 20]"
      ]
     },
     "execution_count": 8,
     "metadata": {},
     "output_type": "execute_result"
    }
   ],
   "source": [
    "num = 20\n",
    "chunk = np.array_split(np.arange(70), num)\n",
    "print(\"check chunk :\")\n",
    "print(chunk)\n",
    "\n",
    "# sub_cur_table_df = []\n",
    "# for cur_chunk in chunk:\n",
    "#     cur_df = cur_pivot_df.iloc[cur_chunk[0]:cur_chunk[-1]+1, :]\n",
    "#     cur_df.reset_index(inplace = True, drop = True)\n",
    "#     sub_cur_table_df.append(cur_df)\n",
    "\n",
    "# # Use a process pool for parallel execution\n",
    "# # test_list = [5,6,7,8,3,1]\n",
    "# with Pool(processes=8) as pool:\n",
    "#     # pool.map accepts only a list of single parameters as input. Multiple parameters can be passed \n",
    "#     # to pool by a list of parameter-lists, or by setting some parameters constant using partial. \n",
    "#     # - Partial creates a new simplified version of a function with part of the arguments fixed to specific values.\n",
    "#     func_param_fix = partial(mulProcess_helper_calDataDrift_head_level, cur_groupName_list=cur_groupName_list.copy())\n",
    "#     all_res = pool.map(func_param_fix, sub_cur_table_df)\n",
    "\n",
    "test_list = [5,6,7,8,3,1]\n",
    "with Pool(processes=8) as pool: \n",
    "    # func_param_fix = partial(test_mulProcess_method)\n",
    "    func_param_fix = partial(test_mulProcess_more_params_method, num_2 = 4)\n",
    "    all_res = pool.map(func_param_fix, [1,4])\n",
    "\n",
    "all_res"
   ]
  },
  {
   "cell_type": "code",
   "execution_count": 8,
   "metadata": {},
   "outputs": [
    {
     "name": "stdout",
     "output_type": "stream",
     "text": [
      "check page number list: \n",
      "[  1   2   3   4   5   6   7   8   9  10  11  12  13  14  15  16  17  18\n",
      "  19  20  21  22  23  24  25  26  27  28  29  30  31  32  33  34  35  36\n",
      "  37  38  39  40  41  42  43  44  45  46  47  48  49  50  51  52  53  54\n",
      "  55  56  57  58  59  60  61  62  63  64  65  66  67  68  69  70  71  72\n",
      "  73  74  75  76  77  78  79  80  81  82  83  84  85  86  87  88  89  90\n",
      "  91  92  93  94  95  96  97  98  99 100 101 102 103 104 105 106 107 108\n",
      " 109 110 111 112 113 114 115 116 117 118 119 120 121 122 123 124 125 126\n",
      " 127 128 129 130 131 132 133 134 135 136 137 138 139 140 141 142 143 144\n",
      " 145 146 147 148 149 150 151 152 153 154 155 156 157 158 159 160 161 162\n",
      " 163 164 165 166 167 168 169 170 171 172 173 174 175 176 177 178 179 180\n",
      " 181 182 183 184 185 186 187 188 189 190 191 192 193 194 195 196 197 198\n",
      " 199 200 201 202 203 204 205 206 207 208 209 210 211 212 213 214 215 216\n",
      " 217 218 219 220 221 222 223 224 225 226 227 228 229 230 231 232 233 234\n",
      " 235 236 237 238 239 240 241 242 243 244 245 246 247 248 249 250 251 252\n",
      " 253 254 255 256 257 258 259 260 261 262 263 264 265 266 267 268 269 270\n",
      " 271 272 273 274 275 276 277 278 279 280 281]\n",
      "['https://www.wongnai.com/restaurants?categoryGroupId=9&regions=5119&page.number=1', 'https://www.wongnai.com/restaurants?categoryGroupId=9&regions=5119&page.number=2', 'https://www.wongnai.com/restaurants?categoryGroupId=9&regions=5119&page.number=3', 'https://www.wongnai.com/restaurants?categoryGroupId=9&regions=5119&page.number=4', 'https://www.wongnai.com/restaurants?categoryGroupId=9&regions=5119&page.number=5', 'https://www.wongnai.com/restaurants?categoryGroupId=9&regions=5119&page.number=6', 'https://www.wongnai.com/restaurants?categoryGroupId=9&regions=5119&page.number=7', 'https://www.wongnai.com/restaurants?categoryGroupId=9&regions=5119&page.number=8', 'https://www.wongnai.com/restaurants?categoryGroupId=9&regions=5119&page.number=9', 'https://www.wongnai.com/restaurants?categoryGroupId=9&regions=5119&page.number=10', 'https://www.wongnai.com/restaurants?categoryGroupId=9&regions=5119&page.number=11', 'https://www.wongnai.com/restaurants?categoryGroupId=9&regions=5119&page.number=12', 'https://www.wongnai.com/restaurants?categoryGroupId=9&regions=5119&page.number=13', 'https://www.wongnai.com/restaurants?categoryGroupId=9&regions=5119&page.number=14', 'https://www.wongnai.com/restaurants?categoryGroupId=9&regions=5119&page.number=15', 'https://www.wongnai.com/restaurants?categoryGroupId=9&regions=5119&page.number=16', 'https://www.wongnai.com/restaurants?categoryGroupId=9&regions=5119&page.number=17', 'https://www.wongnai.com/restaurants?categoryGroupId=9&regions=5119&page.number=18', 'https://www.wongnai.com/restaurants?categoryGroupId=9&regions=5119&page.number=19', 'https://www.wongnai.com/restaurants?categoryGroupId=9&regions=5119&page.number=20', 'https://www.wongnai.com/restaurants?categoryGroupId=9&regions=5119&page.number=21', 'https://www.wongnai.com/restaurants?categoryGroupId=9&regions=5119&page.number=22', 'https://www.wongnai.com/restaurants?categoryGroupId=9&regions=5119&page.number=23', 'https://www.wongnai.com/restaurants?categoryGroupId=9&regions=5119&page.number=24', 'https://www.wongnai.com/restaurants?categoryGroupId=9&regions=5119&page.number=25', 'https://www.wongnai.com/restaurants?categoryGroupId=9&regions=5119&page.number=26', 'https://www.wongnai.com/restaurants?categoryGroupId=9&regions=5119&page.number=27', 'https://www.wongnai.com/restaurants?categoryGroupId=9&regions=5119&page.number=28', 'https://www.wongnai.com/restaurants?categoryGroupId=9&regions=5119&page.number=29', 'https://www.wongnai.com/restaurants?categoryGroupId=9&regions=5119&page.number=30', 'https://www.wongnai.com/restaurants?categoryGroupId=9&regions=5119&page.number=31', 'https://www.wongnai.com/restaurants?categoryGroupId=9&regions=5119&page.number=32', 'https://www.wongnai.com/restaurants?categoryGroupId=9&regions=5119&page.number=33', 'https://www.wongnai.com/restaurants?categoryGroupId=9&regions=5119&page.number=34', 'https://www.wongnai.com/restaurants?categoryGroupId=9&regions=5119&page.number=35', 'https://www.wongnai.com/restaurants?categoryGroupId=9&regions=5119&page.number=36', 'https://www.wongnai.com/restaurants?categoryGroupId=9&regions=5119&page.number=37', 'https://www.wongnai.com/restaurants?categoryGroupId=9&regions=5119&page.number=38', 'https://www.wongnai.com/restaurants?categoryGroupId=9&regions=5119&page.number=39', 'https://www.wongnai.com/restaurants?categoryGroupId=9&regions=5119&page.number=40', 'https://www.wongnai.com/restaurants?categoryGroupId=9&regions=5119&page.number=41', 'https://www.wongnai.com/restaurants?categoryGroupId=9&regions=5119&page.number=42', 'https://www.wongnai.com/restaurants?categoryGroupId=9&regions=5119&page.number=43', 'https://www.wongnai.com/restaurants?categoryGroupId=9&regions=5119&page.number=44', 'https://www.wongnai.com/restaurants?categoryGroupId=9&regions=5119&page.number=45', 'https://www.wongnai.com/restaurants?categoryGroupId=9&regions=5119&page.number=46', 'https://www.wongnai.com/restaurants?categoryGroupId=9&regions=5119&page.number=47', 'https://www.wongnai.com/restaurants?categoryGroupId=9&regions=5119&page.number=48', 'https://www.wongnai.com/restaurants?categoryGroupId=9&regions=5119&page.number=49', 'https://www.wongnai.com/restaurants?categoryGroupId=9&regions=5119&page.number=50', 'https://www.wongnai.com/restaurants?categoryGroupId=9&regions=5119&page.number=51', 'https://www.wongnai.com/restaurants?categoryGroupId=9&regions=5119&page.number=52', 'https://www.wongnai.com/restaurants?categoryGroupId=9&regions=5119&page.number=53', 'https://www.wongnai.com/restaurants?categoryGroupId=9&regions=5119&page.number=54', 'https://www.wongnai.com/restaurants?categoryGroupId=9&regions=5119&page.number=55', 'https://www.wongnai.com/restaurants?categoryGroupId=9&regions=5119&page.number=56', 'https://www.wongnai.com/restaurants?categoryGroupId=9&regions=5119&page.number=57', 'https://www.wongnai.com/restaurants?categoryGroupId=9&regions=5119&page.number=58', 'https://www.wongnai.com/restaurants?categoryGroupId=9&regions=5119&page.number=59', 'https://www.wongnai.com/restaurants?categoryGroupId=9&regions=5119&page.number=60', 'https://www.wongnai.com/restaurants?categoryGroupId=9&regions=5119&page.number=61', 'https://www.wongnai.com/restaurants?categoryGroupId=9&regions=5119&page.number=62', 'https://www.wongnai.com/restaurants?categoryGroupId=9&regions=5119&page.number=63', 'https://www.wongnai.com/restaurants?categoryGroupId=9&regions=5119&page.number=64', 'https://www.wongnai.com/restaurants?categoryGroupId=9&regions=5119&page.number=65', 'https://www.wongnai.com/restaurants?categoryGroupId=9&regions=5119&page.number=66', 'https://www.wongnai.com/restaurants?categoryGroupId=9&regions=5119&page.number=67', 'https://www.wongnai.com/restaurants?categoryGroupId=9&regions=5119&page.number=68', 'https://www.wongnai.com/restaurants?categoryGroupId=9&regions=5119&page.number=69', 'https://www.wongnai.com/restaurants?categoryGroupId=9&regions=5119&page.number=70', 'https://www.wongnai.com/restaurants?categoryGroupId=9&regions=5119&page.number=71', 'https://www.wongnai.com/restaurants?categoryGroupId=9&regions=5119&page.number=72', 'https://www.wongnai.com/restaurants?categoryGroupId=9&regions=5119&page.number=73', 'https://www.wongnai.com/restaurants?categoryGroupId=9&regions=5119&page.number=74', 'https://www.wongnai.com/restaurants?categoryGroupId=9&regions=5119&page.number=75', 'https://www.wongnai.com/restaurants?categoryGroupId=9&regions=5119&page.number=76', 'https://www.wongnai.com/restaurants?categoryGroupId=9&regions=5119&page.number=77', 'https://www.wongnai.com/restaurants?categoryGroupId=9&regions=5119&page.number=78', 'https://www.wongnai.com/restaurants?categoryGroupId=9&regions=5119&page.number=79', 'https://www.wongnai.com/restaurants?categoryGroupId=9&regions=5119&page.number=80', 'https://www.wongnai.com/restaurants?categoryGroupId=9&regions=5119&page.number=81', 'https://www.wongnai.com/restaurants?categoryGroupId=9&regions=5119&page.number=82', 'https://www.wongnai.com/restaurants?categoryGroupId=9&regions=5119&page.number=83', 'https://www.wongnai.com/restaurants?categoryGroupId=9&regions=5119&page.number=84', 'https://www.wongnai.com/restaurants?categoryGroupId=9&regions=5119&page.number=85', 'https://www.wongnai.com/restaurants?categoryGroupId=9&regions=5119&page.number=86', 'https://www.wongnai.com/restaurants?categoryGroupId=9&regions=5119&page.number=87', 'https://www.wongnai.com/restaurants?categoryGroupId=9&regions=5119&page.number=88', 'https://www.wongnai.com/restaurants?categoryGroupId=9&regions=5119&page.number=89', 'https://www.wongnai.com/restaurants?categoryGroupId=9&regions=5119&page.number=90', 'https://www.wongnai.com/restaurants?categoryGroupId=9&regions=5119&page.number=91', 'https://www.wongnai.com/restaurants?categoryGroupId=9&regions=5119&page.number=92', 'https://www.wongnai.com/restaurants?categoryGroupId=9&regions=5119&page.number=93', 'https://www.wongnai.com/restaurants?categoryGroupId=9&regions=5119&page.number=94', 'https://www.wongnai.com/restaurants?categoryGroupId=9&regions=5119&page.number=95', 'https://www.wongnai.com/restaurants?categoryGroupId=9&regions=5119&page.number=96', 'https://www.wongnai.com/restaurants?categoryGroupId=9&regions=5119&page.number=97', 'https://www.wongnai.com/restaurants?categoryGroupId=9&regions=5119&page.number=98', 'https://www.wongnai.com/restaurants?categoryGroupId=9&regions=5119&page.number=99', 'https://www.wongnai.com/restaurants?categoryGroupId=9&regions=5119&page.number=100', 'https://www.wongnai.com/restaurants?categoryGroupId=9&regions=5119&page.number=101', 'https://www.wongnai.com/restaurants?categoryGroupId=9&regions=5119&page.number=102', 'https://www.wongnai.com/restaurants?categoryGroupId=9&regions=5119&page.number=103', 'https://www.wongnai.com/restaurants?categoryGroupId=9&regions=5119&page.number=104', 'https://www.wongnai.com/restaurants?categoryGroupId=9&regions=5119&page.number=105', 'https://www.wongnai.com/restaurants?categoryGroupId=9&regions=5119&page.number=106', 'https://www.wongnai.com/restaurants?categoryGroupId=9&regions=5119&page.number=107', 'https://www.wongnai.com/restaurants?categoryGroupId=9&regions=5119&page.number=108', 'https://www.wongnai.com/restaurants?categoryGroupId=9&regions=5119&page.number=109', 'https://www.wongnai.com/restaurants?categoryGroupId=9&regions=5119&page.number=110', 'https://www.wongnai.com/restaurants?categoryGroupId=9&regions=5119&page.number=111', 'https://www.wongnai.com/restaurants?categoryGroupId=9&regions=5119&page.number=112', 'https://www.wongnai.com/restaurants?categoryGroupId=9&regions=5119&page.number=113', 'https://www.wongnai.com/restaurants?categoryGroupId=9&regions=5119&page.number=114', 'https://www.wongnai.com/restaurants?categoryGroupId=9&regions=5119&page.number=115', 'https://www.wongnai.com/restaurants?categoryGroupId=9&regions=5119&page.number=116', 'https://www.wongnai.com/restaurants?categoryGroupId=9&regions=5119&page.number=117', 'https://www.wongnai.com/restaurants?categoryGroupId=9&regions=5119&page.number=118', 'https://www.wongnai.com/restaurants?categoryGroupId=9&regions=5119&page.number=119', 'https://www.wongnai.com/restaurants?categoryGroupId=9&regions=5119&page.number=120', 'https://www.wongnai.com/restaurants?categoryGroupId=9&regions=5119&page.number=121', 'https://www.wongnai.com/restaurants?categoryGroupId=9&regions=5119&page.number=122', 'https://www.wongnai.com/restaurants?categoryGroupId=9&regions=5119&page.number=123', 'https://www.wongnai.com/restaurants?categoryGroupId=9&regions=5119&page.number=124', 'https://www.wongnai.com/restaurants?categoryGroupId=9&regions=5119&page.number=125', 'https://www.wongnai.com/restaurants?categoryGroupId=9&regions=5119&page.number=126', 'https://www.wongnai.com/restaurants?categoryGroupId=9&regions=5119&page.number=127', 'https://www.wongnai.com/restaurants?categoryGroupId=9&regions=5119&page.number=128', 'https://www.wongnai.com/restaurants?categoryGroupId=9&regions=5119&page.number=129', 'https://www.wongnai.com/restaurants?categoryGroupId=9&regions=5119&page.number=130', 'https://www.wongnai.com/restaurants?categoryGroupId=9&regions=5119&page.number=131', 'https://www.wongnai.com/restaurants?categoryGroupId=9&regions=5119&page.number=132', 'https://www.wongnai.com/restaurants?categoryGroupId=9&regions=5119&page.number=133', 'https://www.wongnai.com/restaurants?categoryGroupId=9&regions=5119&page.number=134', 'https://www.wongnai.com/restaurants?categoryGroupId=9&regions=5119&page.number=135', 'https://www.wongnai.com/restaurants?categoryGroupId=9&regions=5119&page.number=136', 'https://www.wongnai.com/restaurants?categoryGroupId=9&regions=5119&page.number=137', 'https://www.wongnai.com/restaurants?categoryGroupId=9&regions=5119&page.number=138', 'https://www.wongnai.com/restaurants?categoryGroupId=9&regions=5119&page.number=139', 'https://www.wongnai.com/restaurants?categoryGroupId=9&regions=5119&page.number=140', 'https://www.wongnai.com/restaurants?categoryGroupId=9&regions=5119&page.number=141', 'https://www.wongnai.com/restaurants?categoryGroupId=9&regions=5119&page.number=142', 'https://www.wongnai.com/restaurants?categoryGroupId=9&regions=5119&page.number=143', 'https://www.wongnai.com/restaurants?categoryGroupId=9&regions=5119&page.number=144', 'https://www.wongnai.com/restaurants?categoryGroupId=9&regions=5119&page.number=145', 'https://www.wongnai.com/restaurants?categoryGroupId=9&regions=5119&page.number=146', 'https://www.wongnai.com/restaurants?categoryGroupId=9&regions=5119&page.number=147', 'https://www.wongnai.com/restaurants?categoryGroupId=9&regions=5119&page.number=148', 'https://www.wongnai.com/restaurants?categoryGroupId=9&regions=5119&page.number=149', 'https://www.wongnai.com/restaurants?categoryGroupId=9&regions=5119&page.number=150', 'https://www.wongnai.com/restaurants?categoryGroupId=9&regions=5119&page.number=151', 'https://www.wongnai.com/restaurants?categoryGroupId=9&regions=5119&page.number=152', 'https://www.wongnai.com/restaurants?categoryGroupId=9&regions=5119&page.number=153', 'https://www.wongnai.com/restaurants?categoryGroupId=9&regions=5119&page.number=154', 'https://www.wongnai.com/restaurants?categoryGroupId=9&regions=5119&page.number=155', 'https://www.wongnai.com/restaurants?categoryGroupId=9&regions=5119&page.number=156', 'https://www.wongnai.com/restaurants?categoryGroupId=9&regions=5119&page.number=157', 'https://www.wongnai.com/restaurants?categoryGroupId=9&regions=5119&page.number=158', 'https://www.wongnai.com/restaurants?categoryGroupId=9&regions=5119&page.number=159', 'https://www.wongnai.com/restaurants?categoryGroupId=9&regions=5119&page.number=160', 'https://www.wongnai.com/restaurants?categoryGroupId=9&regions=5119&page.number=161', 'https://www.wongnai.com/restaurants?categoryGroupId=9&regions=5119&page.number=162', 'https://www.wongnai.com/restaurants?categoryGroupId=9&regions=5119&page.number=163', 'https://www.wongnai.com/restaurants?categoryGroupId=9&regions=5119&page.number=164', 'https://www.wongnai.com/restaurants?categoryGroupId=9&regions=5119&page.number=165', 'https://www.wongnai.com/restaurants?categoryGroupId=9&regions=5119&page.number=166', 'https://www.wongnai.com/restaurants?categoryGroupId=9&regions=5119&page.number=167', 'https://www.wongnai.com/restaurants?categoryGroupId=9&regions=5119&page.number=168', 'https://www.wongnai.com/restaurants?categoryGroupId=9&regions=5119&page.number=169', 'https://www.wongnai.com/restaurants?categoryGroupId=9&regions=5119&page.number=170', 'https://www.wongnai.com/restaurants?categoryGroupId=9&regions=5119&page.number=171', 'https://www.wongnai.com/restaurants?categoryGroupId=9&regions=5119&page.number=172', 'https://www.wongnai.com/restaurants?categoryGroupId=9&regions=5119&page.number=173', 'https://www.wongnai.com/restaurants?categoryGroupId=9&regions=5119&page.number=174', 'https://www.wongnai.com/restaurants?categoryGroupId=9&regions=5119&page.number=175', 'https://www.wongnai.com/restaurants?categoryGroupId=9&regions=5119&page.number=176', 'https://www.wongnai.com/restaurants?categoryGroupId=9&regions=5119&page.number=177', 'https://www.wongnai.com/restaurants?categoryGroupId=9&regions=5119&page.number=178', 'https://www.wongnai.com/restaurants?categoryGroupId=9&regions=5119&page.number=179', 'https://www.wongnai.com/restaurants?categoryGroupId=9&regions=5119&page.number=180', 'https://www.wongnai.com/restaurants?categoryGroupId=9&regions=5119&page.number=181', 'https://www.wongnai.com/restaurants?categoryGroupId=9&regions=5119&page.number=182', 'https://www.wongnai.com/restaurants?categoryGroupId=9&regions=5119&page.number=183', 'https://www.wongnai.com/restaurants?categoryGroupId=9&regions=5119&page.number=184', 'https://www.wongnai.com/restaurants?categoryGroupId=9&regions=5119&page.number=185', 'https://www.wongnai.com/restaurants?categoryGroupId=9&regions=5119&page.number=186', 'https://www.wongnai.com/restaurants?categoryGroupId=9&regions=5119&page.number=187', 'https://www.wongnai.com/restaurants?categoryGroupId=9&regions=5119&page.number=188', 'https://www.wongnai.com/restaurants?categoryGroupId=9&regions=5119&page.number=189', 'https://www.wongnai.com/restaurants?categoryGroupId=9&regions=5119&page.number=190', 'https://www.wongnai.com/restaurants?categoryGroupId=9&regions=5119&page.number=191', 'https://www.wongnai.com/restaurants?categoryGroupId=9&regions=5119&page.number=192', 'https://www.wongnai.com/restaurants?categoryGroupId=9&regions=5119&page.number=193', 'https://www.wongnai.com/restaurants?categoryGroupId=9&regions=5119&page.number=194', 'https://www.wongnai.com/restaurants?categoryGroupId=9&regions=5119&page.number=195', 'https://www.wongnai.com/restaurants?categoryGroupId=9&regions=5119&page.number=196', 'https://www.wongnai.com/restaurants?categoryGroupId=9&regions=5119&page.number=197', 'https://www.wongnai.com/restaurants?categoryGroupId=9&regions=5119&page.number=198', 'https://www.wongnai.com/restaurants?categoryGroupId=9&regions=5119&page.number=199', 'https://www.wongnai.com/restaurants?categoryGroupId=9&regions=5119&page.number=200', 'https://www.wongnai.com/restaurants?categoryGroupId=9&regions=5119&page.number=201', 'https://www.wongnai.com/restaurants?categoryGroupId=9&regions=5119&page.number=202', 'https://www.wongnai.com/restaurants?categoryGroupId=9&regions=5119&page.number=203', 'https://www.wongnai.com/restaurants?categoryGroupId=9&regions=5119&page.number=204', 'https://www.wongnai.com/restaurants?categoryGroupId=9&regions=5119&page.number=205', 'https://www.wongnai.com/restaurants?categoryGroupId=9&regions=5119&page.number=206', 'https://www.wongnai.com/restaurants?categoryGroupId=9&regions=5119&page.number=207', 'https://www.wongnai.com/restaurants?categoryGroupId=9&regions=5119&page.number=208', 'https://www.wongnai.com/restaurants?categoryGroupId=9&regions=5119&page.number=209', 'https://www.wongnai.com/restaurants?categoryGroupId=9&regions=5119&page.number=210', 'https://www.wongnai.com/restaurants?categoryGroupId=9&regions=5119&page.number=211', 'https://www.wongnai.com/restaurants?categoryGroupId=9&regions=5119&page.number=212', 'https://www.wongnai.com/restaurants?categoryGroupId=9&regions=5119&page.number=213', 'https://www.wongnai.com/restaurants?categoryGroupId=9&regions=5119&page.number=214', 'https://www.wongnai.com/restaurants?categoryGroupId=9&regions=5119&page.number=215', 'https://www.wongnai.com/restaurants?categoryGroupId=9&regions=5119&page.number=216', 'https://www.wongnai.com/restaurants?categoryGroupId=9&regions=5119&page.number=217', 'https://www.wongnai.com/restaurants?categoryGroupId=9&regions=5119&page.number=218', 'https://www.wongnai.com/restaurants?categoryGroupId=9&regions=5119&page.number=219', 'https://www.wongnai.com/restaurants?categoryGroupId=9&regions=5119&page.number=220', 'https://www.wongnai.com/restaurants?categoryGroupId=9&regions=5119&page.number=221', 'https://www.wongnai.com/restaurants?categoryGroupId=9&regions=5119&page.number=222', 'https://www.wongnai.com/restaurants?categoryGroupId=9&regions=5119&page.number=223', 'https://www.wongnai.com/restaurants?categoryGroupId=9&regions=5119&page.number=224', 'https://www.wongnai.com/restaurants?categoryGroupId=9&regions=5119&page.number=225', 'https://www.wongnai.com/restaurants?categoryGroupId=9&regions=5119&page.number=226', 'https://www.wongnai.com/restaurants?categoryGroupId=9&regions=5119&page.number=227', 'https://www.wongnai.com/restaurants?categoryGroupId=9&regions=5119&page.number=228', 'https://www.wongnai.com/restaurants?categoryGroupId=9&regions=5119&page.number=229', 'https://www.wongnai.com/restaurants?categoryGroupId=9&regions=5119&page.number=230', 'https://www.wongnai.com/restaurants?categoryGroupId=9&regions=5119&page.number=231', 'https://www.wongnai.com/restaurants?categoryGroupId=9&regions=5119&page.number=232', 'https://www.wongnai.com/restaurants?categoryGroupId=9&regions=5119&page.number=233', 'https://www.wongnai.com/restaurants?categoryGroupId=9&regions=5119&page.number=234', 'https://www.wongnai.com/restaurants?categoryGroupId=9&regions=5119&page.number=235', 'https://www.wongnai.com/restaurants?categoryGroupId=9&regions=5119&page.number=236', 'https://www.wongnai.com/restaurants?categoryGroupId=9&regions=5119&page.number=237', 'https://www.wongnai.com/restaurants?categoryGroupId=9&regions=5119&page.number=238', 'https://www.wongnai.com/restaurants?categoryGroupId=9&regions=5119&page.number=239', 'https://www.wongnai.com/restaurants?categoryGroupId=9&regions=5119&page.number=240', 'https://www.wongnai.com/restaurants?categoryGroupId=9&regions=5119&page.number=241', 'https://www.wongnai.com/restaurants?categoryGroupId=9&regions=5119&page.number=242', 'https://www.wongnai.com/restaurants?categoryGroupId=9&regions=5119&page.number=243', 'https://www.wongnai.com/restaurants?categoryGroupId=9&regions=5119&page.number=244', 'https://www.wongnai.com/restaurants?categoryGroupId=9&regions=5119&page.number=245', 'https://www.wongnai.com/restaurants?categoryGroupId=9&regions=5119&page.number=246', 'https://www.wongnai.com/restaurants?categoryGroupId=9&regions=5119&page.number=247', 'https://www.wongnai.com/restaurants?categoryGroupId=9&regions=5119&page.number=248', 'https://www.wongnai.com/restaurants?categoryGroupId=9&regions=5119&page.number=249', 'https://www.wongnai.com/restaurants?categoryGroupId=9&regions=5119&page.number=250', 'https://www.wongnai.com/restaurants?categoryGroupId=9&regions=5119&page.number=251', 'https://www.wongnai.com/restaurants?categoryGroupId=9&regions=5119&page.number=252', 'https://www.wongnai.com/restaurants?categoryGroupId=9&regions=5119&page.number=253', 'https://www.wongnai.com/restaurants?categoryGroupId=9&regions=5119&page.number=254', 'https://www.wongnai.com/restaurants?categoryGroupId=9&regions=5119&page.number=255', 'https://www.wongnai.com/restaurants?categoryGroupId=9&regions=5119&page.number=256', 'https://www.wongnai.com/restaurants?categoryGroupId=9&regions=5119&page.number=257', 'https://www.wongnai.com/restaurants?categoryGroupId=9&regions=5119&page.number=258', 'https://www.wongnai.com/restaurants?categoryGroupId=9&regions=5119&page.number=259', 'https://www.wongnai.com/restaurants?categoryGroupId=9&regions=5119&page.number=260', 'https://www.wongnai.com/restaurants?categoryGroupId=9&regions=5119&page.number=261', 'https://www.wongnai.com/restaurants?categoryGroupId=9&regions=5119&page.number=262', 'https://www.wongnai.com/restaurants?categoryGroupId=9&regions=5119&page.number=263', 'https://www.wongnai.com/restaurants?categoryGroupId=9&regions=5119&page.number=264', 'https://www.wongnai.com/restaurants?categoryGroupId=9&regions=5119&page.number=265', 'https://www.wongnai.com/restaurants?categoryGroupId=9&regions=5119&page.number=266', 'https://www.wongnai.com/restaurants?categoryGroupId=9&regions=5119&page.number=267', 'https://www.wongnai.com/restaurants?categoryGroupId=9&regions=5119&page.number=268', 'https://www.wongnai.com/restaurants?categoryGroupId=9&regions=5119&page.number=269', 'https://www.wongnai.com/restaurants?categoryGroupId=9&regions=5119&page.number=270', 'https://www.wongnai.com/restaurants?categoryGroupId=9&regions=5119&page.number=271', 'https://www.wongnai.com/restaurants?categoryGroupId=9&regions=5119&page.number=272', 'https://www.wongnai.com/restaurants?categoryGroupId=9&regions=5119&page.number=273', 'https://www.wongnai.com/restaurants?categoryGroupId=9&regions=5119&page.number=274', 'https://www.wongnai.com/restaurants?categoryGroupId=9&regions=5119&page.number=275', 'https://www.wongnai.com/restaurants?categoryGroupId=9&regions=5119&page.number=276', 'https://www.wongnai.com/restaurants?categoryGroupId=9&regions=5119&page.number=277', 'https://www.wongnai.com/restaurants?categoryGroupId=9&regions=5119&page.number=278', 'https://www.wongnai.com/restaurants?categoryGroupId=9&regions=5119&page.number=279', 'https://www.wongnai.com/restaurants?categoryGroupId=9&regions=5119&page.number=280', 'https://www.wongnai.com/restaurants?categoryGroupId=9&regions=5119&page.number=281']\n"
     ]
    }
   ],
   "source": [
    "# ** select one province from 'ALL_REGION_ID_WONGNAI'\n",
    "# ** so, change \"Idx_of_region\" everytime when scrape another province\n",
    "Idx_of_region = 63\n",
    "cur_region_data = ALL_REGION_ID_WONGNAI[Idx_of_region]\n",
    "\n",
    "# ** find last page (manually)\n",
    "last_page_number = 281\n",
    "\n",
    "cur_province_en = cur_region_data[0]\n",
    "cur_province_th = cur_region_data[1]\n",
    "cur_regionId = cur_region_data[2]\n",
    "\n",
    "# create list of : [1, 2, 3, ...., last_page]\n",
    "page_number_list = np.arange(last_page_number) + 1\n",
    "print(\"check page number list: \")\n",
    "print(page_number_list)\n",
    "\n",
    "all_res = []\n",
    "with Pool(processes=8) as pool: \n",
    "    func_param_fix = partial(test_mulProcess_helper, province = cur_province_th, wongnai_regionId = cur_regionId)\n",
    "    all_res = pool.map(func_param_fix, page_number_list)\n",
    "\n",
    "print(all_res)\n"
   ]
  },
  {
   "cell_type": "code",
   "execution_count": 4,
   "metadata": {},
   "outputs": [
    {
     "name": "stdout",
     "output_type": "stream",
     "text": [
      "find err:\n",
      "unsupported operand type(s) for +: 'int' and 'str'\n"
     ]
    }
   ],
   "source": [
    "try:\n",
    "    while(True):\n",
    "        1 + \"3\"\n",
    "except Exception as e:\n",
    "    print(\"find err:\")\n",
    "    print(e)"
   ]
  },
  {
   "cell_type": "code",
   "execution_count": 7,
   "metadata": {},
   "outputs": [
    {
     "name": "stdout",
     "output_type": "stream",
     "text": [
      "Connect remote browser to scrape img...\n",
      "for:  https://www.wongnai.com/restaurants/2669474sn-cafe-delight-phuket/photos\n"
     ]
    }
   ],
   "source": [
    "x = \"https://www.wongnai.com/restaurants/2669474sn-cafe-delight-phuket?_st=cD0wO2I9MjY2OTQ3NDthZD10cnVlO3Q9MTcyNjM4ODQxMTA3NTtyaT0xWDdiNjNlb2RZUVZwMzJ0RjZkZFpocG5Wemd4NTU7aT0xWDcwWk5RUDRzd2J6Uk4yOUppVlhocDlUTjFNRFc7d3JlZj1hbmRyb2lkOw%3D%3D\"\n",
    "find_mark_Idx = x.find('?')\n",
    "res_mark_Idx = find_mark_Idx if find_mark_Idx != -1 else len(x)\n",
    "# example of restaurant without photos: https://www.wongnai.com/restaurants/95958BB-%E0%B8%A3%E0%B9%89%E0%B8%B2%E0%B8%99%E0%B8%95%E0%B8%AD%E0%B8%87%E0%B8%AB%E0%B8%99%E0%B8%B6%E0%B9%88%E0%B8%87%E0%B8%AA%E0%B9%80%E0%B8%95%E0%B9%8A%E0%B8%81/photos\n",
    "cnt_retry = 0\n",
    "while(True):\n",
    "    if(cnt_retry == 10):\n",
    "        print(\"max retry for scrape_img ...\")\n",
    "        break\n",
    "    # seach image section of current restaurant by this query\n",
    "    all_img_query = '%s/photos' % (x[:res_mark_Idx])\n",
    "\n",
    "    sbr_connection = ChromiumRemoteConnection(os.environ[\"SBR_WS_ENDPOINT\"], 'goog', 'chrome')\n",
    "    print(\"Connect remote browser to scrape img...\")\n",
    "    print(\"for: \", all_img_query)\n",
    "    time.sleep(100)"
   ]
  },
  {
   "cell_type": "code",
   "execution_count": 8,
   "metadata": {},
   "outputs": [],
   "source": [
    "def x1():\n",
    "    1 + \"3\"\n",
    "    print(\"run x1\")\n",
    "def x2():\n",
    "    1 + \"3\"\n",
    "    print(\"run x2\")"
   ]
  },
  {
   "cell_type": "code",
   "execution_count": 9,
   "metadata": {},
   "outputs": [],
   "source": [
    "try:\n",
    "    x1()\n",
    "    x2()\n",
    "except Exception as e:\n",
    "    pass"
   ]
  },
  {
   "cell_type": "code",
   "execution_count": null,
   "metadata": {},
   "outputs": [],
   "source": []
  }
 ],
 "metadata": {
  "kernelspec": {
   "display_name": "Python 3",
   "language": "python",
   "name": "python3"
  },
  "language_info": {
   "codemirror_mode": {
    "name": "ipython",
    "version": 3
   },
   "file_extension": ".py",
   "mimetype": "text/x-python",
   "name": "python",
   "nbconvert_exporter": "python",
   "pygments_lexer": "ipython3",
   "version": "3.12.2"
  }
 },
 "nbformat": 4,
 "nbformat_minor": 2
}
