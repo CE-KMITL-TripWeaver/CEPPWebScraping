{
 "cells": [
  {
   "cell_type": "code",
   "execution_count": 29,
   "metadata": {},
   "outputs": [],
   "source": [
    "import sys\n",
    "sys.path.append('..')\n",
    "import constants.file_handler_constants as fh\n",
    "import numpy as np\n",
    "from packages.attraction.Attraction import *\n",
    "from packages.restaurant.Restaurant import *\n",
    "import os\n",
    "import glob\n",
    "import time\n",
    "import pandas as pd\n",
    "import numpy as np\n",
    "from constants.attraction_constants import *\n",
    "import re\n",
    "import webbrowser\n",
    "from selenium.webdriver import Remote, ChromeOptions\n",
    "from selenium.webdriver.chromium.remote_connection import ChromiumRemoteConnection\n",
    "from selenium import webdriver\n",
    "from selenium.webdriver.common.by import By\n",
    "from selenium.webdriver.support import expected_conditions as EC\n",
    "from selenium.webdriver.support.ui import WebDriverWait\n",
    "\n",
    "from multiprocessing import Pool\n",
    "from functools import partial\n",
    "from packages.restaurant.mulProcess_restaurant_scraping_proxy import *\n",
    "\n",
    "import ast"
   ]
  },
  {
   "cell_type": "code",
   "execution_count": 11,
   "metadata": {},
   "outputs": [
    {
     "name": "stdout",
     "output_type": "stream",
     "text": [
      "<class 'pandas.core.frame.DataFrame'>\n",
      "RangeIndex: 4 entries, 0 to 3\n",
      "Data columns (total 20 columns):\n",
      " #   Column             Non-Null Count  Dtype  \n",
      "---  ------             --------------  -----  \n",
      " 0   name               4 non-null      object \n",
      " 1   description        4 non-null      object \n",
      " 2   latitude           4 non-null      float64\n",
      " 3   longitude          4 non-null      float64\n",
      " 4   imgPath            4 non-null      object \n",
      " 5   phone              2 non-null      object \n",
      " 6   website            4 non-null      object \n",
      " 7   star               4 non-null      float64\n",
      " 8   facility           4 non-null      object \n",
      " 9   tag                4 non-null      object \n",
      " 10  type               4 non-null      object \n",
      " 11  address            4 non-null      object \n",
      " 12  province           4 non-null      object \n",
      " 13  district           4 non-null      object \n",
      " 14  subDistrict        0 non-null      float64\n",
      " 15  province_code      4 non-null      int64  \n",
      " 16  district_code      4 non-null      int64  \n",
      " 17  sub_district_code  4 non-null      int64  \n",
      " 18  score              4 non-null      float64\n",
      " 19  ratingCount        4 non-null      int64  \n",
      "dtypes: float64(5), int64(4), object(11)\n",
      "memory usage: 772.0+ bytes\n"
     ]
    }
   ],
   "source": [
    "test_df = pd.read_csv(r'C:\\Users\\user\\git\\CEPPWebScraping\\merge_accommodation_scraping\\res_merge_accommodation\\res_merge_accommodation_Phuket.csv')\n",
    "test_df.info()"
   ]
  },
  {
   "cell_type": "code",
   "execution_count": 32,
   "metadata": {},
   "outputs": [
    {
     "name": "stdout",
     "output_type": "stream",
     "text": [
      "<class 'str'>\n",
      "['https://media-cdn.tripadvisor.com/media/photo-s/0f/6f/9b/df/tri-trang-beach.jpg', 'https://media-cdn.tripadvisor.com/media/photo-s/0f/4a/86/c7/family-pool.jpg', 'https://media-cdn.tripadvisor.com/media/photo-s/0d/e0/ae/fe/family-pool.jpg', 'https://media-cdn.tripadvisor.com/media/photo-s/15/10/22/ef/balcony-pool-view.jpg', 'https://media-cdn.tripadvisor.com/media/photo-s/15/10/23/8c/kids-club.jpg', 'https://media-cdn.tripadvisor.com/media/photo-s/15/10/23/10/balcony-pool-view.jpg', 'https://media-cdn.tripadvisor.com/media/photo-s/15/10/23/01/pool-terrace.jpg', 'https://media-cdn.tripadvisor.com/media/photo-s/0d/e0/af/6c/merchant-kitchen-all.jpg', 'https://media-cdn.tripadvisor.com/media/photo-s/0f/6f/9d/00/spa-tub.jpg', 'https://media-cdn.tripadvisor.com/media/photo-s/0d/e0/af/45/merchant-kitchen-all.jpg', 'https://media-cdn.tripadvisor.com/media/photo-s/0f/6f/a9/a4/wellness.jpg', 'https://media-cdn.tripadvisor.com/media/photo-s/0d/e0/ae/e6/docg-italian-restaurant.jpg', 'https://media-cdn.tripadvisor.com/media/photo-s/0d/e0/af/42/lobby-bar.jpg', 'https://media-cdn.tripadvisor.com/media/photo-s/0f/6f/9f/97/nam-tok-pool.jpg', 'https://media-cdn.tripadvisor.com/media/photo-s/0f/6f/a0/05/family-pool.jpg']\n",
      "<class 'list'>\n",
      "['https://media-cdn.tripadvisor.com/media/photo-s/0f/6f/9b/df/tri-trang-beach.jpg', 'https://media-cdn.tripadvisor.com/media/photo-s/0f/4a/86/c7/family-pool.jpg', 'https://media-cdn.tripadvisor.com/media/photo-s/0d/e0/ae/fe/family-pool.jpg', 'https://media-cdn.tripadvisor.com/media/photo-s/15/10/22/ef/balcony-pool-view.jpg', 'https://media-cdn.tripadvisor.com/media/photo-s/15/10/23/8c/kids-club.jpg', 'https://media-cdn.tripadvisor.com/media/photo-s/15/10/23/10/balcony-pool-view.jpg', 'https://media-cdn.tripadvisor.com/media/photo-s/15/10/23/01/pool-terrace.jpg', 'https://media-cdn.tripadvisor.com/media/photo-s/0d/e0/af/6c/merchant-kitchen-all.jpg', 'https://media-cdn.tripadvisor.com/media/photo-s/0f/6f/9d/00/spa-tub.jpg', 'https://media-cdn.tripadvisor.com/media/photo-s/0d/e0/af/45/merchant-kitchen-all.jpg', 'https://media-cdn.tripadvisor.com/media/photo-s/0f/6f/a9/a4/wellness.jpg', 'https://media-cdn.tripadvisor.com/media/photo-s/0d/e0/ae/e6/docg-italian-restaurant.jpg', 'https://media-cdn.tripadvisor.com/media/photo-s/0d/e0/af/42/lobby-bar.jpg', 'https://media-cdn.tripadvisor.com/media/photo-s/0f/6f/9f/97/nam-tok-pool.jpg', 'https://media-cdn.tripadvisor.com/media/photo-s/0f/6f/a0/05/family-pool.jpg']\n",
      "https://media-cdn.tripadvisor.com/media/photo-s/0f/6f/9b/df/tri-trang-beach.jpg\n"
     ]
    }
   ],
   "source": [
    "x = test_df.loc[1, 'imgPath']\n",
    "print(type(x))\n",
    "print(x)\n",
    "x1 = ast.literal_eval(x)\n",
    "print(type(x1))\n",
    "print(x1)\n",
    "print(x1[0])"
   ]
  },
  {
   "cell_type": "code",
   "execution_count": 35,
   "metadata": {},
   "outputs": [],
   "source": [
    "geo_code_df = pd.read_csv(fh.PATH_TO_GEOCODE)"
   ]
  },
  {
   "cell_type": "code",
   "execution_count": 36,
   "metadata": {},
   "outputs": [
    {
     "name": "stdout",
     "output_type": "stream",
     "text": [
      "lat, long ->  13.847111   100.6007\n"
     ]
    }
   ],
   "source": [
    "url = \"https://www.google.com/maps/search/?api=1&query=7.880209799999999,98.37213659999999?pi=1&query=7.880209799999999,98.37213659999999\"\n",
    "# URL provided by the user\n",
    "url = \"https://www.google.com/maps/search/?api=1&query=13.847111,100.6007\"\n",
    "\n",
    "# Extract the query part containing lat,long using regular expression\n",
    "match = re.search(r\"query=([-+]?\\d*\\.\\d+|\\d+),([-+]?\\d*\\.\\d+|\\d+)\", url)\n",
    "\n",
    "# Extract latitude and longitude if match is found\n",
    "if match:\n",
    "    latitude = match.group(1)\n",
    "    longitude = match.group(2)\n",
    "    print(\"lat, long -> \",latitude, \" \", longitude)"
   ]
  },
  {
   "cell_type": "code",
   "execution_count": null,
   "metadata": {},
   "outputs": [],
   "source": []
  },
  {
   "cell_type": "code",
   "execution_count": 37,
   "metadata": {},
   "outputs": [
    {
     "data": {
      "text/plain": [
       "'https://www.wongnai.com/restaurants/2669474sn-cafe-delight-phuket/photos'"
      ]
     },
     "execution_count": 37,
     "metadata": {},
     "output_type": "execute_result"
    }
   ],
   "source": [
    "x1 = \"https://www.wongnai.com/restaurants/2669474sn-cafe-delight-phuket\"\n",
    "x2 = \"https://www.wongnai.com/restaurants/2686171Bf-napa-massage-patong?_st=cD0yO2I9MjY4NjE3MTthZD1mYWxzZTt0PTE3MjYzMzQ1MDEwODI7cmk9MVg3YjYxdFkwRWVpVTJlQ2RpcjFQUThuR29ZUklUO2k9MVg3MFpMZjhKMEhaTFRoS1hiTWtzSTJXTDNIck4xO3dyZWY9c3I7\"\n",
    "\n",
    "a = x1\n",
    "find_mark_Idx = a.find('?')\n",
    "res_mark_Idx = find_mark_Idx if find_mark_Idx != -1 else len(a)\n",
    "all_img_query = '%s/photos' % (a[:res_mark_Idx])\n",
    "all_img_query"
   ]
  },
  {
   "cell_type": "code",
   "execution_count": 38,
   "metadata": {},
   "outputs": [
    {
     "name": "stdout",
     "output_type": "stream",
     "text": [
      "[ 1  2  3  4  5  6  7  8  9 10 11 12 13 14 15 16 17 18 19 20 21 22 23 24\n",
      " 25 26 27 28 29 30 31 32 33 34 35 36 37 38 39 40 41 42 43 44 45 46 47 48\n",
      " 49 50]\n",
      "[array([ 1,  2,  3,  4,  5,  6,  7,  8,  9, 10, 11, 12, 13, 14, 15, 16, 17,\n",
      "       18, 19, 20, 21, 22, 23, 24, 25]), array([26, 27, 28, 29, 30, 31, 32, 33, 34, 35, 36, 37, 38, 39, 40, 41, 42,\n",
      "       43, 44, 45, 46, 47, 48, 49, 50])]\n"
     ]
    }
   ],
   "source": [
    "arr = np.arange(50)\n",
    "arr = arr + 1\n",
    "print(arr)\n",
    "newarr = np.array_split(arr, 2)\n",
    "\n",
    "print(newarr)\n"
   ]
  },
  {
   "cell_type": "code",
   "execution_count": 39,
   "metadata": {},
   "outputs": [],
   "source": [
    "# num = 20\n",
    "# chunk = np.array_split(np.arange(70), min(num, len_df))\n",
    "# print(\"check chunk :\")\n",
    "# print(chunk)\n",
    "\n",
    "# sub_cur_table_df = []\n",
    "# for cur_chunk in chunk:\n",
    "#     cur_df = cur_pivot_df.iloc[cur_chunk[0]:cur_chunk[-1]+1, :]\n",
    "#     cur_df.reset_index(inplace = True, drop = True)\n",
    "#     sub_cur_table_df.append(cur_df)\n",
    "\n",
    "# # Use a process pool for parallel execution\n",
    "# # test_list = [5,6,7,8,3,1]\n",
    "# with Pool(processes=8) as pool:\n",
    "#     # pool.map accepts only a list of single parameters as input. Multiple parameters can be passed \n",
    "#     # to pool by a list of parameter-lists, or by setting some parameters constant using partial. \n",
    "#     # - Partial creates a new simplified version of a function with part of the arguments fixed to specific values.\n",
    "#     func_param_fix = partial(mulProcess_helper_calDataDrift_head_level, cur_groupName_list=cur_groupName_list.copy())\n",
    "#     all_res = pool.map(func_param_fix, sub_cur_table_df)"
   ]
  },
  {
   "cell_type": "code",
   "execution_count": 40,
   "metadata": {},
   "outputs": [
    {
     "name": "stdout",
     "output_type": "stream",
     "text": [
      "check chunk :\n",
      "[array([0, 1, 2, 3]), array([4, 5, 6, 7]), array([ 8,  9, 10, 11]), array([12, 13, 14, 15]), array([16, 17, 18, 19]), array([20, 21, 22, 23]), array([24, 25, 26, 27]), array([28, 29, 30, 31]), array([32, 33, 34, 35]), array([36, 37, 38, 39]), array([40, 41, 42]), array([43, 44, 45]), array([46, 47, 48]), array([49, 50, 51]), array([52, 53, 54]), array([55, 56, 57]), array([58, 59, 60]), array([61, 62, 63]), array([64, 65, 66]), array([67, 68, 69])]\n"
     ]
    },
    {
     "data": {
      "text/plain": [
       "[8, 20]"
      ]
     },
     "execution_count": 40,
     "metadata": {},
     "output_type": "execute_result"
    }
   ],
   "source": [
    "num = 20\n",
    "chunk = np.array_split(np.arange(70), num)\n",
    "print(\"check chunk :\")\n",
    "print(chunk)\n",
    "\n",
    "# sub_cur_table_df = []\n",
    "# for cur_chunk in chunk:\n",
    "#     cur_df = cur_pivot_df.iloc[cur_chunk[0]:cur_chunk[-1]+1, :]\n",
    "#     cur_df.reset_index(inplace = True, drop = True)\n",
    "#     sub_cur_table_df.append(cur_df)\n",
    "\n",
    "# # Use a process pool for parallel execution\n",
    "# # test_list = [5,6,7,8,3,1]\n",
    "# with Pool(processes=8) as pool:\n",
    "#     # pool.map accepts only a list of single parameters as input. Multiple parameters can be passed \n",
    "#     # to pool by a list of parameter-lists, or by setting some parameters constant using partial. \n",
    "#     # - Partial creates a new simplified version of a function with part of the arguments fixed to specific values.\n",
    "#     func_param_fix = partial(mulProcess_helper_calDataDrift_head_level, cur_groupName_list=cur_groupName_list.copy())\n",
    "#     all_res = pool.map(func_param_fix, sub_cur_table_df)\n",
    "\n",
    "test_list = [5,6,7,8,3,1]\n",
    "with Pool(processes=8) as pool: \n",
    "    # func_param_fix = partial(test_mulProcess_method)\n",
    "    func_param_fix = partial(test_mulProcess_more_params_method, num_2 = 4)\n",
    "    all_res = pool.map(func_param_fix, [1,4])\n",
    "\n",
    "all_res"
   ]
  },
  {
   "cell_type": "code",
   "execution_count": 41,
   "metadata": {},
   "outputs": [
    {
     "name": "stdout",
     "output_type": "stream",
     "text": [
      "check page number list: \n",
      "[  1   2   3   4   5   6   7   8   9  10  11  12  13  14  15  16  17  18\n",
      "  19  20  21  22  23  24  25  26  27  28  29  30  31  32  33  34  35  36\n",
      "  37  38  39  40  41  42  43  44  45  46  47  48  49  50  51  52  53  54\n",
      "  55  56  57  58  59  60  61  62  63  64  65  66  67  68  69  70  71  72\n",
      "  73  74  75  76  77  78  79  80  81  82  83  84  85  86  87  88  89  90\n",
      "  91  92  93  94  95  96  97  98  99 100 101 102 103 104 105 106 107 108\n",
      " 109 110 111 112 113 114 115 116 117 118 119 120 121 122 123 124 125 126\n",
      " 127 128 129 130 131 132 133 134 135 136 137 138 139 140 141 142 143 144\n",
      " 145 146 147 148 149 150 151 152 153 154 155 156 157 158 159 160 161 162\n",
      " 163 164 165 166 167 168 169 170 171 172 173 174 175 176 177 178 179 180\n",
      " 181 182 183 184 185 186 187 188 189 190 191 192 193 194 195 196 197 198\n",
      " 199 200 201 202 203 204 205 206 207 208 209 210 211 212 213 214 215 216\n",
      " 217 218 219 220 221 222 223 224 225 226 227 228 229 230 231 232 233 234\n",
      " 235 236 237 238 239 240 241 242 243 244 245 246 247 248 249 250 251 252\n",
      " 253 254 255 256 257 258 259 260 261 262 263 264 265 266 267 268 269 270\n",
      " 271 272 273 274 275 276 277 278 279 280 281]\n",
      "['https://www.wongnai.com/restaurants?categoryGroupId=9&regions=5119&page.number=1', 'https://www.wongnai.com/restaurants?categoryGroupId=9&regions=5119&page.number=2', 'https://www.wongnai.com/restaurants?categoryGroupId=9&regions=5119&page.number=3', 'https://www.wongnai.com/restaurants?categoryGroupId=9&regions=5119&page.number=4', 'https://www.wongnai.com/restaurants?categoryGroupId=9&regions=5119&page.number=5', 'https://www.wongnai.com/restaurants?categoryGroupId=9&regions=5119&page.number=6', 'https://www.wongnai.com/restaurants?categoryGroupId=9&regions=5119&page.number=7', 'https://www.wongnai.com/restaurants?categoryGroupId=9&regions=5119&page.number=8', 'https://www.wongnai.com/restaurants?categoryGroupId=9&regions=5119&page.number=9', 'https://www.wongnai.com/restaurants?categoryGroupId=9&regions=5119&page.number=10', 'https://www.wongnai.com/restaurants?categoryGroupId=9&regions=5119&page.number=11', 'https://www.wongnai.com/restaurants?categoryGroupId=9&regions=5119&page.number=12', 'https://www.wongnai.com/restaurants?categoryGroupId=9&regions=5119&page.number=13', 'https://www.wongnai.com/restaurants?categoryGroupId=9&regions=5119&page.number=14', 'https://www.wongnai.com/restaurants?categoryGroupId=9&regions=5119&page.number=15', 'https://www.wongnai.com/restaurants?categoryGroupId=9&regions=5119&page.number=16', 'https://www.wongnai.com/restaurants?categoryGroupId=9&regions=5119&page.number=17', 'https://www.wongnai.com/restaurants?categoryGroupId=9&regions=5119&page.number=18', 'https://www.wongnai.com/restaurants?categoryGroupId=9&regions=5119&page.number=19', 'https://www.wongnai.com/restaurants?categoryGroupId=9&regions=5119&page.number=20', 'https://www.wongnai.com/restaurants?categoryGroupId=9&regions=5119&page.number=21', 'https://www.wongnai.com/restaurants?categoryGroupId=9&regions=5119&page.number=22', 'https://www.wongnai.com/restaurants?categoryGroupId=9&regions=5119&page.number=23', 'https://www.wongnai.com/restaurants?categoryGroupId=9&regions=5119&page.number=24', 'https://www.wongnai.com/restaurants?categoryGroupId=9&regions=5119&page.number=25', 'https://www.wongnai.com/restaurants?categoryGroupId=9&regions=5119&page.number=26', 'https://www.wongnai.com/restaurants?categoryGroupId=9&regions=5119&page.number=27', 'https://www.wongnai.com/restaurants?categoryGroupId=9&regions=5119&page.number=28', 'https://www.wongnai.com/restaurants?categoryGroupId=9&regions=5119&page.number=29', 'https://www.wongnai.com/restaurants?categoryGroupId=9&regions=5119&page.number=30', 'https://www.wongnai.com/restaurants?categoryGroupId=9&regions=5119&page.number=31', 'https://www.wongnai.com/restaurants?categoryGroupId=9&regions=5119&page.number=32', 'https://www.wongnai.com/restaurants?categoryGroupId=9&regions=5119&page.number=33', 'https://www.wongnai.com/restaurants?categoryGroupId=9&regions=5119&page.number=34', 'https://www.wongnai.com/restaurants?categoryGroupId=9&regions=5119&page.number=35', 'https://www.wongnai.com/restaurants?categoryGroupId=9&regions=5119&page.number=36', 'https://www.wongnai.com/restaurants?categoryGroupId=9&regions=5119&page.number=37', 'https://www.wongnai.com/restaurants?categoryGroupId=9&regions=5119&page.number=38', 'https://www.wongnai.com/restaurants?categoryGroupId=9&regions=5119&page.number=39', 'https://www.wongnai.com/restaurants?categoryGroupId=9&regions=5119&page.number=40', 'https://www.wongnai.com/restaurants?categoryGroupId=9&regions=5119&page.number=41', 'https://www.wongnai.com/restaurants?categoryGroupId=9&regions=5119&page.number=42', 'https://www.wongnai.com/restaurants?categoryGroupId=9&regions=5119&page.number=43', 'https://www.wongnai.com/restaurants?categoryGroupId=9&regions=5119&page.number=44', 'https://www.wongnai.com/restaurants?categoryGroupId=9&regions=5119&page.number=45', 'https://www.wongnai.com/restaurants?categoryGroupId=9&regions=5119&page.number=46', 'https://www.wongnai.com/restaurants?categoryGroupId=9&regions=5119&page.number=47', 'https://www.wongnai.com/restaurants?categoryGroupId=9&regions=5119&page.number=48', 'https://www.wongnai.com/restaurants?categoryGroupId=9&regions=5119&page.number=49', 'https://www.wongnai.com/restaurants?categoryGroupId=9&regions=5119&page.number=50', 'https://www.wongnai.com/restaurants?categoryGroupId=9&regions=5119&page.number=51', 'https://www.wongnai.com/restaurants?categoryGroupId=9&regions=5119&page.number=52', 'https://www.wongnai.com/restaurants?categoryGroupId=9&regions=5119&page.number=53', 'https://www.wongnai.com/restaurants?categoryGroupId=9&regions=5119&page.number=54', 'https://www.wongnai.com/restaurants?categoryGroupId=9&regions=5119&page.number=55', 'https://www.wongnai.com/restaurants?categoryGroupId=9&regions=5119&page.number=56', 'https://www.wongnai.com/restaurants?categoryGroupId=9&regions=5119&page.number=57', 'https://www.wongnai.com/restaurants?categoryGroupId=9&regions=5119&page.number=58', 'https://www.wongnai.com/restaurants?categoryGroupId=9&regions=5119&page.number=59', 'https://www.wongnai.com/restaurants?categoryGroupId=9&regions=5119&page.number=60', 'https://www.wongnai.com/restaurants?categoryGroupId=9&regions=5119&page.number=61', 'https://www.wongnai.com/restaurants?categoryGroupId=9&regions=5119&page.number=62', 'https://www.wongnai.com/restaurants?categoryGroupId=9&regions=5119&page.number=63', 'https://www.wongnai.com/restaurants?categoryGroupId=9&regions=5119&page.number=64', 'https://www.wongnai.com/restaurants?categoryGroupId=9&regions=5119&page.number=65', 'https://www.wongnai.com/restaurants?categoryGroupId=9&regions=5119&page.number=66', 'https://www.wongnai.com/restaurants?categoryGroupId=9&regions=5119&page.number=67', 'https://www.wongnai.com/restaurants?categoryGroupId=9&regions=5119&page.number=68', 'https://www.wongnai.com/restaurants?categoryGroupId=9&regions=5119&page.number=69', 'https://www.wongnai.com/restaurants?categoryGroupId=9&regions=5119&page.number=70', 'https://www.wongnai.com/restaurants?categoryGroupId=9&regions=5119&page.number=71', 'https://www.wongnai.com/restaurants?categoryGroupId=9&regions=5119&page.number=72', 'https://www.wongnai.com/restaurants?categoryGroupId=9&regions=5119&page.number=73', 'https://www.wongnai.com/restaurants?categoryGroupId=9&regions=5119&page.number=74', 'https://www.wongnai.com/restaurants?categoryGroupId=9&regions=5119&page.number=75', 'https://www.wongnai.com/restaurants?categoryGroupId=9&regions=5119&page.number=76', 'https://www.wongnai.com/restaurants?categoryGroupId=9&regions=5119&page.number=77', 'https://www.wongnai.com/restaurants?categoryGroupId=9&regions=5119&page.number=78', 'https://www.wongnai.com/restaurants?categoryGroupId=9&regions=5119&page.number=79', 'https://www.wongnai.com/restaurants?categoryGroupId=9&regions=5119&page.number=80', 'https://www.wongnai.com/restaurants?categoryGroupId=9&regions=5119&page.number=81', 'https://www.wongnai.com/restaurants?categoryGroupId=9&regions=5119&page.number=82', 'https://www.wongnai.com/restaurants?categoryGroupId=9&regions=5119&page.number=83', 'https://www.wongnai.com/restaurants?categoryGroupId=9&regions=5119&page.number=84', 'https://www.wongnai.com/restaurants?categoryGroupId=9&regions=5119&page.number=85', 'https://www.wongnai.com/restaurants?categoryGroupId=9&regions=5119&page.number=86', 'https://www.wongnai.com/restaurants?categoryGroupId=9&regions=5119&page.number=87', 'https://www.wongnai.com/restaurants?categoryGroupId=9&regions=5119&page.number=88', 'https://www.wongnai.com/restaurants?categoryGroupId=9&regions=5119&page.number=89', 'https://www.wongnai.com/restaurants?categoryGroupId=9&regions=5119&page.number=90', 'https://www.wongnai.com/restaurants?categoryGroupId=9&regions=5119&page.number=91', 'https://www.wongnai.com/restaurants?categoryGroupId=9&regions=5119&page.number=92', 'https://www.wongnai.com/restaurants?categoryGroupId=9&regions=5119&page.number=93', 'https://www.wongnai.com/restaurants?categoryGroupId=9&regions=5119&page.number=94', 'https://www.wongnai.com/restaurants?categoryGroupId=9&regions=5119&page.number=95', 'https://www.wongnai.com/restaurants?categoryGroupId=9&regions=5119&page.number=96', 'https://www.wongnai.com/restaurants?categoryGroupId=9&regions=5119&page.number=97', 'https://www.wongnai.com/restaurants?categoryGroupId=9&regions=5119&page.number=98', 'https://www.wongnai.com/restaurants?categoryGroupId=9&regions=5119&page.number=99', 'https://www.wongnai.com/restaurants?categoryGroupId=9&regions=5119&page.number=100', 'https://www.wongnai.com/restaurants?categoryGroupId=9&regions=5119&page.number=101', 'https://www.wongnai.com/restaurants?categoryGroupId=9&regions=5119&page.number=102', 'https://www.wongnai.com/restaurants?categoryGroupId=9&regions=5119&page.number=103', 'https://www.wongnai.com/restaurants?categoryGroupId=9&regions=5119&page.number=104', 'https://www.wongnai.com/restaurants?categoryGroupId=9&regions=5119&page.number=105', 'https://www.wongnai.com/restaurants?categoryGroupId=9&regions=5119&page.number=106', 'https://www.wongnai.com/restaurants?categoryGroupId=9&regions=5119&page.number=107', 'https://www.wongnai.com/restaurants?categoryGroupId=9&regions=5119&page.number=108', 'https://www.wongnai.com/restaurants?categoryGroupId=9&regions=5119&page.number=109', 'https://www.wongnai.com/restaurants?categoryGroupId=9&regions=5119&page.number=110', 'https://www.wongnai.com/restaurants?categoryGroupId=9&regions=5119&page.number=111', 'https://www.wongnai.com/restaurants?categoryGroupId=9&regions=5119&page.number=112', 'https://www.wongnai.com/restaurants?categoryGroupId=9&regions=5119&page.number=113', 'https://www.wongnai.com/restaurants?categoryGroupId=9&regions=5119&page.number=114', 'https://www.wongnai.com/restaurants?categoryGroupId=9&regions=5119&page.number=115', 'https://www.wongnai.com/restaurants?categoryGroupId=9&regions=5119&page.number=116', 'https://www.wongnai.com/restaurants?categoryGroupId=9&regions=5119&page.number=117', 'https://www.wongnai.com/restaurants?categoryGroupId=9&regions=5119&page.number=118', 'https://www.wongnai.com/restaurants?categoryGroupId=9&regions=5119&page.number=119', 'https://www.wongnai.com/restaurants?categoryGroupId=9&regions=5119&page.number=120', 'https://www.wongnai.com/restaurants?categoryGroupId=9&regions=5119&page.number=121', 'https://www.wongnai.com/restaurants?categoryGroupId=9&regions=5119&page.number=122', 'https://www.wongnai.com/restaurants?categoryGroupId=9&regions=5119&page.number=123', 'https://www.wongnai.com/restaurants?categoryGroupId=9&regions=5119&page.number=124', 'https://www.wongnai.com/restaurants?categoryGroupId=9&regions=5119&page.number=125', 'https://www.wongnai.com/restaurants?categoryGroupId=9&regions=5119&page.number=126', 'https://www.wongnai.com/restaurants?categoryGroupId=9&regions=5119&page.number=127', 'https://www.wongnai.com/restaurants?categoryGroupId=9&regions=5119&page.number=128', 'https://www.wongnai.com/restaurants?categoryGroupId=9&regions=5119&page.number=129', 'https://www.wongnai.com/restaurants?categoryGroupId=9&regions=5119&page.number=130', 'https://www.wongnai.com/restaurants?categoryGroupId=9&regions=5119&page.number=131', 'https://www.wongnai.com/restaurants?categoryGroupId=9&regions=5119&page.number=132', 'https://www.wongnai.com/restaurants?categoryGroupId=9&regions=5119&page.number=133', 'https://www.wongnai.com/restaurants?categoryGroupId=9&regions=5119&page.number=134', 'https://www.wongnai.com/restaurants?categoryGroupId=9&regions=5119&page.number=135', 'https://www.wongnai.com/restaurants?categoryGroupId=9&regions=5119&page.number=136', 'https://www.wongnai.com/restaurants?categoryGroupId=9&regions=5119&page.number=137', 'https://www.wongnai.com/restaurants?categoryGroupId=9&regions=5119&page.number=138', 'https://www.wongnai.com/restaurants?categoryGroupId=9&regions=5119&page.number=139', 'https://www.wongnai.com/restaurants?categoryGroupId=9&regions=5119&page.number=140', 'https://www.wongnai.com/restaurants?categoryGroupId=9&regions=5119&page.number=141', 'https://www.wongnai.com/restaurants?categoryGroupId=9&regions=5119&page.number=142', 'https://www.wongnai.com/restaurants?categoryGroupId=9&regions=5119&page.number=143', 'https://www.wongnai.com/restaurants?categoryGroupId=9&regions=5119&page.number=144', 'https://www.wongnai.com/restaurants?categoryGroupId=9&regions=5119&page.number=145', 'https://www.wongnai.com/restaurants?categoryGroupId=9&regions=5119&page.number=146', 'https://www.wongnai.com/restaurants?categoryGroupId=9&regions=5119&page.number=147', 'https://www.wongnai.com/restaurants?categoryGroupId=9&regions=5119&page.number=148', 'https://www.wongnai.com/restaurants?categoryGroupId=9&regions=5119&page.number=149', 'https://www.wongnai.com/restaurants?categoryGroupId=9&regions=5119&page.number=150', 'https://www.wongnai.com/restaurants?categoryGroupId=9&regions=5119&page.number=151', 'https://www.wongnai.com/restaurants?categoryGroupId=9&regions=5119&page.number=152', 'https://www.wongnai.com/restaurants?categoryGroupId=9&regions=5119&page.number=153', 'https://www.wongnai.com/restaurants?categoryGroupId=9&regions=5119&page.number=154', 'https://www.wongnai.com/restaurants?categoryGroupId=9&regions=5119&page.number=155', 'https://www.wongnai.com/restaurants?categoryGroupId=9&regions=5119&page.number=156', 'https://www.wongnai.com/restaurants?categoryGroupId=9&regions=5119&page.number=157', 'https://www.wongnai.com/restaurants?categoryGroupId=9&regions=5119&page.number=158', 'https://www.wongnai.com/restaurants?categoryGroupId=9&regions=5119&page.number=159', 'https://www.wongnai.com/restaurants?categoryGroupId=9&regions=5119&page.number=160', 'https://www.wongnai.com/restaurants?categoryGroupId=9&regions=5119&page.number=161', 'https://www.wongnai.com/restaurants?categoryGroupId=9&regions=5119&page.number=162', 'https://www.wongnai.com/restaurants?categoryGroupId=9&regions=5119&page.number=163', 'https://www.wongnai.com/restaurants?categoryGroupId=9&regions=5119&page.number=164', 'https://www.wongnai.com/restaurants?categoryGroupId=9&regions=5119&page.number=165', 'https://www.wongnai.com/restaurants?categoryGroupId=9&regions=5119&page.number=166', 'https://www.wongnai.com/restaurants?categoryGroupId=9&regions=5119&page.number=167', 'https://www.wongnai.com/restaurants?categoryGroupId=9&regions=5119&page.number=168', 'https://www.wongnai.com/restaurants?categoryGroupId=9&regions=5119&page.number=169', 'https://www.wongnai.com/restaurants?categoryGroupId=9&regions=5119&page.number=170', 'https://www.wongnai.com/restaurants?categoryGroupId=9&regions=5119&page.number=171', 'https://www.wongnai.com/restaurants?categoryGroupId=9&regions=5119&page.number=172', 'https://www.wongnai.com/restaurants?categoryGroupId=9&regions=5119&page.number=173', 'https://www.wongnai.com/restaurants?categoryGroupId=9&regions=5119&page.number=174', 'https://www.wongnai.com/restaurants?categoryGroupId=9&regions=5119&page.number=175', 'https://www.wongnai.com/restaurants?categoryGroupId=9&regions=5119&page.number=176', 'https://www.wongnai.com/restaurants?categoryGroupId=9&regions=5119&page.number=177', 'https://www.wongnai.com/restaurants?categoryGroupId=9&regions=5119&page.number=178', 'https://www.wongnai.com/restaurants?categoryGroupId=9&regions=5119&page.number=179', 'https://www.wongnai.com/restaurants?categoryGroupId=9&regions=5119&page.number=180', 'https://www.wongnai.com/restaurants?categoryGroupId=9&regions=5119&page.number=181', 'https://www.wongnai.com/restaurants?categoryGroupId=9&regions=5119&page.number=182', 'https://www.wongnai.com/restaurants?categoryGroupId=9&regions=5119&page.number=183', 'https://www.wongnai.com/restaurants?categoryGroupId=9&regions=5119&page.number=184', 'https://www.wongnai.com/restaurants?categoryGroupId=9&regions=5119&page.number=185', 'https://www.wongnai.com/restaurants?categoryGroupId=9&regions=5119&page.number=186', 'https://www.wongnai.com/restaurants?categoryGroupId=9&regions=5119&page.number=187', 'https://www.wongnai.com/restaurants?categoryGroupId=9&regions=5119&page.number=188', 'https://www.wongnai.com/restaurants?categoryGroupId=9&regions=5119&page.number=189', 'https://www.wongnai.com/restaurants?categoryGroupId=9&regions=5119&page.number=190', 'https://www.wongnai.com/restaurants?categoryGroupId=9&regions=5119&page.number=191', 'https://www.wongnai.com/restaurants?categoryGroupId=9&regions=5119&page.number=192', 'https://www.wongnai.com/restaurants?categoryGroupId=9&regions=5119&page.number=193', 'https://www.wongnai.com/restaurants?categoryGroupId=9&regions=5119&page.number=194', 'https://www.wongnai.com/restaurants?categoryGroupId=9&regions=5119&page.number=195', 'https://www.wongnai.com/restaurants?categoryGroupId=9&regions=5119&page.number=196', 'https://www.wongnai.com/restaurants?categoryGroupId=9&regions=5119&page.number=197', 'https://www.wongnai.com/restaurants?categoryGroupId=9&regions=5119&page.number=198', 'https://www.wongnai.com/restaurants?categoryGroupId=9&regions=5119&page.number=199', 'https://www.wongnai.com/restaurants?categoryGroupId=9&regions=5119&page.number=200', 'https://www.wongnai.com/restaurants?categoryGroupId=9&regions=5119&page.number=201', 'https://www.wongnai.com/restaurants?categoryGroupId=9&regions=5119&page.number=202', 'https://www.wongnai.com/restaurants?categoryGroupId=9&regions=5119&page.number=203', 'https://www.wongnai.com/restaurants?categoryGroupId=9&regions=5119&page.number=204', 'https://www.wongnai.com/restaurants?categoryGroupId=9&regions=5119&page.number=205', 'https://www.wongnai.com/restaurants?categoryGroupId=9&regions=5119&page.number=206', 'https://www.wongnai.com/restaurants?categoryGroupId=9&regions=5119&page.number=207', 'https://www.wongnai.com/restaurants?categoryGroupId=9&regions=5119&page.number=208', 'https://www.wongnai.com/restaurants?categoryGroupId=9&regions=5119&page.number=209', 'https://www.wongnai.com/restaurants?categoryGroupId=9&regions=5119&page.number=210', 'https://www.wongnai.com/restaurants?categoryGroupId=9&regions=5119&page.number=211', 'https://www.wongnai.com/restaurants?categoryGroupId=9&regions=5119&page.number=212', 'https://www.wongnai.com/restaurants?categoryGroupId=9&regions=5119&page.number=213', 'https://www.wongnai.com/restaurants?categoryGroupId=9&regions=5119&page.number=214', 'https://www.wongnai.com/restaurants?categoryGroupId=9&regions=5119&page.number=215', 'https://www.wongnai.com/restaurants?categoryGroupId=9&regions=5119&page.number=216', 'https://www.wongnai.com/restaurants?categoryGroupId=9&regions=5119&page.number=217', 'https://www.wongnai.com/restaurants?categoryGroupId=9&regions=5119&page.number=218', 'https://www.wongnai.com/restaurants?categoryGroupId=9&regions=5119&page.number=219', 'https://www.wongnai.com/restaurants?categoryGroupId=9&regions=5119&page.number=220', 'https://www.wongnai.com/restaurants?categoryGroupId=9&regions=5119&page.number=221', 'https://www.wongnai.com/restaurants?categoryGroupId=9&regions=5119&page.number=222', 'https://www.wongnai.com/restaurants?categoryGroupId=9&regions=5119&page.number=223', 'https://www.wongnai.com/restaurants?categoryGroupId=9&regions=5119&page.number=224', 'https://www.wongnai.com/restaurants?categoryGroupId=9&regions=5119&page.number=225', 'https://www.wongnai.com/restaurants?categoryGroupId=9&regions=5119&page.number=226', 'https://www.wongnai.com/restaurants?categoryGroupId=9&regions=5119&page.number=227', 'https://www.wongnai.com/restaurants?categoryGroupId=9&regions=5119&page.number=228', 'https://www.wongnai.com/restaurants?categoryGroupId=9&regions=5119&page.number=229', 'https://www.wongnai.com/restaurants?categoryGroupId=9&regions=5119&page.number=230', 'https://www.wongnai.com/restaurants?categoryGroupId=9&regions=5119&page.number=231', 'https://www.wongnai.com/restaurants?categoryGroupId=9&regions=5119&page.number=232', 'https://www.wongnai.com/restaurants?categoryGroupId=9&regions=5119&page.number=233', 'https://www.wongnai.com/restaurants?categoryGroupId=9&regions=5119&page.number=234', 'https://www.wongnai.com/restaurants?categoryGroupId=9&regions=5119&page.number=235', 'https://www.wongnai.com/restaurants?categoryGroupId=9&regions=5119&page.number=236', 'https://www.wongnai.com/restaurants?categoryGroupId=9&regions=5119&page.number=237', 'https://www.wongnai.com/restaurants?categoryGroupId=9&regions=5119&page.number=238', 'https://www.wongnai.com/restaurants?categoryGroupId=9&regions=5119&page.number=239', 'https://www.wongnai.com/restaurants?categoryGroupId=9&regions=5119&page.number=240', 'https://www.wongnai.com/restaurants?categoryGroupId=9&regions=5119&page.number=241', 'https://www.wongnai.com/restaurants?categoryGroupId=9&regions=5119&page.number=242', 'https://www.wongnai.com/restaurants?categoryGroupId=9&regions=5119&page.number=243', 'https://www.wongnai.com/restaurants?categoryGroupId=9&regions=5119&page.number=244', 'https://www.wongnai.com/restaurants?categoryGroupId=9&regions=5119&page.number=245', 'https://www.wongnai.com/restaurants?categoryGroupId=9&regions=5119&page.number=246', 'https://www.wongnai.com/restaurants?categoryGroupId=9&regions=5119&page.number=247', 'https://www.wongnai.com/restaurants?categoryGroupId=9&regions=5119&page.number=248', 'https://www.wongnai.com/restaurants?categoryGroupId=9&regions=5119&page.number=249', 'https://www.wongnai.com/restaurants?categoryGroupId=9&regions=5119&page.number=250', 'https://www.wongnai.com/restaurants?categoryGroupId=9&regions=5119&page.number=251', 'https://www.wongnai.com/restaurants?categoryGroupId=9&regions=5119&page.number=252', 'https://www.wongnai.com/restaurants?categoryGroupId=9&regions=5119&page.number=253', 'https://www.wongnai.com/restaurants?categoryGroupId=9&regions=5119&page.number=254', 'https://www.wongnai.com/restaurants?categoryGroupId=9&regions=5119&page.number=255', 'https://www.wongnai.com/restaurants?categoryGroupId=9&regions=5119&page.number=256', 'https://www.wongnai.com/restaurants?categoryGroupId=9&regions=5119&page.number=257', 'https://www.wongnai.com/restaurants?categoryGroupId=9&regions=5119&page.number=258', 'https://www.wongnai.com/restaurants?categoryGroupId=9&regions=5119&page.number=259', 'https://www.wongnai.com/restaurants?categoryGroupId=9&regions=5119&page.number=260', 'https://www.wongnai.com/restaurants?categoryGroupId=9&regions=5119&page.number=261', 'https://www.wongnai.com/restaurants?categoryGroupId=9&regions=5119&page.number=262', 'https://www.wongnai.com/restaurants?categoryGroupId=9&regions=5119&page.number=263', 'https://www.wongnai.com/restaurants?categoryGroupId=9&regions=5119&page.number=264', 'https://www.wongnai.com/restaurants?categoryGroupId=9&regions=5119&page.number=265', 'https://www.wongnai.com/restaurants?categoryGroupId=9&regions=5119&page.number=266', 'https://www.wongnai.com/restaurants?categoryGroupId=9&regions=5119&page.number=267', 'https://www.wongnai.com/restaurants?categoryGroupId=9&regions=5119&page.number=268', 'https://www.wongnai.com/restaurants?categoryGroupId=9&regions=5119&page.number=269', 'https://www.wongnai.com/restaurants?categoryGroupId=9&regions=5119&page.number=270', 'https://www.wongnai.com/restaurants?categoryGroupId=9&regions=5119&page.number=271', 'https://www.wongnai.com/restaurants?categoryGroupId=9&regions=5119&page.number=272', 'https://www.wongnai.com/restaurants?categoryGroupId=9&regions=5119&page.number=273', 'https://www.wongnai.com/restaurants?categoryGroupId=9&regions=5119&page.number=274', 'https://www.wongnai.com/restaurants?categoryGroupId=9&regions=5119&page.number=275', 'https://www.wongnai.com/restaurants?categoryGroupId=9&regions=5119&page.number=276', 'https://www.wongnai.com/restaurants?categoryGroupId=9&regions=5119&page.number=277', 'https://www.wongnai.com/restaurants?categoryGroupId=9&regions=5119&page.number=278', 'https://www.wongnai.com/restaurants?categoryGroupId=9&regions=5119&page.number=279', 'https://www.wongnai.com/restaurants?categoryGroupId=9&regions=5119&page.number=280', 'https://www.wongnai.com/restaurants?categoryGroupId=9&regions=5119&page.number=281']\n"
     ]
    }
   ],
   "source": [
    "# ** select one province from 'ALL_REGION_ID_WONGNAI'\n",
    "# ** so, change \"Idx_of_region\" everytime when scrape another province\n",
    "Idx_of_region = 63\n",
    "cur_region_data = ALL_REGION_ID_WONGNAI[Idx_of_region]\n",
    "\n",
    "# ** find last page (manually)\n",
    "last_page_number = 281\n",
    "\n",
    "cur_province_en = cur_region_data[0]\n",
    "cur_province_th = cur_region_data[1]\n",
    "cur_regionId = cur_region_data[2]\n",
    "\n",
    "# create list of : [1, 2, 3, ...., last_page]\n",
    "page_number_list = np.arange(last_page_number) + 1\n",
    "print(\"check page number list: \")\n",
    "print(page_number_list)\n",
    "\n",
    "all_res = []\n",
    "with Pool(processes=8) as pool: \n",
    "    func_param_fix = partial(test_mulProcess_helper, province = cur_province_th, wongnai_regionId = cur_regionId)\n",
    "    all_res = pool.map(func_param_fix, page_number_list)\n",
    "\n",
    "print(all_res)\n"
   ]
  },
  {
   "cell_type": "code",
   "execution_count": 42,
   "metadata": {},
   "outputs": [
    {
     "name": "stdout",
     "output_type": "stream",
     "text": [
      "find err:\n",
      "unsupported operand type(s) for +: 'int' and 'str'\n"
     ]
    }
   ],
   "source": [
    "try:\n",
    "    while(True):\n",
    "        1 + \"3\"\n",
    "except Exception as e:\n",
    "    print(\"find err:\")\n",
    "    print(e)"
   ]
  },
  {
   "cell_type": "code",
   "execution_count": 43,
   "metadata": {},
   "outputs": [
    {
     "ename": "KeyError",
     "evalue": "'SBR_WS_ENDPOINT'",
     "output_type": "error",
     "traceback": [
      "\u001b[1;31m---------------------------------------------------------------------------\u001b[0m",
      "\u001b[1;31mKeyError\u001b[0m                                  Traceback (most recent call last)",
      "Cell \u001b[1;32mIn[43], line 13\u001b[0m\n\u001b[0;32m     10\u001b[0m \u001b[38;5;66;03m# seach image section of current restaurant by this query\u001b[39;00m\n\u001b[0;32m     11\u001b[0m all_img_query \u001b[38;5;241m=\u001b[39m \u001b[38;5;124m'\u001b[39m\u001b[38;5;132;01m%s\u001b[39;00m\u001b[38;5;124m/photos\u001b[39m\u001b[38;5;124m'\u001b[39m \u001b[38;5;241m%\u001b[39m (x[:res_mark_Idx])\n\u001b[1;32m---> 13\u001b[0m sbr_connection \u001b[38;5;241m=\u001b[39m ChromiumRemoteConnection(\u001b[43mos\u001b[49m\u001b[38;5;241;43m.\u001b[39;49m\u001b[43menviron\u001b[49m\u001b[43m[\u001b[49m\u001b[38;5;124;43m\"\u001b[39;49m\u001b[38;5;124;43mSBR_WS_ENDPOINT\u001b[39;49m\u001b[38;5;124;43m\"\u001b[39;49m\u001b[43m]\u001b[49m, \u001b[38;5;124m'\u001b[39m\u001b[38;5;124mgoog\u001b[39m\u001b[38;5;124m'\u001b[39m, \u001b[38;5;124m'\u001b[39m\u001b[38;5;124mchrome\u001b[39m\u001b[38;5;124m'\u001b[39m)\n\u001b[0;32m     14\u001b[0m \u001b[38;5;28mprint\u001b[39m(\u001b[38;5;124m\"\u001b[39m\u001b[38;5;124mConnect remote browser to scrape img...\u001b[39m\u001b[38;5;124m\"\u001b[39m)\n\u001b[0;32m     15\u001b[0m \u001b[38;5;28mprint\u001b[39m(\u001b[38;5;124m\"\u001b[39m\u001b[38;5;124mfor: \u001b[39m\u001b[38;5;124m\"\u001b[39m, all_img_query)\n",
      "File \u001b[1;32m<frozen os>:685\u001b[0m, in \u001b[0;36m__getitem__\u001b[1;34m(self, key)\u001b[0m\n",
      "\u001b[1;31mKeyError\u001b[0m: 'SBR_WS_ENDPOINT'"
     ]
    }
   ],
   "source": [
    "x = \"https://www.wongnai.com/restaurants/2669474sn-cafe-delight-phuket?_st=cD0wO2I9MjY2OTQ3NDthZD10cnVlO3Q9MTcyNjM4ODQxMTA3NTtyaT0xWDdiNjNlb2RZUVZwMzJ0RjZkZFpocG5Wemd4NTU7aT0xWDcwWk5RUDRzd2J6Uk4yOUppVlhocDlUTjFNRFc7d3JlZj1hbmRyb2lkOw%3D%3D\"\n",
    "find_mark_Idx = x.find('?')\n",
    "res_mark_Idx = find_mark_Idx if find_mark_Idx != -1 else len(x)\n",
    "# example of restaurant without photos: https://www.wongnai.com/restaurants/95958BB-%E0%B8%A3%E0%B9%89%E0%B8%B2%E0%B8%99%E0%B8%95%E0%B8%AD%E0%B8%87%E0%B8%AB%E0%B8%99%E0%B8%B6%E0%B9%88%E0%B8%87%E0%B8%AA%E0%B9%80%E0%B8%95%E0%B9%8A%E0%B8%81/photos\n",
    "cnt_retry = 0\n",
    "while(True):\n",
    "    if(cnt_retry == 10):\n",
    "        print(\"max retry for scrape_img ...\")\n",
    "        break\n",
    "    # seach image section of current restaurant by this query\n",
    "    all_img_query = '%s/photos' % (x[:res_mark_Idx])\n",
    "\n",
    "    sbr_connection = ChromiumRemoteConnection(os.environ[\"SBR_WS_ENDPOINT\"], 'goog', 'chrome')\n",
    "    print(\"Connect remote browser to scrape img...\")\n",
    "    print(\"for: \", all_img_query)\n",
    "    time.sleep(100)"
   ]
  },
  {
   "cell_type": "code",
   "execution_count": 8,
   "metadata": {},
   "outputs": [],
   "source": [
    "def x1():\n",
    "    1 + \"3\"\n",
    "    print(\"run x1\")\n",
    "def x2():\n",
    "    1 + \"3\"\n",
    "    print(\"run x2\")"
   ]
  },
  {
   "cell_type": "code",
   "execution_count": 9,
   "metadata": {},
   "outputs": [],
   "source": [
    "try:\n",
    "    x1()\n",
    "    x2()\n",
    "except Exception as e:\n",
    "    pass"
   ]
  },
  {
   "cell_type": "code",
   "execution_count": 12,
   "metadata": {},
   "outputs": [],
   "source": [
    "df_1 = pd.DataFrame()\n",
    "df_2 = pd.DataFrame({\n",
    "    \"col_1\": [55,77],\n",
    "    \"col_2\": [8, 9]\n",
    "})\n",
    "df_3 = pd.DataFrame({\n",
    "    \"col_1\": [15,23],\n",
    "    \"col_2\": [1, 4]\n",
    "})"
   ]
  },
  {
   "cell_type": "code",
   "execution_count": 13,
   "metadata": {},
   "outputs": [
    {
     "data": {
      "text/html": [
       "<div>\n",
       "<style scoped>\n",
       "    .dataframe tbody tr th:only-of-type {\n",
       "        vertical-align: middle;\n",
       "    }\n",
       "\n",
       "    .dataframe tbody tr th {\n",
       "        vertical-align: top;\n",
       "    }\n",
       "\n",
       "    .dataframe thead th {\n",
       "        text-align: right;\n",
       "    }\n",
       "</style>\n",
       "<table border=\"1\" class=\"dataframe\">\n",
       "  <thead>\n",
       "    <tr style=\"text-align: right;\">\n",
       "      <th></th>\n",
       "      <th>col_1</th>\n",
       "      <th>col_2</th>\n",
       "    </tr>\n",
       "  </thead>\n",
       "  <tbody>\n",
       "    <tr>\n",
       "      <th>0</th>\n",
       "      <td>15</td>\n",
       "      <td>1</td>\n",
       "    </tr>\n",
       "    <tr>\n",
       "      <th>1</th>\n",
       "      <td>23</td>\n",
       "      <td>4</td>\n",
       "    </tr>\n",
       "  </tbody>\n",
       "</table>\n",
       "</div>"
      ],
      "text/plain": [
       "   col_1  col_2\n",
       "0     15      1\n",
       "1     23      4"
      ]
     },
     "execution_count": 13,
     "metadata": {},
     "output_type": "execute_result"
    }
   ],
   "source": [
    "df_1 = pd.concat([df_1, df_3])\n",
    "df_1"
   ]
  },
  {
   "cell_type": "code",
   "execution_count": 3,
   "metadata": {},
   "outputs": [
    {
     "data": {
      "text/plain": [
       "'8237'"
      ]
     },
     "execution_count": 3,
     "metadata": {},
     "output_type": "execute_result"
    }
   ],
   "source": [
    "os.environ['proxy_port']"
   ]
  },
  {
   "cell_type": "code",
   "execution_count": 3,
   "metadata": {},
   "outputs": [
    {
     "name": "stdout",
     "output_type": "stream",
     "text": [
      "District : 0\n",
      "check...\n",
      "province : 83 ภูเก็ต\n",
      "District : 8302 กะทู้\n"
     ]
    }
   ],
   "source": [
    "province_th = 'ภูเก็ต'\n",
    "\n",
    "subStrDistrict = \"อำเภอ\"\n",
    "subStrSubDistrict = \"ตำบล\"\n",
    "\n",
    "if province_th == \"กรุงเทพมหานคร\":\n",
    "    subStrDistrict = \"เขต\"\n",
    "    subStrSubDistrict = \"แขวง\"\n",
    "\n",
    "district = 0\n",
    "subDirstrict = 0\n",
    "\n",
    "# can not find location\n",
    "# possible_addressGoogleMap_elements = [\n",
    "#     \"GPVG+6PF เทศบาลเมืองมุกดาหาร อำเภอเมืองมุกดาหาร มุกดาหาร\",\n",
    "#     \"เพิ่มสถานที่ที่ขาดไป\",\n",
    "#     \"เพิ่มสถานที่ที่ขาดไป\"\n",
    "# ]\n",
    "\n",
    "# possible_addressGoogleMap_elements = [\n",
    "#     \"GPWF+WF9 เทศบาลเมืองมุกดาหาร อำเภอเมืองมุกดาหาร มุกดาหาร\",\n",
    "#     \"เพิ่มสถานที่ที่ขาดไป\",\n",
    "#     \"เพิ่มสถานที่ที่ขาดไป\"\n",
    "# ]\n",
    "\n",
    "\n",
    "# -----------------------------------------------------------------------------\n",
    "\n",
    "# can find location\n",
    "possible_addressGoogleMap_elements = [\n",
    "    \"V7RX+XFJ ตำบลป่าตอง อำเภอกะทู้ ภูเก็ต\",\n",
    "    \"เพิ่มสถานที่ที่ขาดไป\",\n",
    "    \"เพิ่มสถานที่ที่ขาดไป\"\n",
    "]\n",
    "\n",
    "# find location\n",
    "useData = None\n",
    "for cur_element in possible_addressGoogleMap_elements:\n",
    "    if province_th in cur_element and cur_element.find(subStrDistrict) != -1:\n",
    "        useData = cur_element.replace(\",\",\"\").replace(\"เเ\",\"แ\")\n",
    "        break\n",
    "\n",
    "print(\"District :\", district)\n",
    "print(\"check...\")\n",
    "\n",
    "if(useData != None):\n",
    "    # print(\"Full Address :\",useData)\n",
    "    # another brute force way in case of province 'กรุงเทพหมานคร' not have word 'แขวง' in address\n",
    "    if(province_th == 'กรุงเทพมหานคร' and useData.find(subStrSubDistrict) == -1):\n",
    "        subAddress_split = useData.split(' ')\n",
    "        cur_province_Idx = subAddress_split.index(province_th)\n",
    "        district = subAddress_split[cur_province_Idx - 1].replace(\"เขต\",\"\")\n",
    "\n",
    "    else:\n",
    "        start_address_index = useData.find(subStrDistrict)\n",
    "        subAddress = useData[start_address_index:]\n",
    "        district = subAddress[subAddress.find(subStrDistrict)+len(subStrDistrict):subAddress.find(province_th)].replace(\" \",\"\")\n",
    "\n",
    "    if district == \"เมือง\":\n",
    "        district = district+province_th\n",
    "\n",
    "    # filter row to find 'ISO_3166_code', 'zip_code', 'geo_code'\n",
    "    geo_code_df = pd.read_csv(fh.PATH_TO_GEOCODE)\n",
    "    filtered_rows = geo_code_df[\n",
    "        (geo_code_df['province_th'] == province_th) & (geo_code_df['district_th'] == district)\n",
    "    ]\n",
    "    filtered_rows.reset_index(inplace=True, drop=True)\n",
    "    \n",
    "    if not filtered_rows.empty:\n",
    "        print(\"province :\",filtered_rows.loc[0, 'ISO_3166_code'], province_th)\n",
    "        print(\"District :\",filtered_rows.loc[0, 'zip_code'], district)\n",
    "\n",
    "    else:\n",
    "        print(\"province :\", province_th)\n",
    "        print(\"District :\", district)\n"
   ]
  },
  {
   "cell_type": "code",
   "execution_count": 2,
   "metadata": {},
   "outputs": [
    {
     "name": "stdout",
     "output_type": "stream",
     "text": [
      "['https://th.tripadvisor.com/Attraction_Review', 'g297930', 'd1866109', 'Reviews', 'Bangla_Road', 'Patong_Kathu_Phuket.html']\n",
      "https://th.tripadvisor.com/ImproveListing-d1866109.html\n"
     ]
    }
   ],
   "source": [
    "x = \"https://th.tripadvisor.com/Attraction_Review-g297930-d1866109-Reviews-Bangla_Road-Patong_Kathu_Phuket.html\"\n",
    "\n",
    "x1 = x.split('-')\n",
    "print(x1)\n",
    "\n",
    "link_to_adjust_page = 'https://th.tripadvisor.com/ImproveListing-%s.html' % (x.split('-')[2])\n",
    "print(link_to_adjust_page)"
   ]
  },
  {
   "cell_type": "code",
   "execution_count": 6,
   "metadata": {},
   "outputs": [
    {
     "name": "stdout",
     "output_type": "stream",
     "text": [
      "['https://th.tripadvisor.com/Hotels', 'g293920', 'oa30', 'Hotels.html']\n",
      "cur_attraction_page_url ->  https://th.tripadvisor.com/Hotels-g293920-oa30-Hotels.html\n"
     ]
    }
   ],
   "source": [
    "'''\n",
    "วิธีหาจํานวนหน้าทั้งหมด\n",
    "เลื่อนไปดูข้างล่างสุดจะเจอ\n",
    "\"แสดงผลลัพธ์ 1-30 จาก 1,170\"\n",
    "หน้านึงจะมี 30 ที่\n",
    " page1: https://th.tripadvisor.com/Attractions-g293920-Activities-a_allAttractions.true-Phuket.html\n",
    "page2: https://th.tripadvisor.com/Attractions-g293920-Activities-oa30-Phuket.html\n",
    "page3: https://th.tripadvisor.com/Attractions-g293920-Activities-oa60-Phuket.html\n",
    ".\n",
    ".\n",
    "page102(สุดท้าย): https://th.tripadvisor.com/Attractions-g293920-Activities-oa3030-Phuket.html\n",
    "\n",
    "ให้เอา 1170 / 30 -> แล้วปัดขึ้น\n",
    "url ของแต่ละหน้าคือ  https://th.tripadvisor.com/Attractions-g293920-Activities-{(nth-1)*30}-Phuket.html\n",
    "ยกเว้น page 1\n",
    "'''\n",
    "# url_prn = 'https://th.tripadvisor.com/Attractions-g293920-Activities-a_allAttractions.true-Phuket.html'\n",
    "url_prn = 'https://th.tripadvisor.com/Hotels-g293920-Phuket-Hotels.html'\n",
    "page_prn = 2\n",
    "if(page_prn != 1):\n",
    "    first_page_url_split = url_prn.split('-')\n",
    "    nth_count_page = 'oa%s' % ((page_prn - 1) * 30)\n",
    "    first_page_url_split[-2] = nth_count_page\n",
    "    print(first_page_url_split)\n",
    "\n",
    "    cur_attraction_page_url =  \"-\".join(first_page_url_split)\n",
    "    print(\"cur_attraction_page_url -> \", cur_attraction_page_url)\n"
   ]
  },
  {
   "cell_type": "code",
   "execution_count": 62,
   "metadata": {},
   "outputs": [
    {
     "name": "stdout",
     "output_type": "stream",
     "text": [
      "Directory res_restaurant_scraping\\res_restaurant_korat_1 created successfully\n"
     ]
    }
   ],
   "source": [
    "first_page = 1\n",
    "last_page = 445\n",
    "\n",
    "cur_province_en = \"korat_1\"\n",
    "\n",
    "# create directory 'res_attraction_scraping'\n",
    "createDirectory(fh.STORE_RESTAURANT_SCRAPING, os.path.join('res_restaurant_scraping', 'res_restaurant_%s' % (cur_province_en)))\n",
    "\n",
    "# save data to csv\n",
    "# which migth be used for POST API save to database later...\n",
    "res_file_name = 'res_restaurant_%s_page_%s_%s.csv' % (cur_province_en, first_page, last_page)\n",
    "res_path = os.path.join(fh.STORE_RESTAURANT_SCRAPING, 'res_restaurant_scraping', 'res_restaurant_%s' % (cur_province_en), res_file_name) \n",
    "cur_province_data_df = pd.DataFrame()\n",
    "cur_province_data_df.to_csv(res_path, encoding=\"utf-8\")"
   ]
  },
  {
   "cell_type": "code",
   "execution_count": 9,
   "metadata": {},
   "outputs": [
    {
     "data": {
      "text/html": [
       "<div>\n",
       "<style scoped>\n",
       "    .dataframe tbody tr th:only-of-type {\n",
       "        vertical-align: middle;\n",
       "    }\n",
       "\n",
       "    .dataframe tbody tr th {\n",
       "        vertical-align: top;\n",
       "    }\n",
       "\n",
       "    .dataframe thead th {\n",
       "        text-align: right;\n",
       "    }\n",
       "</style>\n",
       "<table border=\"1\" class=\"dataframe\">\n",
       "  <thead>\n",
       "    <tr style=\"text-align: right;\">\n",
       "      <th></th>\n",
       "      <th>ISO_3166_code</th>\n",
       "      <th>province_th</th>\n",
       "      <th>province_en</th>\n",
       "      <th>zip_code</th>\n",
       "      <th>district_th</th>\n",
       "      <th>district_en</th>\n",
       "      <th>geo_code</th>\n",
       "      <th>subDistrict_th</th>\n",
       "      <th>subDistrict_en</th>\n",
       "    </tr>\n",
       "  </thead>\n",
       "  <tbody>\n",
       "    <tr>\n",
       "      <th>0</th>\n",
       "      <td>81</td>\n",
       "      <td>กระบี่</td>\n",
       "      <td>Krabi</td>\n",
       "      <td>8103</td>\n",
       "      <td>เกาะลันตา</td>\n",
       "      <td>Ko Lanta</td>\n",
       "      <td>810303</td>\n",
       "      <td>เกาะกลาง</td>\n",
       "      <td>Ko Klang</td>\n",
       "    </tr>\n",
       "    <tr>\n",
       "      <th>1</th>\n",
       "      <td>81</td>\n",
       "      <td>กระบี่</td>\n",
       "      <td>Krabi</td>\n",
       "      <td>8103</td>\n",
       "      <td>เกาะลันตา</td>\n",
       "      <td>Ko Lanta</td>\n",
       "      <td>810302</td>\n",
       "      <td>เกาะลันตาน้อย</td>\n",
       "      <td>Ko Lanta Noi</td>\n",
       "    </tr>\n",
       "    <tr>\n",
       "      <th>2</th>\n",
       "      <td>81</td>\n",
       "      <td>กระบี่</td>\n",
       "      <td>Krabi</td>\n",
       "      <td>8103</td>\n",
       "      <td>เกาะลันตา</td>\n",
       "      <td>Ko Lanta</td>\n",
       "      <td>810301</td>\n",
       "      <td>เกาะลันตาใหญ่</td>\n",
       "      <td>Ko Lanta Yai</td>\n",
       "    </tr>\n",
       "  </tbody>\n",
       "</table>\n",
       "</div>"
      ],
      "text/plain": [
       "   ISO_3166_code province_th province_en  zip_code district_th district_en  \\\n",
       "0             81      กระบี่       Krabi      8103   เกาะลันตา    Ko Lanta   \n",
       "1             81      กระบี่       Krabi      8103   เกาะลันตา    Ko Lanta   \n",
       "2             81      กระบี่       Krabi      8103   เกาะลันตา    Ko Lanta   \n",
       "\n",
       "   geo_code subDistrict_th subDistrict_en  \n",
       "0    810303       เกาะกลาง       Ko Klang  \n",
       "1    810302  เกาะลันตาน้อย   Ko Lanta Noi  \n",
       "2    810301  เกาะลันตาใหญ่   Ko Lanta Yai  "
      ]
     },
     "execution_count": 9,
     "metadata": {},
     "output_type": "execute_result"
    }
   ],
   "source": [
    "geo_code_df.head(3)"
   ]
  },
  {
   "cell_type": "code",
   "execution_count": 27,
   "metadata": {},
   "outputs": [
    {
     "data": {
      "text/html": [
       "<div>\n",
       "<style scoped>\n",
       "    .dataframe tbody tr th:only-of-type {\n",
       "        vertical-align: middle;\n",
       "    }\n",
       "\n",
       "    .dataframe tbody tr th {\n",
       "        vertical-align: top;\n",
       "    }\n",
       "\n",
       "    .dataframe thead th {\n",
       "        text-align: right;\n",
       "    }\n",
       "</style>\n",
       "<table border=\"1\" class=\"dataframe\">\n",
       "  <thead>\n",
       "    <tr style=\"text-align: right;\">\n",
       "      <th></th>\n",
       "      <th>ISO_3166_code</th>\n",
       "      <th>province_th</th>\n",
       "      <th>province_en</th>\n",
       "      <th>zip_code</th>\n",
       "      <th>district_th</th>\n",
       "      <th>district_en</th>\n",
       "      <th>geo_code</th>\n",
       "      <th>subDistrict_th</th>\n",
       "      <th>subDistrict_en</th>\n",
       "    </tr>\n",
       "  </thead>\n",
       "  <tbody>\n",
       "    <tr>\n",
       "      <th>4388</th>\n",
       "      <td>49</td>\n",
       "      <td>มุกดาหาร</td>\n",
       "      <td>Mukdahan</td>\n",
       "      <td>4901</td>\n",
       "      <td>เมืองมุกดาหาร</td>\n",
       "      <td>Mueang Mukdahan</td>\n",
       "      <td>490113</td>\n",
       "      <td>กุดแข้</td>\n",
       "      <td>Kut Khae</td>\n",
       "    </tr>\n",
       "  </tbody>\n",
       "</table>\n",
       "</div>"
      ],
      "text/plain": [
       "      ISO_3166_code province_th province_en  zip_code    district_th  \\\n",
       "4388             49    มุกดาหาร    Mukdahan      4901  เมืองมุกดาหาร   \n",
       "\n",
       "          district_en  geo_code subDistrict_th subDistrict_en  \n",
       "4388  Mueang Mukdahan    490113         กุดแข้       Kut Khae  "
      ]
     },
     "execution_count": 27,
     "metadata": {},
     "output_type": "execute_result"
    }
   ],
   "source": [
    "filtered_rows = geo_code_df[\n",
    "    (geo_code_df['province_th'] == \"มุกดาหาร\") & (geo_code_df['district_th'] == \"เมืองมุกดาหาร\")\n",
    "]\n",
    "filtered_rows.iloc[[0], :]"
   ]
  },
  {
   "cell_type": "code",
   "execution_count": 64,
   "metadata": {},
   "outputs": [
    {
     "data": {
      "text/plain": [
       "array([1, 2, 3, 4, 5, 6, 7, 8, 9])"
      ]
     },
     "execution_count": 64,
     "metadata": {},
     "output_type": "execute_result"
    }
   ],
   "source": [
    "np.arange(1,10)"
   ]
  },
  {
   "cell_type": "code",
   "execution_count": 66,
   "metadata": {},
   "outputs": [
    {
     "name": "stdout",
     "output_type": "stream",
     "text": [
      "0   1\n",
      "1   2\n",
      "2   3\n"
     ]
    }
   ],
   "source": [
    "a = [1,2,3]\n",
    "for cur_a, Idx in list(enumerate(a)):\n",
    "    print(cur_a, \" \", Idx)"
   ]
  },
  {
   "cell_type": "code",
   "execution_count": 2,
   "metadata": {},
   "outputs": [
    {
     "name": "stdout",
     "output_type": "stream",
     "text": [
      "rating -->  4.5\n",
      "ratingCount -->  37.0\n"
     ]
    }
   ],
   "source": [
    "rating = 0\n",
    "ratingCount = 0\n",
    "\n",
    "score_element = \"คะแนน 4.5 จาก 5 แต้ม. รีวิว 37 รายการ\"\n",
    "score_text_list = score_element.split(' ')\n",
    "\n",
    "for Idx in range(1, len(score_text_list)):\n",
    "    # set rating\n",
    "    if(score_text_list[Idx - 1] == \"คะแนน\"):\n",
    "        rating = float(score_text_list[Idx])\n",
    "\n",
    "    elif(score_text_list[Idx - 1] == \"รีวิว\"):\n",
    "        ratingCount = float(score_text_list[Idx].replace(',', ''))\n",
    "\n",
    "print(\"rating --> \", rating)\n",
    "print(\"ratingCount --> \", ratingCount)"
   ]
  },
  {
   "cell_type": "code",
   "execution_count": 6,
   "metadata": {},
   "outputs": [
    {
     "name": "stdout",
     "output_type": "stream",
     "text": [
      "1\n",
      "44\n",
      "[]\n",
      "t\n"
     ]
    }
   ],
   "source": [
    "def cal() -> tuple[int, int, list[str], str]:\n",
    "    return 1, 44, [], \"t\"\n",
    "\n",
    "x, x2, x3, k = cal()\n",
    "print(x)\n",
    "print(x2)\n",
    "print(x3)\n",
    "print(k)\n"
   ]
  },
  {
   "cell_type": "code",
   "execution_count": 1,
   "metadata": {},
   "outputs": [
    {
     "name": "stdout",
     "output_type": "stream",
     "text": [
      "s\n"
     ]
    }
   ],
   "source": [
    "try:\n",
    "    x = \"s\"\n",
    "except Exception as e:\n",
    "    pass\n",
    "\n",
    "print(x)"
   ]
  },
  {
   "cell_type": "code",
   "execution_count": 18,
   "metadata": {},
   "outputs": [
    {
     "data": {
      "text/plain": [
       "int"
      ]
     },
     "execution_count": 18,
     "metadata": {},
     "output_type": "execute_result"
    }
   ],
   "source": [
    "def b() -> int:\n",
    "    return\n",
    "\n",
    "v = b()\n",
    "type(v)"
   ]
  },
  {
   "cell_type": "code",
   "execution_count": null,
   "metadata": {},
   "outputs": [],
   "source": []
  }
 ],
 "metadata": {
  "kernelspec": {
   "display_name": "Python 3",
   "language": "python",
   "name": "python3"
  },
  "language_info": {
   "codemirror_mode": {
    "name": "ipython",
    "version": 3
   },
   "file_extension": ".py",
   "mimetype": "text/x-python",
   "name": "python",
   "nbconvert_exporter": "python",
   "pygments_lexer": "ipython3",
   "version": "3.12.2"
  }
 },
 "nbformat": 4,
 "nbformat_minor": 2
}
