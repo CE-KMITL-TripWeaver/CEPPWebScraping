{
 "cells": [
  {
   "cell_type": "code",
   "execution_count": 1,
   "metadata": {},
   "outputs": [],
   "source": [
    "from bs4 import BeautifulSoup\n",
    "from selenium import webdriver\n",
    "import pyautogui\n",
    "import re\n",
    "from bs4 import BeautifulSoup\n",
    "import sys\n",
    "sys.path.append('..')\n",
    "import constants.constants as const\n",
    "import constants.file_handler_constants as fh\n",
    "from constants.restaurant_constants import *\n",
    "\n",
    "from packages.restaurant.Restaurant import *\n",
    "from packages.file_handler_package.file_handler import *\n",
    "\n",
    "import os\n",
    "import glob\n",
    "import time\n",
    "import pandas as pd\n",
    "import numpy as np\n",
    "from dotenv import load_dotenv, dotenv_values \n",
    "\n",
    "from selenium.webdriver import Remote, ChromeOptions\n",
    "from selenium.webdriver.common.by import By\n",
    "from selenium.webdriver.common.keys import Keys\n",
    "from selenium.webdriver.common.actions.wheel_input import ScrollOrigin\n",
    "from selenium.webdriver import ActionChains\n",
    "from selenium import webdriver\n",
    "from selenium.webdriver.chrome.webdriver import WebDriver\n",
    "\n",
    "from selenium.webdriver.support.ui import Select\n",
    "from selenium.webdriver.support.ui import WebDriverWait\n",
    "from selenium.webdriver.support import expected_conditions as EC\n",
    "from selenium.webdriver.edge.service import Service\n",
    "from selenium.webdriver.edge.options import Options as EdgeOptions\n",
    "from selenium.webdriver.remote.webelement import WebElement\n",
    "\n",
    "from selenium.webdriver.chromium.remote_connection import ChromiumRemoteConnection\n",
    "from selenium.webdriver.common.desired_capabilities import DesiredCapabilities"
   ]
  },
  {
   "cell_type": "code",
   "execution_count": 29,
   "metadata": {},
   "outputs": [
    {
     "name": "stdout",
     "output_type": "stream",
     "text": [
      "{'browserName': 'chrome', 'platformName': 'Windows', 'browserVersion': '128', 'headless': True, 'args': ['--start-maximized', '--disable-gpu']}\n",
      "<class 'dict'>\n",
      "<class 'selenium.webdriver.chrome.options.Options'>\n",
      "<class 'selenium.webdriver.chrome.options.Options'>\n"
     ]
    }
   ],
   "source": [
    "caps = DesiredCapabilities.CHROME\n",
    "caps['platformName'] = 'Windows'  # Replace with your desired platform\n",
    "caps['browserVersion'] = '128'  # Replace with your desired browser version\n",
    "caps['headless'] = True  # Set to True for headless mode\n",
    "caps['args'] = ['--start-maximized', '--disable-gpu']  # Add any desired arguments\n",
    "print(caps)\n",
    "print(type(caps))\n",
    "print(type(webdriver.ChromeOptions()))\n",
    "print(type(ChromeOptions()))"
   ]
  },
  {
   "cell_type": "code",
   "execution_count": 2,
   "metadata": {},
   "outputs": [
    {
     "data": {
      "text/plain": [
       "16"
      ]
     },
     "execution_count": 2,
     "metadata": {},
     "output_type": "execute_result"
    }
   ],
   "source": [
    "os. cpu_count()"
   ]
  },
  {
   "cell_type": "code",
   "execution_count": 2,
   "metadata": {},
   "outputs": [
    {
     "ename": "NameError",
     "evalue": "name 'ChromeOptions' is not defined",
     "output_type": "error",
     "traceback": [
      "\u001b[1;31m---------------------------------------------------------------------------\u001b[0m",
      "\u001b[1;31mNameError\u001b[0m                                 Traceback (most recent call last)",
      "Cell \u001b[1;32mIn[2], line 1\u001b[0m\n\u001b[1;32m----> 1\u001b[0m options \u001b[38;5;241m=\u001b[39m \u001b[43mChromeOptions\u001b[49m()\n\u001b[0;32m      2\u001b[0m \u001b[38;5;66;03m# options.add_argument(\"start-maximized\")\u001b[39;00m\n\u001b[0;32m      3\u001b[0m \u001b[38;5;66;03m# options.add_argument('--version=128.0.6613.85')\u001b[39;00m\n\u001b[0;32m      4\u001b[0m options\u001b[38;5;241m.\u001b[39mset_capability(\u001b[38;5;124m\"\u001b[39m\u001b[38;5;124mbrowserVersion\u001b[39m\u001b[38;5;124m\"\u001b[39m, \u001b[38;5;124m\"\u001b[39m\u001b[38;5;124m128\u001b[39m\u001b[38;5;124m\"\u001b[39m)\n",
      "\u001b[1;31mNameError\u001b[0m: name 'ChromeOptions' is not defined"
     ]
    }
   ],
   "source": [
    "options = ChromeOptions()\n",
    "# options.add_argument(\"start-maximized\")\n",
    "# options.add_argument('--version=128.0.6613.85')\n",
    "options.set_capability(\"browserVersion\", \"128\")\n",
    "options.set_capability(\"platformName\", \"Windows 10\")\n",
    "cnt = 0\n",
    "while True: \n",
    "    sbr_connection = ChromiumRemoteConnection(os.environ[\"SBR_WS_ENDPOINT\"], 'goog', 'chrome')\n",
    "    print(type(sbr_connection))\n",
    "    driver = webdriver.Remote(command_executor=sbr_connection, options=options)\n",
    "    print(type(driver))\n",
    "    driver.close()\n",
    "    cnt += 1\n",
    "    print(cnt)"
   ]
  },
  {
   "cell_type": "code",
   "execution_count": 5,
   "metadata": {},
   "outputs": [
    {
     "name": "stdout",
     "output_type": "stream",
     "text": [
      "cur session -->  <selenium.webdriver.chromium.remote_connection.ChromiumRemoteConnection object at 0x000002C0ECC51EE0>\n",
      "cur driver -->  <selenium.webdriver.remote.webdriver.WebDriver (session=\"6a21eb6b2116a587c1ce31567032b25f\")>\n",
      "check current page url -->  https://www.wongnai.com/businesses?regions=843&page.size=10&page.number=1\n",
      "1\n",
      "cur session -->  <selenium.webdriver.chromium.remote_connection.ChromiumRemoteConnection object at 0x000002C0ED2AAAB0>\n",
      "cur driver -->  <selenium.webdriver.remote.webdriver.WebDriver (session=\"68d300eef4d206bdcc9a1d14104e09fd\")>\n",
      "check current page url -->  https://www.wongnai.com/businesses?regions=843&page.size=10&page.number=2\n",
      "2\n",
      "cur session -->  <selenium.webdriver.chromium.remote_connection.ChromiumRemoteConnection object at 0x000002C0ECD2B5C0>\n",
      "cur driver -->  <selenium.webdriver.remote.webdriver.WebDriver (session=\"fceec429227d9928f3105f252de76792\")>\n",
      "check current page url -->  https://www.wongnai.com/businesses?regions=843&page.size=10&page.number=3\n",
      "3\n",
      "cur session -->  <selenium.webdriver.chromium.remote_connection.ChromiumRemoteConnection object at 0x000002C0ECEA1C40>\n",
      "cur driver -->  <selenium.webdriver.remote.webdriver.WebDriver (session=\"500d6e92e773acd1ccb0a5cee34a4b22\")>\n",
      "check current page url -->  https://www.wongnai.com/businesses?regions=843&page.size=10&page.number=4\n",
      "4\n",
      "cur session -->  <selenium.webdriver.chromium.remote_connection.ChromiumRemoteConnection object at 0x000002C0ECC51EE0>\n",
      "cur driver -->  <selenium.webdriver.remote.webdriver.WebDriver (session=\"02163154d3f62ac6746ef5403a85d2c2\")>\n",
      "check current page url -->  https://www.wongnai.com/businesses?regions=843&page.size=10&page.number=5\n",
      "5\n",
      "cur session -->  <selenium.webdriver.chromium.remote_connection.ChromiumRemoteConnection object at 0x000002C0EC89DBB0>\n",
      "cur driver -->  <selenium.webdriver.remote.webdriver.WebDriver (session=\"72ea983bb0402f579b1f019ab9619560\")>\n",
      "check current page url -->  https://www.wongnai.com/businesses?regions=843&page.size=10&page.number=6\n",
      "6\n",
      "cur session -->  <selenium.webdriver.chromium.remote_connection.ChromiumRemoteConnection object at 0x000002C0ECD28E00>\n",
      "cur driver -->  <selenium.webdriver.remote.webdriver.WebDriver (session=\"b363c449b471256f52f687d23078d5e0\")>\n",
      "check current page url -->  https://www.wongnai.com/businesses?regions=843&page.size=10&page.number=7\n",
      "7\n",
      "cur session -->  <selenium.webdriver.chromium.remote_connection.ChromiumRemoteConnection object at 0x000002C0ECD8CF80>\n",
      "cur driver -->  <selenium.webdriver.remote.webdriver.WebDriver (session=\"585a65b32e509cf04413767f8ad9b6bf\")>\n",
      "check current page url -->  https://www.wongnai.com/businesses?regions=843&page.size=10&page.number=8\n",
      "8\n",
      "cur session -->  <selenium.webdriver.chromium.remote_connection.ChromiumRemoteConnection object at 0x000002C0ED0B6000>\n",
      "cur driver -->  <selenium.webdriver.remote.webdriver.WebDriver (session=\"1f056e6b3625c1a9a1e063f05248bfe7\")>\n",
      "check current page url -->  https://www.wongnai.com/businesses?regions=843&page.size=10&page.number=9\n",
      "9\n",
      "cur session -->  <selenium.webdriver.chromium.remote_connection.ChromiumRemoteConnection object at 0x000002C0EC843A70>\n",
      "cur driver -->  <selenium.webdriver.remote.webdriver.WebDriver (session=\"38edd3f77fcfdcfcb3753dacb77de075\")>\n",
      "check current page url -->  https://www.wongnai.com/businesses?regions=843&page.size=10&page.number=10\n",
      "10\n",
      "cur session -->  <selenium.webdriver.chromium.remote_connection.ChromiumRemoteConnection object at 0x000002C0EC6DCD70>\n",
      "cur driver -->  <selenium.webdriver.remote.webdriver.WebDriver (session=\"00a168422a6733cf7650a13318da024d\")>\n",
      "check current page url -->  https://www.wongnai.com/businesses?regions=843&page.size=10&page.number=11\n",
      "11\n",
      "cur session -->  <selenium.webdriver.chromium.remote_connection.ChromiumRemoteConnection object at 0x000002C0ED2831A0>\n",
      "cur driver -->  <selenium.webdriver.remote.webdriver.WebDriver (session=\"7431d507b3e5b63af9767d466989bf8e\")>\n",
      "check current page url -->  https://www.wongnai.com/businesses?regions=843&page.size=10&page.number=12\n",
      "12\n"
     ]
    }
   ],
   "source": [
    "is_last_page = False\n",
    "\n",
    "options = webdriver.ChromeOptions()\n",
    "# options.add_argument(\"start-maximized\")\n",
    "# options.add_argument('--version=75.0.6613.85')\n",
    "\n",
    "options.set_capability(\"platformName\", \"Windows 10\")\n",
    "\n",
    "cnt_for_debug = 0\n",
    "cur_query_url = 'https://www.wongnai.com/restaurants?regions=843'\n",
    "while(not is_last_page):\n",
    "    if(cnt_for_debug == 12):\n",
    "        break\n",
    "    cnt_for_debug += 1\n",
    "    sbr_connection = ChromiumRemoteConnection(os.environ[\"SBR_WS_ENDPOINT\"], 'goog', 'chrome')\n",
    "    print('cur session --> ', sbr_connection)\n",
    "    driver = webdriver.Remote(command_executor=sbr_connection, options=options)\n",
    "    print('cur driver --> ', driver)\n",
    "    driver.get('https://www.wongnai.com/businesses?regions=843&page.size=10&page.number=%s' % (cnt_for_debug))\n",
    "    print(\"check current page url --> \", driver.current_url)\n",
    "    driver.close()\n",
    "    print(cnt_for_debug)\n",
    "    # print(\"8\")\n",
    "    # except Exception as e:\n",
    "    #     print(\"found err --> \", e)\n",
    "    #     continue\n",
    "\n",
    "\n",
    "    # with Remote(sbr_connection, options=options) as driver:\n",
    "    #     print(\"Connect remote browser to province page...\")\n",
    "    #     print(\"check current page driver --> \", driver)\n",
    "    #     driver.get('https://www.wongnai.com/restaurants?regions=843')\n",
    "    #     print(\"check current page url --> \", driver.current_url)\n",
    "        # time.sleep(60*10)\n",
    "        # WebDriverWait(driver, 10).until(EC.presence_of_element_located((By.XPATH, '//*[@id=\"contentContainer\"]/div[1]/div[2]/div[2]/div[1]/div[2]/a[2]')))\n",
    "        # next_page_element = driver.find_element(By.XPATH, '//*[@id=\"contentContainer\"]/div[1]/div[2]/div[2]/div[1]/div[2]/a[2]')\n",
    "        # link_to_nextPage = next_page_element.get_attribute('href')\n",
    "        \n",
    "        # # after scrap everything in current page -> check if it is the lastpage\n",
    "        # if(not link_to_nextPage):\n",
    "        #     print('found laste page ? --> ', link_to_nextPage)\n",
    "        #     is_last_page = True\n",
    "        # # set new query to navigate to the next page in a new browser window(next iteration)\n",
    "        # cur_query_url = link_to_nextPage\n",
    "\n",
    "        # print(\"driver for page \", cnt_for_debug, ' closed')"
   ]
  },
  {
   "cell_type": "code",
   "execution_count": null,
   "metadata": {},
   "outputs": [],
   "source": []
  }
 ],
 "metadata": {
  "kernelspec": {
   "display_name": "Python 3",
   "language": "python",
   "name": "python3"
  },
  "language_info": {
   "codemirror_mode": {
    "name": "ipython",
    "version": 3
   },
   "file_extension": ".py",
   "mimetype": "text/x-python",
   "name": "python",
   "nbconvert_exporter": "python",
   "pygments_lexer": "ipython3",
   "version": "3.12.2"
  }
 },
 "nbformat": 4,
 "nbformat_minor": 2
}
