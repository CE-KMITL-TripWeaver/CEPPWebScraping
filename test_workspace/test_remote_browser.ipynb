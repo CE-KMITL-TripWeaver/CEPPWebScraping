{
 "cells": [
  {
   "cell_type": "code",
   "execution_count": 99,
   "metadata": {},
   "outputs": [],
   "source": [
    "from bs4 import BeautifulSoup\n",
    "from selenium import webdriver\n",
    "import pyautogui\n",
    "import re\n",
    "from bs4 import BeautifulSoup\n",
    "import sys\n",
    "sys.path.append('..')\n",
    "import constants.constants as const\n",
    "import constants.file_handler_constants as fh\n",
    "from constants.restaurant_constants import *\n",
    "\n",
    "from packages.restaurant.Restaurant import *\n",
    "from packages.file_handler_package.file_handler import *\n",
    "\n",
    "import os\n",
    "import glob\n",
    "import time\n",
    "import pandas as pd\n",
    "import numpy as np\n",
    "from dotenv import load_dotenv, dotenv_values \n",
    "\n",
    "from selenium.webdriver import Remote, ChromeOptions\n",
    "from selenium.webdriver.common.by import By\n",
    "from selenium.webdriver.common.keys import Keys\n",
    "from selenium.webdriver.common.actions.wheel_input import ScrollOrigin\n",
    "from selenium.webdriver import ActionChains\n",
    "# from selenium import webdriver\n",
    "from selenium.webdriver.chrome.webdriver import WebDriver\n",
    "\n",
    "from selenium.webdriver.support.ui import Select\n",
    "from selenium.webdriver.support.ui import WebDriverWait\n",
    "from selenium.webdriver.support import expected_conditions as EC\n",
    "from selenium.webdriver.edge.service import Service\n",
    "from selenium.webdriver.edge.options import Options as EdgeOptions\n",
    "from selenium.webdriver.remote.webelement import WebElement\n",
    "\n",
    "from selenium.webdriver.chromium.remote_connection import ChromiumRemoteConnection\n",
    "from selenium.webdriver.common.desired_capabilities import DesiredCapabilities"
   ]
  },
  {
   "cell_type": "code",
   "execution_count": 100,
   "metadata": {},
   "outputs": [
    {
     "name": "stdout",
     "output_type": "stream",
     "text": [
      "{'browserName': 'chrome', 'platformName': 'Windows', 'browserVersion': '128', 'headless': True, 'args': ['--start-maximized', '--disable-gpu']}\n",
      "<class 'dict'>\n"
     ]
    }
   ],
   "source": [
    "caps = DesiredCapabilities.CHROME\n",
    "caps['platformName'] = 'Windows'  # Replace with your desired platform\n",
    "caps['browserVersion'] = '128'  # Replace with your desired browser version\n",
    "caps['headless'] = True  # Set to True for headless mode\n",
    "caps['args'] = ['--start-maximized', '--disable-gpu']  # Add any desired arguments\n",
    "print(caps)\n",
    "print(type(caps))"
   ]
  },
  {
   "cell_type": "code",
   "execution_count": 101,
   "metadata": {},
   "outputs": [
    {
     "name": "stdout",
     "output_type": "stream",
     "text": [
      "<selenium.webdriver.chrome.options.Options object at 0x000002566FDB35C0>\n",
      "<class 'selenium.webdriver.chrome.options.Options'>\n"
     ]
    }
   ],
   "source": [
    "options = webdriver.ChromeOptions()\n",
    "# options.add_argument(\"start-maximized\")\n",
    "# options.add_argument('--version=128.0.6613.85')\n",
    "options.set_capability(\"browserVersion\", \"128.0.6613.85\")\n",
    "options.set_capability(\"platformName\", \"Windows 11\")\n",
    "sbr_connection = ChromiumRemoteConnection(os.environ[\"SBR_WS_ENDPOINT\"], 'goog', 'chrome')\n",
    "print(options)\n",
    "print(type(options))\n",
    "options.to_capabilities()\n",
    "remote_server_url = 'http://your_remote_grid_url:4444/wd/hub'\n",
    "driver1 = webdriver.Remote(command_executor=sbr_connection, options=options)"
   ]
  },
  {
   "cell_type": "code",
   "execution_count": 102,
   "metadata": {},
   "outputs": [
    {
     "name": "stdout",
     "output_type": "stream",
     "text": [
      "cur session -->  <selenium.webdriver.chromium.remote_connection.ChromiumRemoteConnection object at 0x000002566FDB35C0>\n",
      "cur driver -->  <selenium.webdriver.remote.webdriver.WebDriver (session=\"7ffcf1c6ce7213a1fcba65931d662dac\")>\n",
      "cur session -->  <selenium.webdriver.chromium.remote_connection.ChromiumRemoteConnection object at 0x0000025670E84DA0>\n",
      "cur driver -->  <selenium.webdriver.remote.webdriver.WebDriver (session=\"2ed4848804b9d7cd2f6b2f7743a095cf\")>\n",
      "cur session -->  <selenium.webdriver.chromium.remote_connection.ChromiumRemoteConnection object at 0x000002566FDB3200>\n",
      "cur driver -->  <selenium.webdriver.remote.webdriver.WebDriver (session=\"92d242366ef1f206701db68e25a518c4\")>\n",
      "cur session -->  <selenium.webdriver.chromium.remote_connection.ChromiumRemoteConnection object at 0x0000025670E85490>\n",
      "cur driver -->  <selenium.webdriver.remote.webdriver.WebDriver (session=\"14b82e2a091eb0b5b875e0cbca2cb4d2\")>\n",
      "cur session -->  <selenium.webdriver.chromium.remote_connection.ChromiumRemoteConnection object at 0x000002566FDB01D0>\n",
      "cur driver -->  <selenium.webdriver.remote.webdriver.WebDriver (session=\"f08a271fdca1e3d7d9c84a583bef318b\")>\n",
      "cur session -->  <selenium.webdriver.chromium.remote_connection.ChromiumRemoteConnection object at 0x0000025670E841A0>\n",
      "cur driver -->  <selenium.webdriver.remote.webdriver.WebDriver (session=\"1f86d7e4f639abb04ba5f7d6ead080ca\")>\n",
      "cur session -->  <selenium.webdriver.chromium.remote_connection.ChromiumRemoteConnection object at 0x000002566FDB2780>\n",
      "cur driver -->  <selenium.webdriver.remote.webdriver.WebDriver (session=\"13e08c7eae5a35236b3c93f4107d51a8\")>\n",
      "cur session -->  <selenium.webdriver.chromium.remote_connection.ChromiumRemoteConnection object at 0x000002566FDB2750>\n",
      "cur driver -->  <selenium.webdriver.remote.webdriver.WebDriver (session=\"f07adf317fafd957fb46cb9119f0f3fb\")>\n",
      "cur session -->  <selenium.webdriver.chromium.remote_connection.ChromiumRemoteConnection object at 0x0000025670E85580>\n",
      "cur driver -->  <selenium.webdriver.remote.webdriver.WebDriver (session=\"2d478d5aa68809a30c9f41c505caa70c\")>\n",
      "cur session -->  <selenium.webdriver.chromium.remote_connection.ChromiumRemoteConnection object at 0x000002566FDB2750>\n"
     ]
    },
    {
     "ename": "WebDriverException",
     "evalue": "Message: Internal Server Error\n",
     "output_type": "error",
     "traceback": [
      "\u001b[1;31m---------------------------------------------------------------------------\u001b[0m",
      "\u001b[1;31mWebDriverException\u001b[0m                        Traceback (most recent call last)",
      "Cell \u001b[1;32mIn[102], line 16\u001b[0m\n\u001b[0;32m     14\u001b[0m sbr_connection \u001b[38;5;241m=\u001b[39m ChromiumRemoteConnection(os\u001b[38;5;241m.\u001b[39menviron[\u001b[38;5;124m\"\u001b[39m\u001b[38;5;124mSBR_WS_ENDPOINT\u001b[39m\u001b[38;5;124m\"\u001b[39m], \u001b[38;5;124m'\u001b[39m\u001b[38;5;124mgoog\u001b[39m\u001b[38;5;124m'\u001b[39m, \u001b[38;5;124m'\u001b[39m\u001b[38;5;124mchrome\u001b[39m\u001b[38;5;124m'\u001b[39m)\n\u001b[0;32m     15\u001b[0m \u001b[38;5;28mprint\u001b[39m(\u001b[38;5;124m'\u001b[39m\u001b[38;5;124mcur session --> \u001b[39m\u001b[38;5;124m'\u001b[39m, sbr_connection)\n\u001b[1;32m---> 16\u001b[0m driver \u001b[38;5;241m=\u001b[39m \u001b[43mwebdriver\u001b[49m\u001b[38;5;241;43m.\u001b[39;49m\u001b[43mRemote\u001b[49m\u001b[43m(\u001b[49m\u001b[43mcommand_executor\u001b[49m\u001b[38;5;241;43m=\u001b[39;49m\u001b[43msbr_connection\u001b[49m\u001b[43m,\u001b[49m\u001b[43m \u001b[49m\u001b[43moptions\u001b[49m\u001b[38;5;241;43m=\u001b[39;49m\u001b[43moptions\u001b[49m\u001b[43m)\u001b[49m\n\u001b[0;32m     17\u001b[0m \u001b[38;5;28mprint\u001b[39m(\u001b[38;5;124m'\u001b[39m\u001b[38;5;124mcur driver --> \u001b[39m\u001b[38;5;124m'\u001b[39m,driver)\n\u001b[0;32m     18\u001b[0m \u001b[38;5;66;03m# driver.get('https://www.wongnai.com/restaurants?regions=843')\u001b[39;00m\n\u001b[0;32m     19\u001b[0m \u001b[38;5;66;03m# driver.close()\u001b[39;00m\n\u001b[0;32m     20\u001b[0m \u001b[38;5;66;03m# with Remote(sbr_connection, options=options) as driver:\u001b[39;00m\n\u001b[1;32m   (...)\u001b[0m\n\u001b[0;32m     36\u001b[0m \n\u001b[0;32m     37\u001b[0m     \u001b[38;5;66;03m# print(\"driver for page \", cnt_for_debug, ' closed')\u001b[39;00m\n",
      "File \u001b[1;32mc:\\Python312\\Lib\\site-packages\\selenium\\webdriver\\remote\\webdriver.py:212\u001b[0m, in \u001b[0;36mWebDriver.__init__\u001b[1;34m(self, command_executor, keep_alive, file_detector, options)\u001b[0m\n\u001b[0;32m    210\u001b[0m \u001b[38;5;28mself\u001b[39m\u001b[38;5;241m.\u001b[39m_authenticator_id \u001b[38;5;241m=\u001b[39m \u001b[38;5;28;01mNone\u001b[39;00m\n\u001b[0;32m    211\u001b[0m \u001b[38;5;28mself\u001b[39m\u001b[38;5;241m.\u001b[39mstart_client()\n\u001b[1;32m--> 212\u001b[0m \u001b[38;5;28;43mself\u001b[39;49m\u001b[38;5;241;43m.\u001b[39;49m\u001b[43mstart_session\u001b[49m\u001b[43m(\u001b[49m\u001b[43mcapabilities\u001b[49m\u001b[43m)\u001b[49m\n\u001b[0;32m    214\u001b[0m \u001b[38;5;28mself\u001b[39m\u001b[38;5;241m.\u001b[39m_websocket_connection \u001b[38;5;241m=\u001b[39m \u001b[38;5;28;01mNone\u001b[39;00m\n\u001b[0;32m    215\u001b[0m \u001b[38;5;28mself\u001b[39m\u001b[38;5;241m.\u001b[39m_script \u001b[38;5;241m=\u001b[39m \u001b[38;5;28;01mNone\u001b[39;00m\n",
      "File \u001b[1;32mc:\\Python312\\Lib\\site-packages\\selenium\\webdriver\\remote\\webdriver.py:299\u001b[0m, in \u001b[0;36mWebDriver.start_session\u001b[1;34m(self, capabilities)\u001b[0m\n\u001b[0;32m    292\u001b[0m \u001b[38;5;250m\u001b[39m\u001b[38;5;124;03m\"\"\"Creates a new session with the desired capabilities.\u001b[39;00m\n\u001b[0;32m    293\u001b[0m \n\u001b[0;32m    294\u001b[0m \u001b[38;5;124;03m:Args:\u001b[39;00m\n\u001b[0;32m    295\u001b[0m \u001b[38;5;124;03m - capabilities - a capabilities dict to start the session with.\u001b[39;00m\n\u001b[0;32m    296\u001b[0m \u001b[38;5;124;03m\"\"\"\u001b[39;00m\n\u001b[0;32m    298\u001b[0m caps \u001b[38;5;241m=\u001b[39m _create_caps(capabilities)\n\u001b[1;32m--> 299\u001b[0m response \u001b[38;5;241m=\u001b[39m \u001b[38;5;28;43mself\u001b[39;49m\u001b[38;5;241;43m.\u001b[39;49m\u001b[43mexecute\u001b[49m\u001b[43m(\u001b[49m\u001b[43mCommand\u001b[49m\u001b[38;5;241;43m.\u001b[39;49m\u001b[43mNEW_SESSION\u001b[49m\u001b[43m,\u001b[49m\u001b[43m \u001b[49m\u001b[43mcaps\u001b[49m\u001b[43m)\u001b[49m[\u001b[38;5;124m\"\u001b[39m\u001b[38;5;124mvalue\u001b[39m\u001b[38;5;124m\"\u001b[39m]\n\u001b[0;32m    300\u001b[0m \u001b[38;5;28mself\u001b[39m\u001b[38;5;241m.\u001b[39msession_id \u001b[38;5;241m=\u001b[39m response\u001b[38;5;241m.\u001b[39mget(\u001b[38;5;124m\"\u001b[39m\u001b[38;5;124msessionId\u001b[39m\u001b[38;5;124m\"\u001b[39m)\n\u001b[0;32m    301\u001b[0m \u001b[38;5;28mself\u001b[39m\u001b[38;5;241m.\u001b[39mcaps \u001b[38;5;241m=\u001b[39m response\u001b[38;5;241m.\u001b[39mget(\u001b[38;5;124m\"\u001b[39m\u001b[38;5;124mcapabilities\u001b[39m\u001b[38;5;124m\"\u001b[39m)\n",
      "File \u001b[1;32mc:\\Python312\\Lib\\site-packages\\selenium\\webdriver\\remote\\webdriver.py:354\u001b[0m, in \u001b[0;36mWebDriver.execute\u001b[1;34m(self, driver_command, params)\u001b[0m\n\u001b[0;32m    352\u001b[0m response \u001b[38;5;241m=\u001b[39m \u001b[38;5;28mself\u001b[39m\u001b[38;5;241m.\u001b[39mcommand_executor\u001b[38;5;241m.\u001b[39mexecute(driver_command, params)\n\u001b[0;32m    353\u001b[0m \u001b[38;5;28;01mif\u001b[39;00m response:\n\u001b[1;32m--> 354\u001b[0m     \u001b[38;5;28;43mself\u001b[39;49m\u001b[38;5;241;43m.\u001b[39;49m\u001b[43merror_handler\u001b[49m\u001b[38;5;241;43m.\u001b[39;49m\u001b[43mcheck_response\u001b[49m\u001b[43m(\u001b[49m\u001b[43mresponse\u001b[49m\u001b[43m)\u001b[49m\n\u001b[0;32m    355\u001b[0m     response[\u001b[38;5;124m\"\u001b[39m\u001b[38;5;124mvalue\u001b[39m\u001b[38;5;124m\"\u001b[39m] \u001b[38;5;241m=\u001b[39m \u001b[38;5;28mself\u001b[39m\u001b[38;5;241m.\u001b[39m_unwrap_value(response\u001b[38;5;241m.\u001b[39mget(\u001b[38;5;124m\"\u001b[39m\u001b[38;5;124mvalue\u001b[39m\u001b[38;5;124m\"\u001b[39m, \u001b[38;5;28;01mNone\u001b[39;00m))\n\u001b[0;32m    356\u001b[0m     \u001b[38;5;28;01mreturn\u001b[39;00m response\n",
      "File \u001b[1;32mc:\\Python312\\Lib\\site-packages\\selenium\\webdriver\\remote\\errorhandler.py:229\u001b[0m, in \u001b[0;36mErrorHandler.check_response\u001b[1;34m(self, response)\u001b[0m\n\u001b[0;32m    227\u001b[0m         alert_text \u001b[38;5;241m=\u001b[39m value[\u001b[38;5;124m\"\u001b[39m\u001b[38;5;124malert\u001b[39m\u001b[38;5;124m\"\u001b[39m]\u001b[38;5;241m.\u001b[39mget(\u001b[38;5;124m\"\u001b[39m\u001b[38;5;124mtext\u001b[39m\u001b[38;5;124m\"\u001b[39m)\n\u001b[0;32m    228\u001b[0m     \u001b[38;5;28;01mraise\u001b[39;00m exception_class(message, screen, stacktrace, alert_text)  \u001b[38;5;66;03m# type: ignore[call-arg]  # mypy is not smart enough here\u001b[39;00m\n\u001b[1;32m--> 229\u001b[0m \u001b[38;5;28;01mraise\u001b[39;00m exception_class(message, screen, stacktrace)\n",
      "\u001b[1;31mWebDriverException\u001b[0m: Message: Internal Server Error\n"
     ]
    }
   ],
   "source": [
    "is_last_page = False\n",
    "\n",
    "options = webdriver.ChromeOptions()\n",
    "# options.add_argument(\"start-maximized\")\n",
    "# options.add_argument('--version=128.0.6613.85')\n",
    "options.set_capability(\"browserVersion\", \"128\")\n",
    "options.set_capability(\"platformName\", \"Windows 10\")\n",
    "\n",
    "cnt_for_debug = 0\n",
    "while(not is_last_page):\n",
    "    if(cnt_for_debug == 12):\n",
    "        break\n",
    "    cnt_for_debug += 1\n",
    "    sbr_connection = ChromiumRemoteConnection(os.environ[\"SBR_WS_ENDPOINT\"], 'goog', 'chrome')\n",
    "    print('cur session --> ', sbr_connection)\n",
    "    driver = webdriver.Remote(command_executor=sbr_connection, options=options)\n",
    "    print('cur driver --> ',driver)\n",
    "    # driver.get('https://www.wongnai.com/restaurants?regions=843')\n",
    "    # driver.close()\n",
    "    # with Remote(sbr_connection, options=options) as driver:\n",
    "    #     print(\"Connect remote browser to province page...\")\n",
    "    #     print(\"check current page driver --> \", driver)\n",
    "    #     driver.get('https://www.wongnai.com/restaurants?regions=843')\n",
    "    #     print(\"check current page url --> \", driver.current_url)\n",
    "        # time.sleep(60*10)\n",
    "        # WebDriverWait(driver, 10).until(EC.presence_of_element_located((By.XPATH, '//*[@id=\"contentContainer\"]/div[1]/div[2]/div[2]/div[1]/div[2]/a[2]')))\n",
    "        # next_page_element = driver.find_element(By.XPATH, '//*[@id=\"contentContainer\"]/div[1]/div[2]/div[2]/div[1]/div[2]/a[2]')\n",
    "        # link_to_nextPage = next_page_element.get_attribute('href')\n",
    "        \n",
    "        # # after scrap everything in current page -> check if it is the lastpage\n",
    "        # if(not link_to_nextPage):\n",
    "        #     print('found laste page ? --> ', link_to_nextPage)\n",
    "        #     is_last_page = True\n",
    "        # # set new query to navigate to the next page in a new browser window(next iteration)\n",
    "        # cur_query_url = link_to_nextPage\n",
    "\n",
    "        # print(\"driver for page \", cnt_for_debug, ' closed')"
   ]
  },
  {
   "cell_type": "code",
   "execution_count": null,
   "metadata": {},
   "outputs": [],
   "source": []
  }
 ],
 "metadata": {
  "kernelspec": {
   "display_name": "Python 3",
   "language": "python",
   "name": "python3"
  },
  "language_info": {
   "codemirror_mode": {
    "name": "ipython",
    "version": 3
   },
   "file_extension": ".py",
   "mimetype": "text/x-python",
   "name": "python",
   "nbconvert_exporter": "python",
   "pygments_lexer": "ipython3",
   "version": "3.12.2"
  }
 },
 "nbformat": 4,
 "nbformat_minor": 2
}
