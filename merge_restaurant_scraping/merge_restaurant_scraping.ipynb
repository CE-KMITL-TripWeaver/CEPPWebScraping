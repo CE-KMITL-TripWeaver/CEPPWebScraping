{
 "cells": [
  {
   "cell_type": "code",
   "execution_count": 13,
   "metadata": {},
   "outputs": [],
   "source": [
    "import sys\n",
    "import os\n",
    "import glob\n",
    "import time\n",
    "import pandas as pd\n",
    "import ast\n",
    "\n",
    "sys.path.append('..')\n",
    "import constants.constants as const\n",
    "import constants.file_handler_constants as fh\n",
    "from constants.restaurant_constants import *\n",
    "\n",
    "from packages.restaurant.Restaurant import *\n",
    "from packages.file_handler_package.file_handler import *"
   ]
  },
  {
   "cell_type": "code",
   "execution_count": 14,
   "metadata": {},
   "outputs": [],
   "source": [
    "def map_type_tripAdvisor_to_wongnai(type: list[str], website:str) -> list[str]:\n",
    "    \n",
    "    if(\"tripadvisor.com\" not in website):\n",
    "        return\n",
    "\n",
    "    res_type = []\n",
    "    for cur_type in type:\n",
    "        find_type = TYPE_TRIPADVISOR_TO_WONGNAI_MAPPER.get(cur_type, 0)\n",
    "        if(find_type and find_type not in res_type):\n",
    "            res_type.append(find_type)\n",
    "    \n",
    "    return res_type.copy()"
   ]
  },
  {
   "cell_type": "code",
   "execution_count": 15,
   "metadata": {},
   "outputs": [
    {
     "name": "stdout",
     "output_type": "stream",
     "text": [
      "Directory res_merge_restaurant created successfully\n"
     ]
    }
   ],
   "source": [
    "# this module is use for merge dataframe of all page in selected province from 'mulProcess_restaurant_scraping_proxy'\n",
    "\n",
    "# ** select a province by index of 'ALL_RESTAURANTS_TRIPADVISOR_DATA' (manually)\n",
    "Idx_of_region = 0\n",
    "cur_region_data = ALL_RESTAURANTS_TRIPADVISOR_DATA[Idx_of_region]\n",
    "\n",
    "#\n",
    "cur_province_en = cur_region_data[0]\n",
    "\n",
    "all_res_scraping_province = glob.glob(os.path.join(fh.STORE_RESTAURANT_SCRAPING, \"res_restaurant_scraping\", 'res_restaurant_%s' % (cur_province_en), '*.csv'))\n",
    "\n",
    "res_merge_df = pd.DataFrame()\n",
    "for cur_page_path in all_res_scraping_province:\n",
    "    cur_page_df = pd.read_csv(cur_page_path)\n",
    "    res_merge_df = pd.concat([res_merge_df, cur_page_df])\n",
    "\n",
    "# remove duplicate attraction \n",
    "res_merge_df.drop_duplicates(subset=['name'], inplace=True)\n",
    "# remove row with missing latitude\n",
    "# Drop rows with 'latitude' or 'longitude' equal to 0\n",
    "res_merge_df = res_merge_df[(res_merge_df['latitude'] != 0) & (res_merge_df['longitude'] != 0)]\n",
    "res_merge_df = res_merge_df[(res_merge_df['latitude'].notnull()) & (res_merge_df['longitude'].notnull())]\n",
    "\n",
    "# map type from tripadvisor to wongnai\n",
    "res_merge_df['type'] = res_merge_df.apply(lambda x: map_type_tripAdvisor_to_wongnai(\n",
    "    type = ast.literal_eval(x['type']),\n",
    "    website = x['website']\n",
    "), axis=1)\n",
    "\n",
    "# set new index\n",
    "res_merge_df.set_index(['name'], inplace=True)\n",
    "\n",
    "# create directory to store result of merging restaurant by a province\n",
    "createDirectory(fh.STORE_MERGE_RESTAURANT_SCRAPING, 'res_merge_restaurant')\n",
    "\n",
    "# save result dataframe to .csv \n",
    "# for example: 'res_restaurant_Mukdahan_page_1_44.csv'\n",
    "res_file_name = 'res_merge_restaurant_%s.csv' % (cur_province_en)\n",
    "res_path = os.path.join(fh.STORE_MERGE_RESTAURANT_SCRAPING, 'res_merge_restaurant', res_file_name) \n",
    "res_merge_df.to_csv(res_path, encoding=\"utf-8\")\n"
   ]
  },
  {
   "cell_type": "code",
   "execution_count": null,
   "metadata": {},
   "outputs": [],
   "source": []
  }
 ],
 "metadata": {
  "kernelspec": {
   "display_name": "base",
   "language": "python",
   "name": "python3"
  },
  "language_info": {
   "codemirror_mode": {
    "name": "ipython",
    "version": 3
   },
   "file_extension": ".py",
   "mimetype": "text/x-python",
   "name": "python",
   "nbconvert_exporter": "python",
   "pygments_lexer": "ipython3",
   "version": "3.11.7"
  }
 },
 "nbformat": 4,
 "nbformat_minor": 2
}
