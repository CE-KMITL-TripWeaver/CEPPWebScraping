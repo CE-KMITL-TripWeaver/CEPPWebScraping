{
 "cells": [
  {
   "cell_type": "code",
   "execution_count": 1,
   "metadata": {},
   "outputs": [],
   "source": [
    "from bs4 import BeautifulSoup\n",
    "from selenium import webdriver\n",
    "import pyautogui\n",
    "import re\n",
    "from bs4 import BeautifulSoup\n",
    "import sys\n",
    "sys.path.append('..')\n",
    "import constants.constants as const\n",
    "import constants.file_handler_constants as fh\n",
    "from constants.restaurant_constants import *\n",
    "\n",
    "from packages.restaurant.Restaurant import *\n",
    "from packages.file_handler_package.file_handler import *\n",
    "from packages.restaurant.wongnai.mulProcess_restaurant_scraping_proxy import *\n",
    "\n",
    "import os\n",
    "import glob\n",
    "import time\n",
    "import pandas as pd\n",
    "import numpy as np\n",
    "from dotenv import load_dotenv, dotenv_values \n",
    "\n",
    "from multiprocessing import Pool\n",
    "from functools import partial"
   ]
  },
  {
   "cell_type": "code",
   "execution_count": null,
   "metadata": {},
   "outputs": [
    {
     "name": "stdout",
     "output_type": "stream",
     "text": [
      "check page number list: \n",
      "[1 2 3 4 5]\n"
     ]
    }
   ],
   "source": [
    "# *** following this step to use multiprocessing method for restaurant scraping with remote scraping browser\n",
    "# - select a province by index of 'ALL_REGION_ID_WONGNAI' (manually)\n",
    "# - find out which is the last page of a province in wongnai.com (manually)\n",
    "\n",
    "# ** select a province by index of 'ALL_REGION_ID_WONGNAI' (manually)\n",
    "Idx_of_region = 0\n",
    "cur_region_data = ALL_REGION_ID_WONGNAI[Idx_of_region]\n",
    "\n",
    "# ** select first and last page to scrape\n",
    "first_page = 1\n",
    "last_page = 5\n",
    "\n",
    "#\n",
    "cur_province_en = cur_region_data[0]\n",
    "cur_province_th = cur_region_data[1]\n",
    "cur_regionId = cur_region_data[2]\n",
    "\n",
    "# create list of : [1, 2, 3, ...., last_page]\n",
    "page_number_list = np.arange(first_page, last_page + 1)\n",
    "print(\"check page number list: \")\n",
    "print(page_number_list)\n",
    "\n",
    "# get list of dataframe result of all restaurants in a province\n",
    "# res_allRestaurants_list = []\n",
    "with Pool(processes=5) as pool: \n",
    "    func_param_fix = partial(mulProcess_helper_scrape_restaurants_by_province, province = cur_province_th, wongnai_regionId = cur_regionId)\n",
    "    res_allRestaurants_list = pool.map(func_param_fix, page_number_list)\n",
    "    print(\"end process for province --> %s \" % (cur_province_th))\n",
    "\n",
    "# concat all dataframe into a final dataframe to save in csv.\n",
    "res_allRestaurants_df = pd.DataFrame()\n",
    "print(\"check len of list result dataframe --> \", len(res_allRestaurants_list))\n",
    "for Idx, cur_df in list(enumerate(res_allRestaurants_list)):\n",
    "    print(\"cur_df --> page : \", Idx + first_page)\n",
    "    print(\"len cur_df --> \", len(cur_df))\n",
    "    res_allRestaurants_df = pd.concat([res_allRestaurants_df, cur_df])\n",
    "\n",
    "# remove duplicate restaurant \n",
    "res_allRestaurants_df.drop_duplicates(subset=['name', 'sub_name'], inplace=True)\n",
    "# set new index\n",
    "res_allRestaurants_df.set_index(['name', 'sub_name'], inplace=True)\n",
    "\n",
    "\n",
    "##### save result section\n",
    "\n",
    "# create directory to store result of scraping restautrant\n",
    "# for example: 'restaurant_scraping\\res_restaurant_scraping\\res_restaurant_Mukdahan'\n",
    "createDirectory(fh.STORE_RESTAURANT_SCRAPING, os.path.join('res_restaurant_scraping', 'res_restaurant_%s' % (cur_province_en)))\n",
    "\n",
    "# save result dataframe to .csv \n",
    "# for example: 'res_restaurant_Mukdahan_page_1_44.csv'\n",
    "res_file_name = 'res_restaurant_%s_page_%s_%s.csv' % (cur_province_en, first_page, last_page)\n",
    "res_path = os.path.join(fh.STORE_RESTAURANT_SCRAPING, 'res_restaurant_scraping', 'res_restaurant_%s' % (cur_province_en), res_file_name) \n",
    "res_allRestaurants_df.to_csv(res_path, encoding=\"utf-8\")\n",
    "    "
   ]
  },
  {
   "cell_type": "code",
   "execution_count": null,
   "metadata": {},
   "outputs": [],
   "source": []
  }
 ],
 "metadata": {
  "kernelspec": {
   "display_name": "Python 3",
   "language": "python",
   "name": "python3"
  },
  "language_info": {
   "codemirror_mode": {
    "name": "ipython",
    "version": 3
   },
   "file_extension": ".py",
   "mimetype": "text/x-python",
   "name": "python",
   "nbconvert_exporter": "python",
   "pygments_lexer": "ipython3",
   "version": "3.12.2"
  }
 },
 "nbformat": 4,
 "nbformat_minor": 2
}
