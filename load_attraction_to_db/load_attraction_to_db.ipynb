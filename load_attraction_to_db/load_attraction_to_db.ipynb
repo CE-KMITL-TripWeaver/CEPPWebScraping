{
 "cells": [
  {
   "cell_type": "code",
   "execution_count": 5,
   "metadata": {},
   "outputs": [],
   "source": [
    "import sys\n",
    "sys.path.append('..')\n",
    "import constants.constants as const\n",
    "import constants.file_handler_constants as fh\n",
    "from constants.attraction_constants import *\n",
    "\n",
    "from packages.attraction.Attraction import *\n",
    "from packages.file_handler_package.file_handler import *\n",
    "\n",
    "import os\n",
    "import glob\n",
    "import time\n",
    "import pandas as pd\n",
    "import ast\n",
    "import json\n",
    "import requests\n",
    "import ast"
   ]
  },
  {
   "cell_type": "code",
   "execution_count": 6,
   "metadata": {},
   "outputs": [],
   "source": [
    "path_to_res_merge_attraction_phuket = os.path.join(fh.STORE_FILL_ATTRACTION_TAG_SCORE, 'res_merge_attraction', 'res_merge_attraction_Phuket.csv')\n",
    "merge_attraction_phuket_df = pd.read_csv(path_to_res_merge_attraction_phuket)\n",
    "\n",
    "merge_attraction_phuket_df = merge_attraction_phuket_df.fillna('')"
   ]
  },
  {
   "cell_type": "code",
   "execution_count": null,
   "metadata": {},
   "outputs": [],
   "source": []
  },
  {
   "cell_type": "code",
   "execution_count": 7,
   "metadata": {},
   "outputs": [],
   "source": [
    "def create_payload(row: pd.Series) -> dict:\n",
    "\n",
    "    openingHour_list_payload = [{ \"day\": key, \"openingHour\": val } for key, val in ast.literal_eval(row['openingHour']).items()]\n",
    "\n",
    "    attractionTagFields_dict_payload = {cur_tag:row[cur_tag] for cur_tag in ATTRACTION_TAG_SCORE}\n",
    "\n",
    "    payload = {\n",
    "        \"name\": row['name'],\n",
    "        \"type\": ast.literal_eval(row['type']),\n",
    "        \"description\": row['description'],\n",
    "        \"latitude\": row['latitude'],\n",
    "        \"longitude\": row['longitude'],\n",
    "        \"imgPath\": ast.literal_eval(row['imgPath']),\n",
    "        \"phone\": row['phone'],\n",
    "        \"website\": row['website'],\n",
    "        \"openingHour\": openingHour_list_payload.copy(),\n",
    "        \"attractionTag\": {\n",
    "            \"attractionTagFields\": attractionTagFields_dict_payload.copy()\n",
    "        },\n",
    "        \"location\": {\n",
    "            \"address\": row['address'],\n",
    "            \"province\": row['province'],\n",
    "            \"province_code\": row['province_code'],\n",
    "            \"district\": row['district'],\n",
    "            \"district_code\": row['district_code'],\n",
    "            \"subDistrict\": row['subDistrict'],\n",
    "            \"sub_district_code\": row['sub_district_code']\n",
    "        },\n",
    "        \"rating\": {\n",
    "            \"score\": row['score'],\n",
    "            \"ratingCount\": row['ratingCount']\n",
    "        }\n",
    "    }\n",
    "\n",
    "    return payload.copy()"
   ]
  },
  {
   "cell_type": "code",
   "execution_count": null,
   "metadata": {},
   "outputs": [
    {
     "name": "stdout",
     "output_type": "stream",
     "text": [
      "{\"message\":\"An error occured while insert data attraction SyntaxError: Unexpected token 'a', \\\"name=%E0%B9\\\"... is not valid JSON\"}\n"
     ]
    }
   ],
   "source": [
    "for Idx, cur_row in merge_attraction_phuket_df.iterrows():\n",
    "\n",
    "    if(Idx == 1):\n",
    "        break\n",
    "\n",
    "    cur_payload = create_payload(row=cur_row)\n",
    "\n",
    "    try:\n",
    "        API_ENDPOINT = f\"{os.environ['TRIPWEAVER_API']}/api/attraction/create\"\n",
    "        post_request = requests.post(url=API_ENDPOINT, data=cur_payload)\n",
    "        print(post_request.text)\n",
    "        \n",
    "    except Exception as e:\n",
    "        print(\"POST api failed at --> \", cur_payload['name'])\n",
    "        print(e)"
   ]
  },
  {
   "cell_type": "code",
   "execution_count": null,
   "metadata": {},
   "outputs": [],
   "source": []
  }
 ],
 "metadata": {
  "kernelspec": {
   "display_name": "base",
   "language": "python",
   "name": "python3"
  },
  "language_info": {
   "codemirror_mode": {
    "name": "ipython",
    "version": 3
   },
   "file_extension": ".py",
   "mimetype": "text/x-python",
   "name": "python",
   "nbconvert_exporter": "python",
   "pygments_lexer": "ipython3",
   "version": "3.11.7"
  }
 },
 "nbformat": 4,
 "nbformat_minor": 2
}
